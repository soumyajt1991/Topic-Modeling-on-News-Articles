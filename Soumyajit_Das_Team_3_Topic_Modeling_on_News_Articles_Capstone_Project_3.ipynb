{
  "nbformat": 4,
  "nbformat_minor": 0,
  "metadata": {
    "kernelspec": {
      "display_name": "Python 3",
      "language": "python",
      "name": "python3"
    },
    "language_info": {
      "codemirror_mode": {
        "name": "ipython",
        "version": 3
      },
      "file_extension": ".py",
      "mimetype": "text/x-python",
      "name": "python",
      "nbconvert_exporter": "python",
      "pygments_lexer": "ipython3",
      "version": "3.6.6"
    },
    "colab": {
      "name": "Soumyajit Das - Team 3 - Topic Modeling on News Articles - Capstone Project 3.ipynb",
      "provenance": [],
      "collapsed_sections": [],
      "include_colab_link": true
    }
  },
  "cells": [
    {
      "cell_type": "markdown",
      "metadata": {
        "id": "view-in-github",
        "colab_type": "text"
      },
      "source": [
        "<a href=\"https://colab.research.google.com/github/soumyajt1991/Topic-Modeling-on-News-Articles/blob/main/Soumyajit_Das_Team_3_Topic_Modeling_on_News_Articles_Capstone_Project_3.ipynb\" target=\"_parent\"><img src=\"https://colab.research.google.com/assets/colab-badge.svg\" alt=\"Open In Colab\"/></a>"
      ]
    },
    {
      "cell_type": "markdown",
      "metadata": {
        "id": "tOGC-qoyhJeX"
      },
      "source": [
        "# <b><u> Project Title : Extraction/identification of major topics & themes discussed in news articles. </u></b>"
      ]
    },
    {
      "cell_type": "markdown",
      "metadata": {
        "id": "Y06xIdG26kRF"
      },
      "source": [
        "## <b> Problem Description </b>\n",
        "\n",
        "### In this project your task is to identify major themes/topics across a collection of BBC news articles. You can use clustering algorithms such as Latent Dirichlet Allocation (LDA), Latent Semantic Analysis (LSA) etc."
      ]
    },
    {
      "cell_type": "markdown",
      "metadata": {
        "id": "AlLxAtlziMbP"
      },
      "source": [
        "## <b> Data Description </b>\r\n",
        "\r\n",
        "### The dataset contains a set of news articles for each major segment consisting of business, entertainment, politics, sports and technology. You need to create an aggregate dataset of all the news articles and perform topic modeling on this dataset. Verify whether these topics correspond to the different tags available."
      ]
    },
    {
      "cell_type": "markdown",
      "metadata": {
        "id": "g6pyjNRhew4F"
      },
      "source": [
        "Consists of 2225 documents from the BBC news website corresponding to stories in five topical areas from 2004-2005.\r\n",
        "Natural Classes: 5 (business, entertainment, politics, sport, tech)\r\n"
      ]
    },
    {
      "cell_type": "code",
      "metadata": {
        "id": "dByMsuzT8Tnw",
        "colab": {
          "base_uri": "https://localhost:8080/"
        },
        "outputId": "87c52cd4-b7f5-449b-f077-59ab90c33d31"
      },
      "source": [
        "# mounting google drive\r\n",
        "from google.colab import drive\r\n",
        "drive.mount('/content/drive')"
      ],
      "execution_count": 1,
      "outputs": [
        {
          "output_type": "stream",
          "text": [
            "Drive already mounted at /content/drive; to attempt to forcibly remount, call drive.mount(\"/content/drive\", force_remount=True).\n"
          ],
          "name": "stdout"
        }
      ]
    },
    {
      "cell_type": "code",
      "metadata": {
        "colab": {
          "base_uri": "https://localhost:8080/"
        },
        "id": "_jOnxdDnhAdh",
        "outputId": "d374fdc9-5fa0-4f26-aac9-135f77c80d17"
      },
      "source": [
        "import pandas as pd\r\n",
        "import numpy as np\r\n",
        "import string\r\n",
        "import glob\r\n",
        "import os\r\n",
        "import matplotlib.pyplot as plt\r\n",
        "import seaborn as sns\r\n",
        "import nltk\r\n",
        "from nltk.corpus import stopwords\r\n",
        "from sklearn.feature_extraction.text import TfidfVectorizer\r\n",
        "from wordcloud import WordCloud\r\n",
        "from sklearn.feature_extraction.text import CountVectorizer\r\n",
        "import spacy\r\n",
        "nltk.download('stopwords')"
      ],
      "execution_count": 1,
      "outputs": [
        {
          "output_type": "stream",
          "text": [
            "[nltk_data] Downloading package stopwords to /root/nltk_data...\n",
            "[nltk_data]   Package stopwords is already up-to-date!\n"
          ],
          "name": "stdout"
        },
        {
          "output_type": "execute_result",
          "data": {
            "text/plain": [
              "True"
            ]
          },
          "metadata": {
            "tags": []
          },
          "execution_count": 1
        }
      ]
    },
    {
      "cell_type": "code",
      "metadata": {
        "id": "Ek0N3J6_5cBT"
      },
      "source": [
        "news=[]\r\n",
        "topics=[]\r\n",
        "\r\n",
        "path=\"/content/drive/MyDrive/AlmaBetter/Cohort Aravali/Module 4/Week 4/Day 1/bbc/\"\r\n",
        "\r\n",
        "folders=['business','entertainment','politics','sport','tech'] \r\n",
        "\r\n",
        "for i in folders:\r\n",
        "    all_files=os.listdir(path+i)\r\n",
        "    for txt_files in all_files:\r\n",
        "        files_path=path+i+'/'+txt_files\r\n",
        "        with open(files_path,'rb') as f:\r\n",
        "            text=f.read()\r\n",
        "        news.append(text)\r\n",
        "        topics.append(i)\r\n",
        "\r\n",
        "bbc = {'news':news,'topics':topics}\r\n",
        "bbc = pd.DataFrame(bbc)"
      ],
      "execution_count": 3,
      "outputs": []
    },
    {
      "cell_type": "code",
      "metadata": {
        "colab": {
          "base_uri": "https://localhost:8080/",
          "height": 204
        },
        "id": "_s2QxOy48FSU",
        "outputId": "b5f8420d-47cd-4b4f-f2b9-11e44fa6e09a"
      },
      "source": [
        "bbc.head()"
      ],
      "execution_count": 4,
      "outputs": [
        {
          "output_type": "execute_result",
          "data": {
            "text/html": [
              "<div>\n",
              "<style scoped>\n",
              "    .dataframe tbody tr th:only-of-type {\n",
              "        vertical-align: middle;\n",
              "    }\n",
              "\n",
              "    .dataframe tbody tr th {\n",
              "        vertical-align: top;\n",
              "    }\n",
              "\n",
              "    .dataframe thead th {\n",
              "        text-align: right;\n",
              "    }\n",
              "</style>\n",
              "<table border=\"1\" class=\"dataframe\">\n",
              "  <thead>\n",
              "    <tr style=\"text-align: right;\">\n",
              "      <th></th>\n",
              "      <th>news</th>\n",
              "      <th>topics</th>\n",
              "    </tr>\n",
              "  </thead>\n",
              "  <tbody>\n",
              "    <tr>\n",
              "      <th>0</th>\n",
              "      <td>b'India calls for fair trade rules\\n\\nIndia, w...</td>\n",
              "      <td>business</td>\n",
              "    </tr>\n",
              "    <tr>\n",
              "      <th>1</th>\n",
              "      <td>b'Steel firm \\'to cut\\' 45,000 jobs\\n\\nMittal ...</td>\n",
              "      <td>business</td>\n",
              "    </tr>\n",
              "    <tr>\n",
              "      <th>2</th>\n",
              "      <td>b'Call centre users \\'lose patience\\'\\n\\nCusto...</td>\n",
              "      <td>business</td>\n",
              "    </tr>\n",
              "    <tr>\n",
              "      <th>3</th>\n",
              "      <td>b'Ethiopia\\'s crop production up 24%\\n\\nEthiop...</td>\n",
              "      <td>business</td>\n",
              "    </tr>\n",
              "    <tr>\n",
              "      <th>4</th>\n",
              "      <td>b\"Safety alert as GM recalls cars\\n\\nThe world...</td>\n",
              "      <td>business</td>\n",
              "    </tr>\n",
              "  </tbody>\n",
              "</table>\n",
              "</div>"
            ],
            "text/plain": [
              "                                                news    topics\n",
              "0  b'India calls for fair trade rules\\n\\nIndia, w...  business\n",
              "1  b'Steel firm \\'to cut\\' 45,000 jobs\\n\\nMittal ...  business\n",
              "2  b'Call centre users \\'lose patience\\'\\n\\nCusto...  business\n",
              "3  b'Ethiopia\\'s crop production up 24%\\n\\nEthiop...  business\n",
              "4  b\"Safety alert as GM recalls cars\\n\\nThe world...  business"
            ]
          },
          "metadata": {
            "tags": []
          },
          "execution_count": 4
        }
      ]
    },
    {
      "cell_type": "code",
      "metadata": {
        "colab": {
          "base_uri": "https://localhost:8080/"
        },
        "id": "9GFokeHatGpe",
        "outputId": "c390eca6-44ce-4b72-d015-7a9d79ad1ed4"
      },
      "source": [
        "bbc.shape"
      ],
      "execution_count": 12,
      "outputs": [
        {
          "output_type": "execute_result",
          "data": {
            "text/plain": [
              "(2225, 2)"
            ]
          },
          "metadata": {
            "tags": []
          },
          "execution_count": 12
        }
      ]
    },
    {
      "cell_type": "code",
      "metadata": {
        "colab": {
          "base_uri": "https://localhost:8080/"
        },
        "id": "Q-p75K-bDlF9",
        "outputId": "e89c4ce4-5a74-4c30-c7b7-499545ffc004"
      },
      "source": [
        "bbc.news[0]"
      ],
      "execution_count": 28,
      "outputs": [
        {
          "output_type": "execute_result",
          "data": {
            "text/plain": [
              "b'India calls for fair trade rules\\n\\nIndia, which attends the G7 meeting of seven leading industrialised nations on Friday, is unlikely to be cowed by its newcomer status.\\n\\nIn London on Thursday ahead of the meeting, India\\'s finance minister, lashed out at the restrictive trade policies of the G7 nations. He objected to subsidies on agriculture that make it hard for developing nations like India to compete. He also called for reform of the United Nations, the World Bank and the IMF.\\n\\nPalaniappan Chidambaram, India\\'s finance minister, argued that these organisations need to take into account the changing world order, given India and China\\'s integration into the global economy. He said the issue is not globalisation but \"the terms of engagement in globalisation.\" Mr Chidambaram is attending the G7 meeting as part of the G20 group of nations, which account for two thirds of the world\\'s population. At a conference on developing enterprise hosted by UK finance minister Gordon Brown on Friday, he said that he was in favour of floating exchange rates because they help countries cope with economic shocks. \"A flexible exchange rate is one more channel for absorbing both positive and negative shocks,\" he told the conference. India, along with China, Brazil, South Africa and Russia, has been invited to take part in the G7 meeting taking place in London on Friday and Saturday. China is expected to face renewed pressure to abandon its fixed exchange rate, which G7 nations, in particular the US, have blamed for a surge in cheap Chinese exports. \"Some countries have tried to use fixed exchange rates. I do not wish to make any judgements,\" Mr Chidambaram said. Separately, the IMF warned on Thursday that India\\'s budget deficit was too large and would hamper the country\\'s economic growth, which it forecast to be around 6.5% in the year to March 2005. In the year to March 2004, the Indian economy grew by 8.5%.\\n'"
            ]
          },
          "metadata": {
            "tags": []
          },
          "execution_count": 28
        }
      ]
    },
    {
      "cell_type": "code",
      "metadata": {
        "colab": {
          "base_uri": "https://localhost:8080/"
        },
        "id": "JfIz-bQn_Bn1",
        "outputId": "d544f04c-7b0d-4e96-e673-317fbad9f7ae"
      },
      "source": [
        "bbc.info()"
      ],
      "execution_count": 13,
      "outputs": [
        {
          "output_type": "stream",
          "text": [
            "<class 'pandas.core.frame.DataFrame'>\n",
            "RangeIndex: 2225 entries, 0 to 2224\n",
            "Data columns (total 2 columns):\n",
            " #   Column  Non-Null Count  Dtype \n",
            "---  ------  --------------  ----- \n",
            " 0   news    2225 non-null   object\n",
            " 1   topics  2225 non-null   object\n",
            "dtypes: object(2)\n",
            "memory usage: 34.9+ KB\n"
          ],
          "name": "stdout"
        }
      ]
    },
    {
      "cell_type": "code",
      "metadata": {
        "colab": {
          "base_uri": "https://localhost:8080/",
          "height": 111
        },
        "id": "YVtva5GZ_EUA",
        "outputId": "6d51fc31-3df3-4e6c-c0f9-106ff9e5e432"
      },
      "source": [
        "bbc.describe(include='all').T"
      ],
      "execution_count": 14,
      "outputs": [
        {
          "output_type": "execute_result",
          "data": {
            "text/html": [
              "<div>\n",
              "<style scoped>\n",
              "    .dataframe tbody tr th:only-of-type {\n",
              "        vertical-align: middle;\n",
              "    }\n",
              "\n",
              "    .dataframe tbody tr th {\n",
              "        vertical-align: top;\n",
              "    }\n",
              "\n",
              "    .dataframe thead th {\n",
              "        text-align: right;\n",
              "    }\n",
              "</style>\n",
              "<table border=\"1\" class=\"dataframe\">\n",
              "  <thead>\n",
              "    <tr style=\"text-align: right;\">\n",
              "      <th></th>\n",
              "      <th>count</th>\n",
              "      <th>unique</th>\n",
              "      <th>top</th>\n",
              "      <th>freq</th>\n",
              "    </tr>\n",
              "  </thead>\n",
              "  <tbody>\n",
              "    <tr>\n",
              "      <th>news</th>\n",
              "      <td>2225</td>\n",
              "      <td>2127</td>\n",
              "      <td>b'Brown outlines third term vision\\n\\nGordon B...</td>\n",
              "      <td>2</td>\n",
              "    </tr>\n",
              "    <tr>\n",
              "      <th>topics</th>\n",
              "      <td>2225</td>\n",
              "      <td>5</td>\n",
              "      <td>sport</td>\n",
              "      <td>511</td>\n",
              "    </tr>\n",
              "  </tbody>\n",
              "</table>\n",
              "</div>"
            ],
            "text/plain": [
              "       count unique                                                top freq\n",
              "news    2225   2127  b'Brown outlines third term vision\\n\\nGordon B...    2\n",
              "topics  2225      5                                              sport  511"
            ]
          },
          "metadata": {
            "tags": []
          },
          "execution_count": 14
        }
      ]
    },
    {
      "cell_type": "code",
      "metadata": {
        "colab": {
          "base_uri": "https://localhost:8080/"
        },
        "id": "oxpRFj6l_EOA",
        "outputId": "c77a7283-34eb-42c5-e1da-aa81c1ed3440"
      },
      "source": [
        "len(bbc[bbc.duplicated()])"
      ],
      "execution_count": 5,
      "outputs": [
        {
          "output_type": "execute_result",
          "data": {
            "text/plain": [
              "98"
            ]
          },
          "metadata": {
            "tags": []
          },
          "execution_count": 5
        }
      ]
    },
    {
      "cell_type": "code",
      "metadata": {
        "id": "1Xl9gMt0_fy6"
      },
      "source": [
        "# removing duplicate observations\r\n",
        "bbc=bbc.drop_duplicates()"
      ],
      "execution_count": 6,
      "outputs": []
    },
    {
      "cell_type": "code",
      "metadata": {
        "colab": {
          "base_uri": "https://localhost:8080/"
        },
        "id": "4Ef1bUOm_iRe",
        "outputId": "38748a20-1768-46d2-c808-353b6bdfda52"
      },
      "source": [
        "bbc.shape"
      ],
      "execution_count": 17,
      "outputs": [
        {
          "output_type": "execute_result",
          "data": {
            "text/plain": [
              "(2127, 2)"
            ]
          },
          "metadata": {
            "tags": []
          },
          "execution_count": 17
        }
      ]
    },
    {
      "cell_type": "code",
      "metadata": {
        "colab": {
          "base_uri": "https://localhost:8080/"
        },
        "id": "d2cpG1PSAslm",
        "outputId": "1857c30c-7515-4e23-f201-65287faddea6"
      },
      "source": [
        "bbc.topics.value_counts()"
      ],
      "execution_count": null,
      "outputs": [
        {
          "output_type": "execute_result",
          "data": {
            "text/plain": [
              "3    511\n",
              "0    510\n",
              "2    417\n",
              "4    401\n",
              "1    386\n",
              "Name: label, dtype: int64"
            ]
          },
          "metadata": {
            "tags": []
          },
          "execution_count": 13
        }
      ]
    },
    {
      "cell_type": "code",
      "metadata": {
        "colab": {
          "base_uri": "https://localhost:8080/"
        },
        "id": "TvOKJedV_oSn",
        "outputId": "ff2d35ca-ba04-4b23-f1a1-f2f819ea5d7b"
      },
      "source": [
        "bbc.topics.value_counts(normalize=True)*100"
      ],
      "execution_count": 20,
      "outputs": [
        {
          "output_type": "execute_result",
          "data": {
            "text/plain": [
              "sport            23.742360\n",
              "business         23.648331\n",
              "politics         18.946874\n",
              "entertainment    17.348378\n",
              "tech             16.314057\n",
              "Name: topics, dtype: float64"
            ]
          },
          "metadata": {
            "tags": []
          },
          "execution_count": 20
        }
      ]
    },
    {
      "cell_type": "code",
      "metadata": {
        "colab": {
          "base_uri": "https://localhost:8080/",
          "height": 279
        },
        "id": "ctPgdn4PCB5c",
        "outputId": "7341f35d-0979-43e9-9897-23ed9d6355c0"
      },
      "source": [
        "import warnings \r\n",
        "warnings.filterwarnings(\"ignore\")\r\n",
        "sns.countplot(bbc['topics'], data=bbc)\r\n",
        "plt.show()"
      ],
      "execution_count": 25,
      "outputs": [
        {
          "output_type": "display_data",
          "data": {
            "image/png": "[encoded data removed]",
            "text/plain": [
              "<Figure size 432x288 with 1 Axes>"
            ]
          },
          "metadata": {
            "tags": [],
            "needs_background": "light"
          }
        }
      ]
    },
    {
      "cell_type": "code",
      "metadata": {
        "id": "oIesUCtwECdi"
      },
      "source": [
        "bbc1=bbc.copy()"
      ],
      "execution_count": 7,
      "outputs": []
    },
    {
      "cell_type": "code",
      "metadata": {
        "id": "kxgBMjW1Gtlq"
      },
      "source": [
        "# creating a column 'length' for total length of strings in each message\r\n",
        "bbc1['length']=bbc1['news'].apply(len)"
      ],
      "execution_count": 8,
      "outputs": []
    },
    {
      "cell_type": "code",
      "metadata": {
        "colab": {
          "base_uri": "https://localhost:8080/",
          "height": 204
        },
        "id": "wwiDNkGmG6Ak",
        "outputId": "5d9e1508-5fe7-43ed-b535-9e37f373fc63"
      },
      "source": [
        "bbc1.head()"
      ],
      "execution_count": 36,
      "outputs": [
        {
          "output_type": "execute_result",
          "data": {
            "text/html": [
              "<div>\n",
              "<style scoped>\n",
              "    .dataframe tbody tr th:only-of-type {\n",
              "        vertical-align: middle;\n",
              "    }\n",
              "\n",
              "    .dataframe tbody tr th {\n",
              "        vertical-align: top;\n",
              "    }\n",
              "\n",
              "    .dataframe thead th {\n",
              "        text-align: right;\n",
              "    }\n",
              "</style>\n",
              "<table border=\"1\" class=\"dataframe\">\n",
              "  <thead>\n",
              "    <tr style=\"text-align: right;\">\n",
              "      <th></th>\n",
              "      <th>news</th>\n",
              "      <th>topics</th>\n",
              "      <th>length</th>\n",
              "    </tr>\n",
              "  </thead>\n",
              "  <tbody>\n",
              "    <tr>\n",
              "      <th>0</th>\n",
              "      <td>b'India calls for fair trade rules\\n\\nIndia, w...</td>\n",
              "      <td>business</td>\n",
              "      <td>1922</td>\n",
              "    </tr>\n",
              "    <tr>\n",
              "      <th>1</th>\n",
              "      <td>b'Steel firm \\'to cut\\' 45,000 jobs\\n\\nMittal ...</td>\n",
              "      <td>business</td>\n",
              "      <td>1620</td>\n",
              "    </tr>\n",
              "    <tr>\n",
              "      <th>2</th>\n",
              "      <td>b'Call centre users \\'lose patience\\'\\n\\nCusto...</td>\n",
              "      <td>business</td>\n",
              "      <td>3854</td>\n",
              "    </tr>\n",
              "    <tr>\n",
              "      <th>3</th>\n",
              "      <td>b'Ethiopia\\'s crop production up 24%\\n\\nEthiop...</td>\n",
              "      <td>business</td>\n",
              "      <td>1494</td>\n",
              "    </tr>\n",
              "    <tr>\n",
              "      <th>4</th>\n",
              "      <td>b\"Safety alert as GM recalls cars\\n\\nThe world...</td>\n",
              "      <td>business</td>\n",
              "      <td>1829</td>\n",
              "    </tr>\n",
              "  </tbody>\n",
              "</table>\n",
              "</div>"
            ],
            "text/plain": [
              "                                                news    topics  length\n",
              "0  b'India calls for fair trade rules\\n\\nIndia, w...  business    1922\n",
              "1  b'Steel firm \\'to cut\\' 45,000 jobs\\n\\nMittal ...  business    1620\n",
              "2  b'Call centre users \\'lose patience\\'\\n\\nCusto...  business    3854\n",
              "3  b'Ethiopia\\'s crop production up 24%\\n\\nEthiop...  business    1494\n",
              "4  b\"Safety alert as GM recalls cars\\n\\nThe world...  business    1829"
            ]
          },
          "metadata": {
            "tags": []
          },
          "execution_count": 36
        }
      ]
    },
    {
      "cell_type": "code",
      "metadata": {
        "colab": {
          "base_uri": "https://localhost:8080/",
          "height": 279
        },
        "id": "LoCf-AKBHp3g",
        "outputId": "1750e71c-decb-4532-b423-2416df7b6289"
      },
      "source": [
        "# distplot\r\n",
        "sns.distplot(bbc1['length'])\r\n",
        "plt.show()"
      ],
      "execution_count": 41,
      "outputs": [
        {
          "output_type": "display_data",
          "data": {
            "image/png": "[encoded data removed]",
            "text/plain": [
              "<Figure size 432x288 with 1 Axes>"
            ]
          },
          "metadata": {
            "tags": [],
            "needs_background": "light"
          }
        }
      ]
    },
    {
      "cell_type": "code",
      "metadata": {
        "colab": {
          "base_uri": "https://localhost:8080/",
          "height": 279
        },
        "id": "CcPFnWaIKsBH",
        "outputId": "a980092a-46ef-45b2-d09c-b3aaafa1af04"
      },
      "source": [
        "# distplot\r\n",
        "bbc1_sport=bbc1[bbc1.topics=='sport']\r\n",
        "sns.distplot(bbc1_sport['length'])\r\n",
        "plt.show()"
      ],
      "execution_count": 58,
      "outputs": [
        {
          "output_type": "display_data",
          "data": {
            "image/png": "[encoded data removed]",
            "text/plain": [
              "<Figure size 432x288 with 1 Axes>"
            ]
          },
          "metadata": {
            "tags": [],
            "needs_background": "light"
          }
        }
      ]
    },
    {
      "cell_type": "code",
      "metadata": {
        "id": "_jEOK49AO3o4"
      },
      "source": [
        "bbc1['news'] = bbc1['news'].astype('str') "
      ],
      "execution_count": 9,
      "outputs": []
    },
    {
      "cell_type": "code",
      "metadata": {
        "id": "u2-YS2yhcQRt"
      },
      "source": [
        "# removing punctutations"
      ],
      "execution_count": 82,
      "outputs": []
    },
    {
      "cell_type": "code",
      "metadata": {
        "id": "9DnINpn1dXOx"
      },
      "source": [
        "def remove_punctuation(text):\r\n",
        "    '''a function for removing punctuation'''\r\n",
        "    import string\r\n",
        "    # replacing the punctuations with no space, \r\n",
        "    # which in effect deletes the punctuation marks \r\n",
        "    translator = str.maketrans('', '', string.punctuation)\r\n",
        "    # return the text stripped of punctuation marks\r\n",
        "    return text.translate(translator)"
      ],
      "execution_count": 10,
      "outputs": []
    },
    {
      "cell_type": "code",
      "metadata": {
        "colab": {
          "base_uri": "https://localhost:8080/",
          "height": 137
        },
        "id": "D0gQzHXYdXJ8",
        "outputId": "0cf226ca-52a7-4855-a12e-348152b4a5e8"
      },
      "source": [
        "bbc1['news'] = bbc1['news'].apply(remove_punctuation)\r\n",
        "bbc1.news[0]"
      ],
      "execution_count": 11,
      "outputs": [
        {
          "output_type": "execute_result",
          "data": {
            "application/vnd.google.colaboratory.intrinsic+json": {
              "type": "string"
            },
            "text/plain": [
              "'bIndia calls for fair trade rulesnnIndia which attends the G7 meeting of seven leading industrialised nations on Friday is unlikely to be cowed by its newcomer statusnnIn London on Thursday ahead of the meeting Indias finance minister lashed out at the restrictive trade policies of the G7 nations He objected to subsidies on agriculture that make it hard for developing nations like India to compete He also called for reform of the United Nations the World Bank and the IMFnnPalaniappan Chidambaram Indias finance minister argued that these organisations need to take into account the changing world order given India and Chinas integration into the global economy He said the issue is not globalisation but the terms of engagement in globalisation Mr Chidambaram is attending the G7 meeting as part of the G20 group of nations which account for two thirds of the worlds population At a conference on developing enterprise hosted by UK finance minister Gordon Brown on Friday he said that he was in favour of floating exchange rates because they help countries cope with economic shocks A flexible exchange rate is one more channel for absorbing both positive and negative shocks he told the conference India along with China Brazil South Africa and Russia has been invited to take part in the G7 meeting taking place in London on Friday and Saturday China is expected to face renewed pressure to abandon its fixed exchange rate which G7 nations in particular the US have blamed for a surge in cheap Chinese exports Some countries have tried to use fixed exchange rates I do not wish to make any judgements Mr Chidambaram said Separately the IMF warned on Thursday that Indias budget deficit was too large and would hamper the countrys economic growth which it forecast to be around 65 in the year to March 2005 In the year to March 2004 the Indian economy grew by 85n'"
            ]
          },
          "metadata": {
            "tags": []
          },
          "execution_count": 11
        }
      ]
    },
    {
      "cell_type": "code",
      "metadata": {
        "colab": {
          "base_uri": "https://localhost:8080/"
        },
        "id": "kYcvKjvleZEM",
        "outputId": "99d18015-13af-4621-be79-e79234c05293"
      },
      "source": [
        "len(bbc1.news[0])"
      ],
      "execution_count": 12,
      "outputs": [
        {
          "output_type": "execute_result",
          "data": {
            "text/plain": [
              "1870"
            ]
          },
          "metadata": {
            "tags": []
          },
          "execution_count": 12
        }
      ]
    },
    {
      "cell_type": "code",
      "metadata": {
        "id": "ZqB8cZM0dXFt"
      },
      "source": [
        "# removing stopwords"
      ],
      "execution_count": 13,
      "outputs": []
    },
    {
      "cell_type": "code",
      "metadata": {
        "id": "3fG7YDJGdXBf"
      },
      "source": [
        "stop_words = stopwords.words('english')"
      ],
      "execution_count": 14,
      "outputs": []
    },
    {
      "cell_type": "code",
      "metadata": {
        "id": "68TL4fR3dW9E"
      },
      "source": [
        "def stopwords(text):\r\n",
        "    '''a function for removing the stopword'''\r\n",
        "    # removing the stop words and lowercasing the selected words\r\n",
        "    text = [wd.lower() for wd in text.split() if wd.lower() not in stop_words]\r\n",
        "    # joining the list of words with space separator\r\n",
        "    return \" \".join(text)"
      ],
      "execution_count": 15,
      "outputs": []
    },
    {
      "cell_type": "code",
      "metadata": {
        "colab": {
          "base_uri": "https://localhost:8080/",
          "height": 137
        },
        "id": "2jXcfZp6eDIi",
        "outputId": "302992e6-3579-42e7-82b0-a4747db553af"
      },
      "source": [
        "bbc1['news'] = bbc1['news'].apply(stopwords)\r\n",
        "bbc1.news[0]"
      ],
      "execution_count": 16,
      "outputs": [
        {
          "output_type": "execute_result",
          "data": {
            "application/vnd.google.colaboratory.intrinsic+json": {
              "type": "string"
            },
            "text/plain": [
              "'bindia calls fair trade rulesnnindia attends g7 meeting seven leading industrialised nations friday unlikely cowed newcomer statusnnin london thursday ahead meeting indias finance minister lashed restrictive trade policies g7 nations objected subsidies agriculture make hard developing nations like india compete also called reform united nations world bank imfnnpalaniappan chidambaram indias finance minister argued organisations need take account changing world order given india chinas integration global economy said issue globalisation terms engagement globalisation mr chidambaram attending g7 meeting part g20 group nations account two thirds worlds population conference developing enterprise hosted uk finance minister gordon brown friday said favour floating exchange rates help countries cope economic shocks flexible exchange rate one channel absorbing positive negative shocks told conference india along china brazil south africa russia invited take part g7 meeting taking place london friday saturday china expected face renewed pressure abandon fixed exchange rate g7 nations particular us blamed surge cheap chinese exports countries tried use fixed exchange rates wish make judgements mr chidambaram said separately imf warned thursday indias budget deficit large would hamper countrys economic growth forecast around 65 year march 2005 year march 2004 indian economy grew 85n'"
            ]
          },
          "metadata": {
            "tags": []
          },
          "execution_count": 16
        }
      ]
    },
    {
      "cell_type": "code",
      "metadata": {
        "colab": {
          "base_uri": "https://localhost:8080/"
        },
        "id": "t9N5WB62eDEg",
        "outputId": "6b52c43b-7a6c-4f5a-bae8-f5d12fe01259"
      },
      "source": [
        "len(bbc1.news[0])"
      ],
      "execution_count": 17,
      "outputs": [
        {
          "output_type": "execute_result",
          "data": {
            "text/plain": [
              "1395"
            ]
          },
          "metadata": {
            "tags": []
          },
          "execution_count": 17
        }
      ]
    },
    {
      "cell_type": "code",
      "metadata": {
        "id": "iJvqZ0TzeC1f"
      },
      "source": [
        "# stemming"
      ],
      "execution_count": 18,
      "outputs": []
    },
    {
      "cell_type": "code",
      "metadata": {
        "id": "IF6UZWEteCxf"
      },
      "source": [
        "from nltk.stem.snowball import SnowballStemmer\r\n",
        "stemmer = SnowballStemmer(\"english\")\r\n",
        "\r\n",
        "def stemming(text):    \r\n",
        "    '''a function which stems each word in the given text'''\r\n",
        "    text = [stemmer.stem(word) for word in text.split()]\r\n",
        "    return \" \".join(text) "
      ],
      "execution_count": 20,
      "outputs": []
    },
    {
      "cell_type": "code",
      "metadata": {
        "colab": {
          "base_uri": "https://localhost:8080/",
          "height": 137
        },
        "id": "pFEDWLO4eCt1",
        "outputId": "3afd23ac-ecba-43c5-9d2a-78dfb689fdb5"
      },
      "source": [
        "bbc1['news'] = bbc1['news'].apply(stemming)\r\n",
        "bbc1.news[0]"
      ],
      "execution_count": 21,
      "outputs": [
        {
          "output_type": "execute_result",
          "data": {
            "application/vnd.google.colaboratory.intrinsic+json": {
              "type": "string"
            },
            "text/plain": [
              "'bindia call fair trade rulesnnindia attend g7 meet seven lead industrialis nation friday unlik cow newcom statusnnin london thursday ahead meet india financ minist lash restrict trade polici g7 nation object subsidi agricultur make hard develop nation like india compet also call reform unit nation world bank imfnnpalaniappan chidambaram india financ minist argu organis need take account chang world order given india china integr global economi said issu globalis term engag globalis mr chidambaram attend g7 meet part g20 group nation account two third world popul confer develop enterpris host uk financ minist gordon brown friday said favour float exchang rate help countri cope econom shock flexibl exchang rate one channel absorb posit negat shock told confer india along china brazil south africa russia invit take part g7 meet take place london friday saturday china expect face renew pressur abandon fix exchang rate g7 nation particular us blame surg cheap chines export countri tri use fix exchang rate wish make judgement mr chidambaram said separ imf warn thursday india budget deficit larg would hamper countri econom growth forecast around 65 year march 2005 year march 2004 indian economi grew 85n'"
            ]
          },
          "metadata": {
            "tags": []
          },
          "execution_count": 21
        }
      ]
    },
    {
      "cell_type": "code",
      "metadata": {
        "colab": {
          "base_uri": "https://localhost:8080/"
        },
        "id": "z6MhZUXXeCpB",
        "outputId": "468a09b0-6ad8-4efc-9c48-559a2cc94fc3"
      },
      "source": [
        "len(bbc1.news[0])"
      ],
      "execution_count": 22,
      "outputs": [
        {
          "output_type": "execute_result",
          "data": {
            "text/plain": [
              "1215"
            ]
          },
          "metadata": {
            "tags": []
          },
          "execution_count": 22
        }
      ]
    },
    {
      "cell_type": "code",
      "metadata": {
        "colab": {
          "base_uri": "https://localhost:8080/",
          "height": 204
        },
        "id": "ii64FiOZeCls",
        "outputId": "af70733f-9a26-4bff-abe9-058731fda469"
      },
      "source": [
        "bbc1['final_length']=bbc1['news'].apply(len)\r\n",
        "bbc1.head()"
      ],
      "execution_count": 23,
      "outputs": [
        {
          "output_type": "execute_result",
          "data": {
            "text/html": [
              "<div>\n",
              "<style scoped>\n",
              "    .dataframe tbody tr th:only-of-type {\n",
              "        vertical-align: middle;\n",
              "    }\n",
              "\n",
              "    .dataframe tbody tr th {\n",
              "        vertical-align: top;\n",
              "    }\n",
              "\n",
              "    .dataframe thead th {\n",
              "        text-align: right;\n",
              "    }\n",
              "</style>\n",
              "<table border=\"1\" class=\"dataframe\">\n",
              "  <thead>\n",
              "    <tr style=\"text-align: right;\">\n",
              "      <th></th>\n",
              "      <th>news</th>\n",
              "      <th>topics</th>\n",
              "      <th>length</th>\n",
              "      <th>final_length</th>\n",
              "    </tr>\n",
              "  </thead>\n",
              "  <tbody>\n",
              "    <tr>\n",
              "      <th>0</th>\n",
              "      <td>bindia call fair trade rulesnnindia attend g7 ...</td>\n",
              "      <td>business</td>\n",
              "      <td>1922</td>\n",
              "      <td>1215</td>\n",
              "    </tr>\n",
              "    <tr>\n",
              "      <th>1</th>\n",
              "      <td>bsteel firm cut 45000 jobsnnmitt steel one wor...</td>\n",
              "      <td>business</td>\n",
              "      <td>1620</td>\n",
              "      <td>1048</td>\n",
              "    </tr>\n",
              "    <tr>\n",
              "      <th>2</th>\n",
              "      <td>bcall centr user lose patiencenncustom tri get...</td>\n",
              "      <td>business</td>\n",
              "      <td>3854</td>\n",
              "      <td>2259</td>\n",
              "    </tr>\n",
              "    <tr>\n",
              "      <th>3</th>\n",
              "      <td>bethiopia crop product 24nnethiopia produc 142...</td>\n",
              "      <td>business</td>\n",
              "      <td>1494</td>\n",
              "      <td>1025</td>\n",
              "    </tr>\n",
              "    <tr>\n",
              "      <th>4</th>\n",
              "      <td>bsafeti alert gm recal carsnnth world biggest ...</td>\n",
              "      <td>business</td>\n",
              "      <td>1829</td>\n",
              "      <td>1223</td>\n",
              "    </tr>\n",
              "  </tbody>\n",
              "</table>\n",
              "</div>"
            ],
            "text/plain": [
              "                                                news  ... final_length\n",
              "0  bindia call fair trade rulesnnindia attend g7 ...  ...         1215\n",
              "1  bsteel firm cut 45000 jobsnnmitt steel one wor...  ...         1048\n",
              "2  bcall centr user lose patiencenncustom tri get...  ...         2259\n",
              "3  bethiopia crop product 24nnethiopia produc 142...  ...         1025\n",
              "4  bsafeti alert gm recal carsnnth world biggest ...  ...         1223\n",
              "\n",
              "[5 rows x 4 columns]"
            ]
          },
          "metadata": {
            "tags": []
          },
          "execution_count": 23
        }
      ]
    },
    {
      "cell_type": "code",
      "metadata": {
        "id": "muvBMOoveCiS"
      },
      "source": [
        "bbc1_business = bbc1[bbc1['topics'] == 'business']\r\n",
        "bbc1_entertainment = bbc1[bbc1['topics'] == 'entertainment']\r\n",
        "bbc1_politics = bbc1[bbc1['topics'] == 'politics']\r\n",
        "bbc1_sport = bbc1[bbc1['topics'] == 'sport']\r\n",
        "bbc1_tech = bbc1[bbc1['topics'] == 'tech']"
      ],
      "execution_count": 24,
      "outputs": []
    },
    {
      "cell_type": "code",
      "metadata": {
        "colab": {
          "base_uri": "https://localhost:8080/",
          "height": 204
        },
        "id": "eTKJ65xYh8mS",
        "outputId": "254b17dd-9e19-4d14-8163-851cdc71a03b"
      },
      "source": [
        "bbc1_business.head()"
      ],
      "execution_count": 30,
      "outputs": [
        {
          "output_type": "execute_result",
          "data": {
            "text/html": [
              "<div>\n",
              "<style scoped>\n",
              "    .dataframe tbody tr th:only-of-type {\n",
              "        vertical-align: middle;\n",
              "    }\n",
              "\n",
              "    .dataframe tbody tr th {\n",
              "        vertical-align: top;\n",
              "    }\n",
              "\n",
              "    .dataframe thead th {\n",
              "        text-align: right;\n",
              "    }\n",
              "</style>\n",
              "<table border=\"1\" class=\"dataframe\">\n",
              "  <thead>\n",
              "    <tr style=\"text-align: right;\">\n",
              "      <th></th>\n",
              "      <th>news</th>\n",
              "      <th>topics</th>\n",
              "      <th>length</th>\n",
              "      <th>final_length</th>\n",
              "    </tr>\n",
              "  </thead>\n",
              "  <tbody>\n",
              "    <tr>\n",
              "      <th>0</th>\n",
              "      <td>bindia call fair trade rulesnnindia attend g7 ...</td>\n",
              "      <td>business</td>\n",
              "      <td>1922</td>\n",
              "      <td>1215</td>\n",
              "    </tr>\n",
              "    <tr>\n",
              "      <th>1</th>\n",
              "      <td>bsteel firm cut 45000 jobsnnmitt steel one wor...</td>\n",
              "      <td>business</td>\n",
              "      <td>1620</td>\n",
              "      <td>1048</td>\n",
              "    </tr>\n",
              "    <tr>\n",
              "      <th>2</th>\n",
              "      <td>bcall centr user lose patiencenncustom tri get...</td>\n",
              "      <td>business</td>\n",
              "      <td>3854</td>\n",
              "      <td>2259</td>\n",
              "    </tr>\n",
              "    <tr>\n",
              "      <th>3</th>\n",
              "      <td>bethiopia crop product 24nnethiopia produc 142...</td>\n",
              "      <td>business</td>\n",
              "      <td>1494</td>\n",
              "      <td>1025</td>\n",
              "    </tr>\n",
              "    <tr>\n",
              "      <th>4</th>\n",
              "      <td>bsafeti alert gm recal carsnnth world biggest ...</td>\n",
              "      <td>business</td>\n",
              "      <td>1829</td>\n",
              "      <td>1223</td>\n",
              "    </tr>\n",
              "  </tbody>\n",
              "</table>\n",
              "</div>"
            ],
            "text/plain": [
              "                                                news  ... final_length\n",
              "0  bindia call fair trade rulesnnindia attend g7 ...  ...         1215\n",
              "1  bsteel firm cut 45000 jobsnnmitt steel one wor...  ...         1048\n",
              "2  bcall centr user lose patiencenncustom tri get...  ...         2259\n",
              "3  bethiopia crop product 24nnethiopia produc 142...  ...         1025\n",
              "4  bsafeti alert gm recal carsnnth world biggest ...  ...         1223\n",
              "\n",
              "[5 rows x 4 columns]"
            ]
          },
          "metadata": {
            "tags": []
          },
          "execution_count": 30
        }
      ]
    },
    {
      "cell_type": "code",
      "metadata": {
        "colab": {
          "base_uri": "https://localhost:8080/",
          "height": 595
        },
        "id": "xvyU6c6gimn8",
        "outputId": "05eeb78c-604f-48bb-d308-d7d46e96ed79"
      },
      "source": [
        "plt.hist(bbc1_business['final_length'], alpha = 0.6, bins=50, label='business')"
      ],
      "execution_count": 33,
      "outputs": [
        {
          "output_type": "execute_result",
          "data": {
            "text/plain": [
              "(array([12., 14., 17., 15., 27., 22., 34., 26., 33., 21., 29., 31., 21.,\n",
              "        30., 14., 14., 14., 13., 16.,  9., 12.,  8.,  9.,  8., 11.,  4.,\n",
              "         3.,  3.,  2.,  4.,  4.,  2.,  2.,  1.,  1.,  1.,  0.,  0.,  1.,\n",
              "         2.,  5.,  0.,  2.,  0.,  2.,  1.,  0.,  0.,  1.,  2.]),\n",
              " array([ 563.  ,  618.52,  674.04,  729.56,  785.08,  840.6 ,  896.12,\n",
              "         951.64, 1007.16, 1062.68, 1118.2 , 1173.72, 1229.24, 1284.76,\n",
              "        1340.28, 1395.8 , 1451.32, 1506.84, 1562.36, 1617.88, 1673.4 ,\n",
              "        1728.92, 1784.44, 1839.96, 1895.48, 1951.  , 2006.52, 2062.04,\n",
              "        2117.56, 2173.08, 2228.6 , 2284.12, 2339.64, 2395.16, 2450.68,\n",
              "        2506.2 , 2561.72, 2617.24, 2672.76, 2728.28, 2783.8 , 2839.32,\n",
              "        2894.84, 2950.36, 3005.88, 3061.4 , 3116.92, 3172.44, 3227.96,\n",
              "        3283.48, 3339.  ]),\n",
              " <a list of 50 Patch objects>)"
            ]
          },
          "metadata": {
            "tags": []
          },
          "execution_count": 33
        },
        {
          "output_type": "display_data",
          "data": {
            "image/png": "[encoded data removed]",
            "text/plain": [
              "<Figure size 864x432 with 1 Axes>"
            ]
          },
          "metadata": {
            "tags": [],
            "needs_background": "light"
          }
        }
      ]
    },
    {
      "cell_type": "code",
      "metadata": {
        "colab": {
          "base_uri": "https://localhost:8080/",
          "height": 629
        },
        "id": "uoXAAbYai4vf",
        "outputId": "1b10eacc-21f1-454b-cd2a-47124eb50110"
      },
      "source": [
        "plt.hist(bbc1_entertainment['final_length'], alpha = 0.8, bins=bins, label='entertainment')"
      ],
      "execution_count": 35,
      "outputs": [
        {
          "output_type": "execute_result",
          "data": {
            "text/plain": [
              "(array([ 46., 125.,  75.,  41.,  24.,  13.,  14.,  15.,   5.,   3.,   2.,\n",
              "          0.,   0.,   0.,   0.,   1.,   1.,   0.,   1.,   0.,   0.,   0.,\n",
              "          0.,   0.,   0.,   0.,   0.,   0.,   0.,   0.,   0.,   0.,   1.,\n",
              "          0.,   0.,   1.,   0.,   0.,   0.,   0.,   0.,   0.,   0.,   0.,\n",
              "          0.,   0.,   0.,   0.,   0.,   1.]),\n",
              " array([  544.  ,   759.64,   975.28,  1190.92,  1406.56,  1622.2 ,\n",
              "         1837.84,  2053.48,  2269.12,  2484.76,  2700.4 ,  2916.04,\n",
              "         3131.68,  3347.32,  3562.96,  3778.6 ,  3994.24,  4209.88,\n",
              "         4425.52,  4641.16,  4856.8 ,  5072.44,  5288.08,  5503.72,\n",
              "         5719.36,  5935.  ,  6150.64,  6366.28,  6581.92,  6797.56,\n",
              "         7013.2 ,  7228.84,  7444.48,  7660.12,  7875.76,  8091.4 ,\n",
              "         8307.04,  8522.68,  8738.32,  8953.96,  9169.6 ,  9385.24,\n",
              "         9600.88,  9816.52, 10032.16, 10247.8 , 10463.44, 10679.08,\n",
              "        10894.72, 11110.36, 11326.  ]),\n",
              " <a list of 50 Patch objects>)"
            ]
          },
          "metadata": {
            "tags": []
          },
          "execution_count": 35
        },
        {
          "output_type": "display_data",
          "data": {
            "image/png": "[encoded data removed]",
            "text/plain": [
              "<Figure size 864x432 with 1 Axes>"
            ]
          },
          "metadata": {
            "tags": [],
            "needs_background": "light"
          }
        }
      ]
    },
    {
      "cell_type": "code",
      "metadata": {
        "colab": {
          "base_uri": "https://localhost:8080/",
          "height": 595
        },
        "id": "dcFgUVM6i8La",
        "outputId": "3fd98167-9cd8-4a92-b38f-70160b73f6c0"
      },
      "source": [
        "plt.hist(bbc1_politics['final_length'], alpha = 0.4, bins=bins, label='politics')"
      ],
      "execution_count": 36,
      "outputs": [
        {
          "output_type": "execute_result",
          "data": {
            "text/plain": [
              "(array([ 4., 36., 61., 57., 84., 82., 44., 21.,  7.,  1.,  1.,  2.,  0.,\n",
              "         0.,  0.,  0.,  0.,  0.,  0.,  0.,  0.,  0.,  0.,  0.,  0.,  0.,\n",
              "         0.,  1.,  0.,  0.,  0.,  0.,  0.,  0.,  0.,  0.,  1.,  0.,  0.,\n",
              "         0.,  0.,  0.,  0.,  0.,  0.,  0.,  0.,  0.,  0.,  1.]),\n",
              " array([  312. ,   597.9,   883.8,  1169.7,  1455.6,  1741.5,  2027.4,\n",
              "         2313.3,  2599.2,  2885.1,  3171. ,  3456.9,  3742.8,  4028.7,\n",
              "         4314.6,  4600.5,  4886.4,  5172.3,  5458.2,  5744.1,  6030. ,\n",
              "         6315.9,  6601.8,  6887.7,  7173.6,  7459.5,  7745.4,  8031.3,\n",
              "         8317.2,  8603.1,  8889. ,  9174.9,  9460.8,  9746.7, 10032.6,\n",
              "        10318.5, 10604.4, 10890.3, 11176.2, 11462.1, 11748. , 12033.9,\n",
              "        12319.8, 12605.7, 12891.6, 13177.5, 13463.4, 13749.3, 14035.2,\n",
              "        14321.1, 14607. ]),\n",
              " <a list of 50 Patch objects>)"
            ]
          },
          "metadata": {
            "tags": []
          },
          "execution_count": 36
        },
        {
          "output_type": "display_data",
          "data": {
            "image/png": "[encoded data removed]",
            "text/plain": [
              "<Figure size 864x432 with 1 Axes>"
            ]
          },
          "metadata": {
            "tags": [],
            "needs_background": "light"
          }
        }
      ]
    },
    {
      "cell_type": "code",
      "metadata": {
        "colab": {
          "base_uri": "https://localhost:8080/",
          "height": 578
        },
        "id": "iMA2bElrjBKD",
        "outputId": "ca6abed1-77c5-443c-bfc1-a32360151ee9"
      },
      "source": [
        "plt.hist(bbc1_sport['final_length'], alpha = 0.4, bins=bins, label='sport')"
      ],
      "execution_count": 37,
      "outputs": [
        {
          "output_type": "execute_result",
          "data": {
            "text/plain": [
              "(array([36., 52., 47., 62., 44., 57., 34., 32., 14., 20., 22., 12., 11.,\n",
              "        12.,  6.,  4.,  7.,  5.,  6.,  4.,  4.,  5.,  0.,  0.,  3.,  0.,\n",
              "         0.,  0.,  0.,  0.,  1.,  0.,  1.,  2.,  0.,  0.,  0.,  0.,  0.,\n",
              "         0.,  1.,  0.,  0.,  0.,  0.,  0.,  0.,  0.,  0.,  1.]),\n",
              " array([ 428. ,  540.3,  652.6,  764.9,  877.2,  989.5, 1101.8, 1214.1,\n",
              "        1326.4, 1438.7, 1551. , 1663.3, 1775.6, 1887.9, 2000.2, 2112.5,\n",
              "        2224.8, 2337.1, 2449.4, 2561.7, 2674. , 2786.3, 2898.6, 3010.9,\n",
              "        3123.2, 3235.5, 3347.8, 3460.1, 3572.4, 3684.7, 3797. , 3909.3,\n",
              "        4021.6, 4133.9, 4246.2, 4358.5, 4470.8, 4583.1, 4695.4, 4807.7,\n",
              "        4920. , 5032.3, 5144.6, 5256.9, 5369.2, 5481.5, 5593.8, 5706.1,\n",
              "        5818.4, 5930.7, 6043. ]),\n",
              " <a list of 50 Patch objects>)"
            ]
          },
          "metadata": {
            "tags": []
          },
          "execution_count": 37
        },
        {
          "output_type": "display_data",
          "data": {
            "image/png": "[encoded data removed]",
            "text/plain": [
              "<Figure size 864x432 with 1 Axes>"
            ]
          },
          "metadata": {
            "tags": [],
            "needs_background": "light"
          }
        }
      ]
    },
    {
      "cell_type": "code",
      "metadata": {
        "colab": {
          "base_uri": "https://localhost:8080/",
          "height": 595
        },
        "id": "CNYrjWsojDSq",
        "outputId": "f8831cd2-f5d4-4bae-86ab-1b9805dd23b0"
      },
      "source": [
        "plt.hist(bbc1_tech['final_length'], alpha = 0.4, bins=bins, label='tech')"
      ],
      "execution_count": 38,
      "outputs": [
        {
          "output_type": "execute_result",
          "data": {
            "text/plain": [
              "(array([ 4., 12., 30., 34., 44., 39., 32., 29., 18., 17., 23., 17., 10.,\n",
              "        14., 10.,  3.,  4.,  1.,  1.,  1.,  0.,  0.,  1.,  1.,  0.,  0.,\n",
              "         0.,  0.,  1.,  0.,  0.,  0.,  0.,  0.,  0.,  0.,  0.,  0.,  0.,\n",
              "         0.,  0.,  0.,  0.,  0.,  0.,  0.,  0.,  0.,  0.,  1.]),\n",
              " array([ 610.  ,  781.44,  952.88, 1124.32, 1295.76, 1467.2 , 1638.64,\n",
              "        1810.08, 1981.52, 2152.96, 2324.4 , 2495.84, 2667.28, 2838.72,\n",
              "        3010.16, 3181.6 , 3353.04, 3524.48, 3695.92, 3867.36, 4038.8 ,\n",
              "        4210.24, 4381.68, 4553.12, 4724.56, 4896.  , 5067.44, 5238.88,\n",
              "        5410.32, 5581.76, 5753.2 , 5924.64, 6096.08, 6267.52, 6438.96,\n",
              "        6610.4 , 6781.84, 6953.28, 7124.72, 7296.16, 7467.6 , 7639.04,\n",
              "        7810.48, 7981.92, 8153.36, 8324.8 , 8496.24, 8667.68, 8839.12,\n",
              "        9010.56, 9182.  ]),\n",
              " <a list of 50 Patch objects>)"
            ]
          },
          "metadata": {
            "tags": []
          },
          "execution_count": 38
        },
        {
          "output_type": "display_data",
          "data": {
            "image/png": "[encoded data removed]",
            "text/plain": [
              "<Figure size 864x432 with 1 Axes>"
            ]
          },
          "metadata": {
            "tags": [],
            "needs_background": "light"
          }
        }
      ]
    },
    {
      "cell_type": "code",
      "metadata": {
        "colab": {
          "base_uri": "https://localhost:8080/",
          "height": 388
        },
        "id": "ab1Kf4QGhJmH",
        "outputId": "7d0d27f3-1aea-4735-f89f-a19e7fd95098"
      },
      "source": [
        "import matplotlib\r\n",
        "%matplotlib inline\r\n",
        "%config InlineBackend.figure_format = 'retina'\r\n",
        "\r\n",
        "matplotlib.rcParams['figure.figsize'] = (12.0, 6.0)\r\n",
        "bins = 100\r\n",
        "plt.hist(bbc1_business['final_length'], alpha = 0.6, bins=bins, label='business')\r\n",
        "plt.hist(bbc1_entertainment['final_length'], alpha = 0.8, bins=bins, label='entertainment')\r\n",
        "plt.hist(bbc1_politics['final_length'], alpha = 0.4, bins=bins, label='politics')\r\n",
        "plt.hist(bbc1_sport['final_length'], alpha = 0.4, bins=bins, label='sport')\r\n",
        "plt.hist(bbc1_tech['final_length'], alpha = 0.4, bins=bins, label='tech')\r\n",
        "plt.xlabel('final_length')\r\n",
        "plt.ylabel('numbers')\r\n",
        "plt.legend(loc='upper right')\r\n",
        "plt.xlim(0,4000)\r\n",
        "plt.grid()\r\n",
        "plt.show()"
      ],
      "execution_count": 51,
      "outputs": [
        {
          "output_type": "display_data",
          "data": {
            "image/png": "[encoded data removed]",
            "text/plain": [
              "<Figure size 864x432 with 1 Axes>"
            ]
          },
          "metadata": {
            "tags": [],
            "image/png": {
              "width": 730,
              "height": 371
            },
            "needs_background": "light"
          }
        }
      ]
    },
    {
      "cell_type": "code",
      "metadata": {
        "id": "rz3-Y8iNH80I"
      },
      "source": [
        "def text_process(msg):\r\n",
        "    nopunc =[char for char in msg if char not in string.punctuation]\r\n",
        "    nopunc=''.join(nopunc)\r\n",
        "    return ' '.join([word for word in nopunc.split() if word.lower() not in stopwords.words('english')])"
      ],
      "execution_count": 60,
      "outputs": []
    },
    {
      "cell_type": "code",
      "metadata": {
        "id": "XL8_-skEIoOQ"
      },
      "source": [
        "bbc1['tokenized_news'] = bbc1['news'].apply(text_process)"
      ],
      "execution_count": 61,
      "outputs": []
    },
    {
      "cell_type": "code",
      "metadata": {
        "colab": {
          "base_uri": "https://localhost:8080/",
          "height": 204
        },
        "id": "DJUFLUmPPXub",
        "outputId": "7cef6b82-ab9d-4885-f00d-bce2fbe7ab82"
      },
      "source": [
        "bbc1.head()"
      ],
      "execution_count": 62,
      "outputs": [
        {
          "output_type": "execute_result",
          "data": {
            "text/html": [
              "<div>\n",
              "<style scoped>\n",
              "    .dataframe tbody tr th:only-of-type {\n",
              "        vertical-align: middle;\n",
              "    }\n",
              "\n",
              "    .dataframe tbody tr th {\n",
              "        vertical-align: top;\n",
              "    }\n",
              "\n",
              "    .dataframe thead th {\n",
              "        text-align: right;\n",
              "    }\n",
              "</style>\n",
              "<table border=\"1\" class=\"dataframe\">\n",
              "  <thead>\n",
              "    <tr style=\"text-align: right;\">\n",
              "      <th></th>\n",
              "      <th>news</th>\n",
              "      <th>topics</th>\n",
              "      <th>length</th>\n",
              "      <th>tokenized_news</th>\n",
              "    </tr>\n",
              "  </thead>\n",
              "  <tbody>\n",
              "    <tr>\n",
              "      <th>0</th>\n",
              "      <td>b'India calls for fair trade rules\\n\\nIndia, w...</td>\n",
              "      <td>business</td>\n",
              "      <td>1922</td>\n",
              "      <td>bIndia calls fair trade rulesnnIndia attends G...</td>\n",
              "    </tr>\n",
              "    <tr>\n",
              "      <th>1</th>\n",
              "      <td>b'Steel firm \\'to cut\\' 45,000 jobs\\n\\nMittal ...</td>\n",
              "      <td>business</td>\n",
              "      <td>1620</td>\n",
              "      <td>bSteel firm cut 45000 jobsnnMittal Steel one w...</td>\n",
              "    </tr>\n",
              "    <tr>\n",
              "      <th>2</th>\n",
              "      <td>b'Call centre users \\'lose patience\\'\\n\\nCusto...</td>\n",
              "      <td>business</td>\n",
              "      <td>3854</td>\n",
              "      <td>bCall centre users lose patiencennCustomers tr...</td>\n",
              "    </tr>\n",
              "    <tr>\n",
              "      <th>3</th>\n",
              "      <td>b'Ethiopia\\'s crop production up 24%\\n\\nEthiop...</td>\n",
              "      <td>business</td>\n",
              "      <td>1494</td>\n",
              "      <td>bEthiopias crop production 24nnEthiopia produc...</td>\n",
              "    </tr>\n",
              "    <tr>\n",
              "      <th>4</th>\n",
              "      <td>b\"Safety alert as GM recalls cars\\n\\nThe world...</td>\n",
              "      <td>business</td>\n",
              "      <td>1829</td>\n",
              "      <td>bSafety alert GM recalls carsnnThe worlds bigg...</td>\n",
              "    </tr>\n",
              "  </tbody>\n",
              "</table>\n",
              "</div>"
            ],
            "text/plain": [
              "                                                news  ...                                     tokenized_news\n",
              "0  b'India calls for fair trade rules\\n\\nIndia, w...  ...  bIndia calls fair trade rulesnnIndia attends G...\n",
              "1  b'Steel firm \\'to cut\\' 45,000 jobs\\n\\nMittal ...  ...  bSteel firm cut 45000 jobsnnMittal Steel one w...\n",
              "2  b'Call centre users \\'lose patience\\'\\n\\nCusto...  ...  bCall centre users lose patiencennCustomers tr...\n",
              "3  b'Ethiopia\\'s crop production up 24%\\n\\nEthiop...  ...  bEthiopias crop production 24nnEthiopia produc...\n",
              "4  b\"Safety alert as GM recalls cars\\n\\nThe world...  ...  bSafety alert GM recalls carsnnThe worlds bigg...\n",
              "\n",
              "[5 rows x 4 columns]"
            ]
          },
          "metadata": {
            "tags": []
          },
          "execution_count": 62
        }
      ]
    },
    {
      "cell_type": "code",
      "metadata": {
        "colab": {
          "base_uri": "https://localhost:8080/",
          "height": 137
        },
        "id": "dbLtKF2aPcQL",
        "outputId": "837302ad-d047-45ad-d26f-75a8b3c5a7c6"
      },
      "source": [
        "bbc1.tokenized_news[0]"
      ],
      "execution_count": 63,
      "outputs": [
        {
          "output_type": "execute_result",
          "data": {
            "application/vnd.google.colaboratory.intrinsic+json": {
              "type": "string"
            },
            "text/plain": [
              "'bIndia calls fair trade rulesnnIndia attends G7 meeting seven leading industrialised nations Friday unlikely cowed newcomer statusnnIn London Thursday ahead meeting Indias finance minister lashed restrictive trade policies G7 nations objected subsidies agriculture make hard developing nations like India compete also called reform United Nations World Bank IMFnnPalaniappan Chidambaram Indias finance minister argued organisations need take account changing world order given India Chinas integration global economy said issue globalisation terms engagement globalisation Mr Chidambaram attending G7 meeting part G20 group nations account two thirds worlds population conference developing enterprise hosted UK finance minister Gordon Brown Friday said favour floating exchange rates help countries cope economic shocks flexible exchange rate one channel absorbing positive negative shocks told conference India along China Brazil South Africa Russia invited take part G7 meeting taking place London Friday Saturday China expected face renewed pressure abandon fixed exchange rate G7 nations particular US blamed surge cheap Chinese exports countries tried use fixed exchange rates wish make judgements Mr Chidambaram said Separately IMF warned Thursday Indias budget deficit large would hamper countrys economic growth forecast around 65 year March 2005 year March 2004 Indian economy grew 85n'"
            ]
          },
          "metadata": {
            "tags": []
          },
          "execution_count": 63
        }
      ]
    },
    {
      "cell_type": "code",
      "metadata": {
        "id": "z_7HxE9fJ18g"
      },
      "source": [
        "from nltk.corpus import stopwords\r\n",
        "sw=set(stopwords.words(\"english\"))"
      ],
      "execution_count": 55,
      "outputs": []
    },
    {
      "cell_type": "code",
      "metadata": {
        "id": "nProfVc0XEBk"
      },
      "source": [
        "ps=nltk.PorterStemmer()"
      ],
      "execution_count": 64,
      "outputs": []
    },
    {
      "cell_type": "code",
      "metadata": {
        "id": "2NjWO_HEXkYY"
      },
      "source": [
        "# function for removing punctuation\r\n",
        "import string\r\n",
        "\r\n",
        "def count_punct(text):\r\n",
        "    count = sum([1 for char in text if char in string.punctuation])\r\n",
        "    return round(count/(len(text) - text.count(\" \")), 3)*100"
      ],
      "execution_count": 65,
      "outputs": []
    },
    {
      "cell_type": "code",
      "metadata": {
        "id": "GYjUtjsXXmXb"
      },
      "source": [
        "# creating function for cleaning text\r\n",
        "\r\n",
        "import re\r\n",
        "import string\r\n",
        "\r\n",
        "def clean_text(text):\r\n",
        "    text = \"\".join([word.lower() for word in text if word not in string.punctuation])\r\n",
        "    tokens = re.split('\\W+', text)\r\n",
        "    text = [ps.stem(word) for word in tokens if word not in stopwords]\r\n",
        "    return text"
      ],
      "execution_count": 66,
      "outputs": []
    },
    {
      "cell_type": "code",
      "metadata": {
        "id": "0FB3oYfRXmPx"
      },
      "source": [
        ""
      ],
      "execution_count": null,
      "outputs": []
    },
    {
      "cell_type": "code",
      "metadata": {
        "id": "B9A_65nOXmL0"
      },
      "source": [
        ""
      ],
      "execution_count": null,
      "outputs": []
    },
    {
      "cell_type": "code",
      "metadata": {
        "id": "n-PpgPxMIoL9"
      },
      "source": [
        "def stop_words(text):\r\n",
        "    '''a function for removing the stopword'''\r\n",
        "    # removing the stop words and lowercasing the selected words\r\n",
        "    text = [word.lower() for word in text.split() if word.lower() not in sw]\r\n",
        "    # joining the list of words with space separator\r\n",
        "    return \" \".join(text)"
      ],
      "execution_count": 56,
      "outputs": []
    },
    {
      "cell_type": "code",
      "metadata": {
        "colab": {
          "base_uri": "https://localhost:8080/",
          "height": 323
        },
        "id": "HEVEjxv1IoI5",
        "outputId": "d8b260ba-e0c7-44e7-9120-0ae7888a3a22"
      },
      "source": [
        "bbc1['news'] = bbc1['news'].apply(stop_words)\r\n",
        "bbc1.head(10)"
      ],
      "execution_count": 57,
      "outputs": [
        {
          "output_type": "error",
          "ename": "TypeError",
          "evalue": "ignored",
          "traceback": [
            "\u001b[0;31m---------------------------------------------------------------------------\u001b[0m",
            "\u001b[0;31mTypeError\u001b[0m                                 Traceback (most recent call last)",
            "\u001b[0;32m<ipython-input-57-d31216223f3e>\u001b[0m in \u001b[0;36m<module>\u001b[0;34m()\u001b[0m\n\u001b[0;32m----> 1\u001b[0;31m \u001b[0mbbc1\u001b[0m\u001b[0;34m[\u001b[0m\u001b[0;34m'news'\u001b[0m\u001b[0;34m]\u001b[0m \u001b[0;34m=\u001b[0m \u001b[0mbbc1\u001b[0m\u001b[0;34m[\u001b[0m\u001b[0;34m'news'\u001b[0m\u001b[0;34m]\u001b[0m\u001b[0;34m.\u001b[0m\u001b[0mapply\u001b[0m\u001b[0;34m(\u001b[0m\u001b[0mstop_words\u001b[0m\u001b[0;34m)\u001b[0m\u001b[0;34m\u001b[0m\u001b[0;34m\u001b[0m\u001b[0m\n\u001b[0m\u001b[1;32m      2\u001b[0m \u001b[0mbbc1\u001b[0m\u001b[0;34m.\u001b[0m\u001b[0mhead\u001b[0m\u001b[0;34m(\u001b[0m\u001b[0;36m10\u001b[0m\u001b[0;34m)\u001b[0m\u001b[0;34m\u001b[0m\u001b[0;34m\u001b[0m\u001b[0m\n",
            "\u001b[0;32m/usr/local/lib/python3.6/dist-packages/pandas/core/series.py\u001b[0m in \u001b[0;36mapply\u001b[0;34m(self, func, convert_dtype, args, **kwds)\u001b[0m\n\u001b[1;32m   4211\u001b[0m             \u001b[0;32melse\u001b[0m\u001b[0;34m:\u001b[0m\u001b[0;34m\u001b[0m\u001b[0;34m\u001b[0m\u001b[0m\n\u001b[1;32m   4212\u001b[0m                 \u001b[0mvalues\u001b[0m \u001b[0;34m=\u001b[0m \u001b[0mself\u001b[0m\u001b[0;34m.\u001b[0m\u001b[0mastype\u001b[0m\u001b[0;34m(\u001b[0m\u001b[0mobject\u001b[0m\u001b[0;34m)\u001b[0m\u001b[0;34m.\u001b[0m\u001b[0m_values\u001b[0m\u001b[0;34m\u001b[0m\u001b[0;34m\u001b[0m\u001b[0m\n\u001b[0;32m-> 4213\u001b[0;31m                 \u001b[0mmapped\u001b[0m \u001b[0;34m=\u001b[0m \u001b[0mlib\u001b[0m\u001b[0;34m.\u001b[0m\u001b[0mmap_infer\u001b[0m\u001b[0;34m(\u001b[0m\u001b[0mvalues\u001b[0m\u001b[0;34m,\u001b[0m \u001b[0mf\u001b[0m\u001b[0;34m,\u001b[0m \u001b[0mconvert\u001b[0m\u001b[0;34m=\u001b[0m\u001b[0mconvert_dtype\u001b[0m\u001b[0;34m)\u001b[0m\u001b[0;34m\u001b[0m\u001b[0;34m\u001b[0m\u001b[0m\n\u001b[0m\u001b[1;32m   4214\u001b[0m \u001b[0;34m\u001b[0m\u001b[0m\n\u001b[1;32m   4215\u001b[0m         \u001b[0;32mif\u001b[0m \u001b[0mlen\u001b[0m\u001b[0;34m(\u001b[0m\u001b[0mmapped\u001b[0m\u001b[0;34m)\u001b[0m \u001b[0;32mand\u001b[0m \u001b[0misinstance\u001b[0m\u001b[0;34m(\u001b[0m\u001b[0mmapped\u001b[0m\u001b[0;34m[\u001b[0m\u001b[0;36m0\u001b[0m\u001b[0;34m]\u001b[0m\u001b[0;34m,\u001b[0m \u001b[0mSeries\u001b[0m\u001b[0;34m)\u001b[0m\u001b[0;34m:\u001b[0m\u001b[0;34m\u001b[0m\u001b[0;34m\u001b[0m\u001b[0m\n",
            "\u001b[0;32mpandas/_libs/lib.pyx\u001b[0m in \u001b[0;36mpandas._libs.lib.map_infer\u001b[0;34m()\u001b[0m\n",
            "\u001b[0;32m<ipython-input-56-45445ef799cc>\u001b[0m in \u001b[0;36mstop_words\u001b[0;34m(text)\u001b[0m\n\u001b[1;32m      4\u001b[0m     \u001b[0mtext\u001b[0m \u001b[0;34m=\u001b[0m \u001b[0;34m[\u001b[0m\u001b[0mword\u001b[0m\u001b[0;34m.\u001b[0m\u001b[0mlower\u001b[0m\u001b[0;34m(\u001b[0m\u001b[0;34m)\u001b[0m \u001b[0;32mfor\u001b[0m \u001b[0mword\u001b[0m \u001b[0;32min\u001b[0m \u001b[0mtext\u001b[0m\u001b[0;34m.\u001b[0m\u001b[0msplit\u001b[0m\u001b[0;34m(\u001b[0m\u001b[0;34m)\u001b[0m \u001b[0;32mif\u001b[0m \u001b[0mword\u001b[0m\u001b[0;34m.\u001b[0m\u001b[0mlower\u001b[0m\u001b[0;34m(\u001b[0m\u001b[0;34m)\u001b[0m \u001b[0;32mnot\u001b[0m \u001b[0;32min\u001b[0m \u001b[0msw\u001b[0m\u001b[0;34m]\u001b[0m\u001b[0;34m\u001b[0m\u001b[0;34m\u001b[0m\u001b[0m\n\u001b[1;32m      5\u001b[0m     \u001b[0;31m# joining the list of words with space separator\u001b[0m\u001b[0;34m\u001b[0m\u001b[0;34m\u001b[0m\u001b[0;34m\u001b[0m\u001b[0m\n\u001b[0;32m----> 6\u001b[0;31m     \u001b[0;32mreturn\u001b[0m \u001b[0;34m\" \"\u001b[0m\u001b[0;34m.\u001b[0m\u001b[0mjoin\u001b[0m\u001b[0;34m(\u001b[0m\u001b[0mtext\u001b[0m\u001b[0;34m)\u001b[0m\u001b[0;34m\u001b[0m\u001b[0;34m\u001b[0m\u001b[0m\n\u001b[0m",
            "\u001b[0;31mTypeError\u001b[0m: sequence item 0: expected str instance, bytes found"
          ]
        }
      ]
    },
    {
      "cell_type": "code",
      "metadata": {
        "id": "Yum_PjJTIoFo"
      },
      "source": [
        ""
      ],
      "execution_count": null,
      "outputs": []
    },
    {
      "cell_type": "code",
      "metadata": {
        "id": "8TZ1R3lvECaj"
      },
      "source": [
        "# function for removing punctuation\r\n",
        "import string\r\n",
        "\r\n",
        "def count_punct(text):\r\n",
        "    count = sum([1 for char in text if char in string.punctuation])\r\n",
        "    return round(count/(len(text) - text.count(\" \")), 3)*100"
      ],
      "execution_count": 31,
      "outputs": []
    },
    {
      "cell_type": "code",
      "metadata": {
        "id": "sJiZXJ7iECW2"
      },
      "source": [
        ""
      ],
      "execution_count": null,
      "outputs": []
    },
    {
      "cell_type": "code",
      "metadata": {
        "id": "BWVTjyWZECT3"
      },
      "source": [
        ""
      ],
      "execution_count": null,
      "outputs": []
    },
    {
      "cell_type": "code",
      "metadata": {
        "id": "nEF6BWR_ECRc"
      },
      "source": [
        ""
      ],
      "execution_count": null,
      "outputs": []
    },
    {
      "cell_type": "code",
      "metadata": {
        "id": "YPBniLpjECNy"
      },
      "source": [
        ""
      ],
      "execution_count": null,
      "outputs": []
    },
    {
      "cell_type": "code",
      "metadata": {
        "id": "982ARJ8CECKT"
      },
      "source": [
        ""
      ],
      "execution_count": null,
      "outputs": []
    },
    {
      "cell_type": "code",
      "metadata": {
        "id": "Eu3BdpK2ECHC"
      },
      "source": [
        ""
      ],
      "execution_count": null,
      "outputs": []
    },
    {
      "cell_type": "code",
      "metadata": {
        "id": "9riSHcLShLoX"
      },
      "source": [
        "n_topics = 5\r\n",
        "\r\n",
        "from sklearn.feature_extraction.text import CountVectorizer, TfidfVectorizer\r\n",
        "vec = TfidfVectorizer(max_features=5000, stop_words=\"english\", max_df=0.95, min_df=2)\r\n",
        "features = vec.fit_transform(df.text)"
      ],
      "execution_count": null,
      "outputs": []
    },
    {
      "cell_type": "code",
      "metadata": {
        "id": "ulZ1HEzChQPr"
      },
      "source": [
        "df1 = pd.DataFrame(features.todense() , columns=vec.get_feature_names())"
      ],
      "execution_count": null,
      "outputs": []
    },
    {
      "cell_type": "code",
      "metadata": {
        "id": "7xSZM_CEEGaQ"
      },
      "source": [
        ""
      ],
      "execution_count": null,
      "outputs": []
    }
  ]
}