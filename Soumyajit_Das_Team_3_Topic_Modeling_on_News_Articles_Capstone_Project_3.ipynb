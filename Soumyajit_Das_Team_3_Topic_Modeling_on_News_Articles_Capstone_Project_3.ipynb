{
  "nbformat": 4,
  "nbformat_minor": 0,
  "metadata": {
    "kernelspec": {
      "display_name": "Python 3",
      "language": "python",
      "name": "python3"
    },
    "language_info": {
      "codemirror_mode": {
        "name": "ipython",
        "version": 3
      },
      "file_extension": ".py",
      "mimetype": "text/x-python",
      "name": "python",
      "nbconvert_exporter": "python",
      "pygments_lexer": "ipython3",
      "version": "3.6.6"
    },
    "colab": {
      "name": "Soumyajit Das - Team 3 - Topic Modeling on News Articles - Capstone Project 3.ipynb",
      "provenance": [],
      "collapsed_sections": [],
      "include_colab_link": true
    }
  },
  "cells": [
    {
      "cell_type": "markdown",
      "metadata": {
        "id": "view-in-github",
        "colab_type": "text"
      },
      "source": [
        "<a href=\"https://colab.research.google.com/github/soumyajt1991/Topic-Modeling-on-News-Articles/blob/main/Soumyajit_Das_Team_3_Topic_Modeling_on_News_Articles_Capstone_Project_3.ipynb\" target=\"_parent\"><img src=\"https://colab.research.google.com/assets/colab-badge.svg\" alt=\"Open In Colab\"/></a>"
      ]
    },
    {
      "cell_type": "markdown",
      "metadata": {
        "id": "tOGC-qoyhJeX"
      },
      "source": [
        "# <b><u> Project Title : Extraction/identification of major topics & themes discussed in news articles. </u></b>"
      ]
    },
    {
      "cell_type": "markdown",
      "metadata": {
        "id": "Y06xIdG26kRF"
      },
      "source": [
        "## <b> Problem Description </b>\n",
        "\n",
        "### In this project your task is to identify major themes/topics across a collection of BBC news articles. You can use clustering algorithms such as Latent Dirichlet Allocation (LDA), Latent Semantic Analysis (LSA) etc."
      ]
    },
    {
      "cell_type": "markdown",
      "metadata": {
        "id": "AlLxAtlziMbP"
      },
      "source": [
        "## <b> Data Description </b>\r\n",
        "\r\n",
        "### The dataset contains a set of news articles for each major segment consisting of business, entertainment, politics, sports and technology. You need to create an aggregate dataset of all the news articles and perform topic modeling on this dataset. Verify whether these topics correspond to the different tags available."
      ]
    },
    {
      "cell_type": "markdown",
      "metadata": {
        "id": "g6pyjNRhew4F"
      },
      "source": [
        "Consists of 2225 documents from the BBC news website corresponding to stories in five topical areas from 2004-2005.\r\n",
        "Natural Classes: 5 (business, entertainment, politics, sport, tech)\r\n"
      ]
    },
    {
      "cell_type": "code",
      "metadata": {
        "id": "dByMsuzT8Tnw",
        "colab": {
          "base_uri": "https://localhost:8080/"
        },
        "outputId": "51f431ee-4b24-4edf-f806-9a9f850d0051"
      },
      "source": [
        "# mounting google drive\r\n",
        "from google.colab import drive\r\n",
        "drive.mount('/content/drive')"
      ],
      "execution_count": 1,
      "outputs": [
        {
          "output_type": "stream",
          "text": [
            "Mounted at /content/drive\n"
          ],
          "name": "stdout"
        }
      ]
    },
    {
      "cell_type": "code",
      "metadata": {
        "colab": {
          "base_uri": "https://localhost:8080/"
        },
        "id": "_jOnxdDnhAdh",
        "outputId": "c5d2eebd-ed90-441f-c4a8-cd7c68864158"
      },
      "source": [
        "import pandas as pd\r\n",
        "import numpy as np\r\n",
        "import string\r\n",
        "import glob\r\n",
        "import os\r\n",
        "import matplotlib.pyplot as plt\r\n",
        "import seaborn as sns\r\n",
        "import nltk\r\n",
        "from nltk.corpus import stopwords\r\n",
        "from sklearn.feature_extraction.text import TfidfVectorizer\r\n",
        "from wordcloud import WordCloud\r\n",
        "from sklearn.feature_extraction.text import CountVectorizer\r\n",
        "import spacy\r\n",
        "nltk.download('stopwords')"
      ],
      "execution_count": 2,
      "outputs": [
        {
          "output_type": "stream",
          "text": [
            "[nltk_data] Downloading package stopwords to /root/nltk_data...\n",
            "[nltk_data]   Unzipping corpora/stopwords.zip.\n"
          ],
          "name": "stdout"
        },
        {
          "output_type": "execute_result",
          "data": {
            "text/plain": [
              "True"
            ]
          },
          "metadata": {
            "tags": []
          },
          "execution_count": 2
        }
      ]
    },
    {
      "cell_type": "code",
      "metadata": {
        "id": "Ek0N3J6_5cBT"
      },
      "source": [
        "news=[]\r\n",
        "topics=[]\r\n",
        "\r\n",
        "path=\"/content/drive/MyDrive/AlmaBetter/Cohort Aravali/Module 4/Week 4/Day 1/bbc/\"\r\n",
        "\r\n",
        "folders=['business','entertainment','politics','sport','tech'] \r\n",
        "\r\n",
        "for i in folders:\r\n",
        "    all_files=os.listdir(path+i)\r\n",
        "    for txt_files in all_files:\r\n",
        "        files_path=path+i+'/'+txt_files\r\n",
        "        with open(files_path,'rb') as f:\r\n",
        "            text=f.read()\r\n",
        "        news.append(text)\r\n",
        "        topics.append(i)\r\n",
        "\r\n",
        "bbc = {'news':news,'topics':topics}\r\n",
        "bbc = pd.DataFrame(bbc)"
      ],
      "execution_count": 3,
      "outputs": []
    },
    {
      "cell_type": "code",
      "metadata": {
        "colab": {
          "base_uri": "https://localhost:8080/",
          "height": 204
        },
        "id": "_s2QxOy48FSU",
        "outputId": "b834d134-ef40-41af-fa36-b073d538b492"
      },
      "source": [
        "bbc.head()"
      ],
      "execution_count": 6,
      "outputs": [
        {
          "output_type": "execute_result",
          "data": {
            "text/html": [
              "<div>\n",
              "<style scoped>\n",
              "    .dataframe tbody tr th:only-of-type {\n",
              "        vertical-align: middle;\n",
              "    }\n",
              "\n",
              "    .dataframe tbody tr th {\n",
              "        vertical-align: top;\n",
              "    }\n",
              "\n",
              "    .dataframe thead th {\n",
              "        text-align: right;\n",
              "    }\n",
              "</style>\n",
              "<table border=\"1\" class=\"dataframe\">\n",
              "  <thead>\n",
              "    <tr style=\"text-align: right;\">\n",
              "      <th></th>\n",
              "      <th>news</th>\n",
              "      <th>topics</th>\n",
              "    </tr>\n",
              "  </thead>\n",
              "  <tbody>\n",
              "    <tr>\n",
              "      <th>0</th>\n",
              "      <td>b'India calls for fair trade rules\\n\\nIndia, w...</td>\n",
              "      <td>business</td>\n",
              "    </tr>\n",
              "    <tr>\n",
              "      <th>1</th>\n",
              "      <td>b'Steel firm \\'to cut\\' 45,000 jobs\\n\\nMittal ...</td>\n",
              "      <td>business</td>\n",
              "    </tr>\n",
              "    <tr>\n",
              "      <th>2</th>\n",
              "      <td>b'Call centre users \\'lose patience\\'\\n\\nCusto...</td>\n",
              "      <td>business</td>\n",
              "    </tr>\n",
              "    <tr>\n",
              "      <th>3</th>\n",
              "      <td>b'Ethiopia\\'s crop production up 24%\\n\\nEthiop...</td>\n",
              "      <td>business</td>\n",
              "    </tr>\n",
              "    <tr>\n",
              "      <th>4</th>\n",
              "      <td>b\"Safety alert as GM recalls cars\\n\\nThe world...</td>\n",
              "      <td>business</td>\n",
              "    </tr>\n",
              "  </tbody>\n",
              "</table>\n",
              "</div>"
            ],
            "text/plain": [
              "                                                news    topics\n",
              "0  b'India calls for fair trade rules\\n\\nIndia, w...  business\n",
              "1  b'Steel firm \\'to cut\\' 45,000 jobs\\n\\nMittal ...  business\n",
              "2  b'Call centre users \\'lose patience\\'\\n\\nCusto...  business\n",
              "3  b'Ethiopia\\'s crop production up 24%\\n\\nEthiop...  business\n",
              "4  b\"Safety alert as GM recalls cars\\n\\nThe world...  business"
            ]
          },
          "metadata": {
            "tags": []
          },
          "execution_count": 6
        }
      ]
    },
    {
      "cell_type": "code",
      "metadata": {
        "colab": {
          "base_uri": "https://localhost:8080/"
        },
        "id": "9GFokeHatGpe",
        "outputId": "c390eca6-44ce-4b72-d015-7a9d79ad1ed4"
      },
      "source": [
        "bbc.shape"
      ],
      "execution_count": 12,
      "outputs": [
        {
          "output_type": "execute_result",
          "data": {
            "text/plain": [
              "(2225, 2)"
            ]
          },
          "metadata": {
            "tags": []
          },
          "execution_count": 12
        }
      ]
    },
    {
      "cell_type": "code",
      "metadata": {
        "colab": {
          "base_uri": "https://localhost:8080/"
        },
        "id": "Q-p75K-bDlF9",
        "outputId": "e89c4ce4-5a74-4c30-c7b7-499545ffc004"
      },
      "source": [
        "bbc.news[0]"
      ],
      "execution_count": 28,
      "outputs": [
        {
          "output_type": "execute_result",
          "data": {
            "text/plain": [
              "b'India calls for fair trade rules\\n\\nIndia, which attends the G7 meeting of seven leading industrialised nations on Friday, is unlikely to be cowed by its newcomer status.\\n\\nIn London on Thursday ahead of the meeting, India\\'s finance minister, lashed out at the restrictive trade policies of the G7 nations. He objected to subsidies on agriculture that make it hard for developing nations like India to compete. He also called for reform of the United Nations, the World Bank and the IMF.\\n\\nPalaniappan Chidambaram, India\\'s finance minister, argued that these organisations need to take into account the changing world order, given India and China\\'s integration into the global economy. He said the issue is not globalisation but \"the terms of engagement in globalisation.\" Mr Chidambaram is attending the G7 meeting as part of the G20 group of nations, which account for two thirds of the world\\'s population. At a conference on developing enterprise hosted by UK finance minister Gordon Brown on Friday, he said that he was in favour of floating exchange rates because they help countries cope with economic shocks. \"A flexible exchange rate is one more channel for absorbing both positive and negative shocks,\" he told the conference. India, along with China, Brazil, South Africa and Russia, has been invited to take part in the G7 meeting taking place in London on Friday and Saturday. China is expected to face renewed pressure to abandon its fixed exchange rate, which G7 nations, in particular the US, have blamed for a surge in cheap Chinese exports. \"Some countries have tried to use fixed exchange rates. I do not wish to make any judgements,\" Mr Chidambaram said. Separately, the IMF warned on Thursday that India\\'s budget deficit was too large and would hamper the country\\'s economic growth, which it forecast to be around 6.5% in the year to March 2005. In the year to March 2004, the Indian economy grew by 8.5%.\\n'"
            ]
          },
          "metadata": {
            "tags": []
          },
          "execution_count": 28
        }
      ]
    },
    {
      "cell_type": "code",
      "metadata": {
        "colab": {
          "base_uri": "https://localhost:8080/"
        },
        "id": "JfIz-bQn_Bn1",
        "outputId": "d544f04c-7b0d-4e96-e673-317fbad9f7ae"
      },
      "source": [
        "bbc.info()"
      ],
      "execution_count": 13,
      "outputs": [
        {
          "output_type": "stream",
          "text": [
            "<class 'pandas.core.frame.DataFrame'>\n",
            "RangeIndex: 2225 entries, 0 to 2224\n",
            "Data columns (total 2 columns):\n",
            " #   Column  Non-Null Count  Dtype \n",
            "---  ------  --------------  ----- \n",
            " 0   news    2225 non-null   object\n",
            " 1   topics  2225 non-null   object\n",
            "dtypes: object(2)\n",
            "memory usage: 34.9+ KB\n"
          ],
          "name": "stdout"
        }
      ]
    },
    {
      "cell_type": "code",
      "metadata": {
        "colab": {
          "base_uri": "https://localhost:8080/",
          "height": 111
        },
        "id": "YVtva5GZ_EUA",
        "outputId": "6d51fc31-3df3-4e6c-c0f9-106ff9e5e432"
      },
      "source": [
        "bbc.describe(include='all').T"
      ],
      "execution_count": 14,
      "outputs": [
        {
          "output_type": "execute_result",
          "data": {
            "text/html": [
              "<div>\n",
              "<style scoped>\n",
              "    .dataframe tbody tr th:only-of-type {\n",
              "        vertical-align: middle;\n",
              "    }\n",
              "\n",
              "    .dataframe tbody tr th {\n",
              "        vertical-align: top;\n",
              "    }\n",
              "\n",
              "    .dataframe thead th {\n",
              "        text-align: right;\n",
              "    }\n",
              "</style>\n",
              "<table border=\"1\" class=\"dataframe\">\n",
              "  <thead>\n",
              "    <tr style=\"text-align: right;\">\n",
              "      <th></th>\n",
              "      <th>count</th>\n",
              "      <th>unique</th>\n",
              "      <th>top</th>\n",
              "      <th>freq</th>\n",
              "    </tr>\n",
              "  </thead>\n",
              "  <tbody>\n",
              "    <tr>\n",
              "      <th>news</th>\n",
              "      <td>2225</td>\n",
              "      <td>2127</td>\n",
              "      <td>b'Brown outlines third term vision\\n\\nGordon B...</td>\n",
              "      <td>2</td>\n",
              "    </tr>\n",
              "    <tr>\n",
              "      <th>topics</th>\n",
              "      <td>2225</td>\n",
              "      <td>5</td>\n",
              "      <td>sport</td>\n",
              "      <td>511</td>\n",
              "    </tr>\n",
              "  </tbody>\n",
              "</table>\n",
              "</div>"
            ],
            "text/plain": [
              "       count unique                                                top freq\n",
              "news    2225   2127  b'Brown outlines third term vision\\n\\nGordon B...    2\n",
              "topics  2225      5                                              sport  511"
            ]
          },
          "metadata": {
            "tags": []
          },
          "execution_count": 14
        }
      ]
    },
    {
      "cell_type": "code",
      "metadata": {
        "colab": {
          "base_uri": "https://localhost:8080/"
        },
        "id": "oxpRFj6l_EOA",
        "outputId": "c77a7283-34eb-42c5-e1da-aa81c1ed3440"
      },
      "source": [
        "len(bbc[bbc.duplicated()])"
      ],
      "execution_count": 5,
      "outputs": [
        {
          "output_type": "execute_result",
          "data": {
            "text/plain": [
              "98"
            ]
          },
          "metadata": {
            "tags": []
          },
          "execution_count": 5
        }
      ]
    },
    {
      "cell_type": "code",
      "metadata": {
        "id": "1Xl9gMt0_fy6"
      },
      "source": [
        "# removing duplicate observations\r\n",
        "bbc=bbc.drop_duplicates()"
      ],
      "execution_count": 7,
      "outputs": []
    },
    {
      "cell_type": "code",
      "metadata": {
        "colab": {
          "base_uri": "https://localhost:8080/"
        },
        "id": "4Ef1bUOm_iRe",
        "outputId": "38748a20-1768-46d2-c808-353b6bdfda52"
      },
      "source": [
        "bbc.shape"
      ],
      "execution_count": 17,
      "outputs": [
        {
          "output_type": "execute_result",
          "data": {
            "text/plain": [
              "(2127, 2)"
            ]
          },
          "metadata": {
            "tags": []
          },
          "execution_count": 17
        }
      ]
    },
    {
      "cell_type": "code",
      "metadata": {
        "colab": {
          "base_uri": "https://localhost:8080/"
        },
        "id": "d2cpG1PSAslm",
        "outputId": "1857c30c-7515-4e23-f201-65287faddea6"
      },
      "source": [
        "bbc.topics.value_counts()"
      ],
      "execution_count": null,
      "outputs": [
        {
          "output_type": "execute_result",
          "data": {
            "text/plain": [
              "3    511\n",
              "0    510\n",
              "2    417\n",
              "4    401\n",
              "1    386\n",
              "Name: label, dtype: int64"
            ]
          },
          "metadata": {
            "tags": []
          },
          "execution_count": 13
        }
      ]
    },
    {
      "cell_type": "code",
      "metadata": {
        "colab": {
          "base_uri": "https://localhost:8080/"
        },
        "id": "TvOKJedV_oSn",
        "outputId": "ff2d35ca-ba04-4b23-f1a1-f2f819ea5d7b"
      },
      "source": [
        "bbc.topics.value_counts(normalize=True)*100"
      ],
      "execution_count": 20,
      "outputs": [
        {
          "output_type": "execute_result",
          "data": {
            "text/plain": [
              "sport            23.742360\n",
              "business         23.648331\n",
              "politics         18.946874\n",
              "entertainment    17.348378\n",
              "tech             16.314057\n",
              "Name: topics, dtype: float64"
            ]
          },
          "metadata": {
            "tags": []
          },
          "execution_count": 20
        }
      ]
    },
    {
      "cell_type": "code",
      "metadata": {
        "colab": {
          "base_uri": "https://localhost:8080/",
          "height": 279
        },
        "id": "ctPgdn4PCB5c",
        "outputId": "7341f35d-0979-43e9-9897-23ed9d6355c0"
      },
      "source": [
        "import warnings \r\n",
        "warnings.filterwarnings(\"ignore\")\r\n",
        "sns.countplot(bbc['topics'], data=bbc)\r\n",
        "plt.show()"
      ],
      "execution_count": 25,
      "outputs": [
        {
          "output_type": "display_data",
          "data": {
            "image/png": "[encoded data removed]",
            "text/plain": [
              "<Figure size 432x288 with 1 Axes>"
            ]
          },
          "metadata": {
            "tags": [],
            "needs_background": "light"
          }
        }
      ]
    },
    {
      "cell_type": "code",
      "metadata": {
        "id": "oIesUCtwECdi"
      },
      "source": [
        "bbc1=bbc.copy()"
      ],
      "execution_count": 9,
      "outputs": []
    },
    {
      "cell_type": "code",
      "metadata": {
        "id": "kxgBMjW1Gtlq"
      },
      "source": [
        "# creating a column 'length' for total length of strings in each message\r\n",
        "bbc1['length']=bbc1['news'].apply(len)"
      ],
      "execution_count": 10,
      "outputs": []
    },
    {
      "cell_type": "code",
      "metadata": {
        "colab": {
          "base_uri": "https://localhost:8080/",
          "height": 204
        },
        "id": "wwiDNkGmG6Ak",
        "outputId": "5d9e1508-5fe7-43ed-b535-9e37f373fc63"
      },
      "source": [
        "bbc1.head()"
      ],
      "execution_count": 36,
      "outputs": [
        {
          "output_type": "execute_result",
          "data": {
            "text/html": [
              "<div>\n",
              "<style scoped>\n",
              "    .dataframe tbody tr th:only-of-type {\n",
              "        vertical-align: middle;\n",
              "    }\n",
              "\n",
              "    .dataframe tbody tr th {\n",
              "        vertical-align: top;\n",
              "    }\n",
              "\n",
              "    .dataframe thead th {\n",
              "        text-align: right;\n",
              "    }\n",
              "</style>\n",
              "<table border=\"1\" class=\"dataframe\">\n",
              "  <thead>\n",
              "    <tr style=\"text-align: right;\">\n",
              "      <th></th>\n",
              "      <th>news</th>\n",
              "      <th>topics</th>\n",
              "      <th>length</th>\n",
              "    </tr>\n",
              "  </thead>\n",
              "  <tbody>\n",
              "    <tr>\n",
              "      <th>0</th>\n",
              "      <td>b'India calls for fair trade rules\\n\\nIndia, w...</td>\n",
              "      <td>business</td>\n",
              "      <td>1922</td>\n",
              "    </tr>\n",
              "    <tr>\n",
              "      <th>1</th>\n",
              "      <td>b'Steel firm \\'to cut\\' 45,000 jobs\\n\\nMittal ...</td>\n",
              "      <td>business</td>\n",
              "      <td>1620</td>\n",
              "    </tr>\n",
              "    <tr>\n",
              "      <th>2</th>\n",
              "      <td>b'Call centre users \\'lose patience\\'\\n\\nCusto...</td>\n",
              "      <td>business</td>\n",
              "      <td>3854</td>\n",
              "    </tr>\n",
              "    <tr>\n",
              "      <th>3</th>\n",
              "      <td>b'Ethiopia\\'s crop production up 24%\\n\\nEthiop...</td>\n",
              "      <td>business</td>\n",
              "      <td>1494</td>\n",
              "    </tr>\n",
              "    <tr>\n",
              "      <th>4</th>\n",
              "      <td>b\"Safety alert as GM recalls cars\\n\\nThe world...</td>\n",
              "      <td>business</td>\n",
              "      <td>1829</td>\n",
              "    </tr>\n",
              "  </tbody>\n",
              "</table>\n",
              "</div>"
            ],
            "text/plain": [
              "                                                news    topics  length\n",
              "0  b'India calls for fair trade rules\\n\\nIndia, w...  business    1922\n",
              "1  b'Steel firm \\'to cut\\' 45,000 jobs\\n\\nMittal ...  business    1620\n",
              "2  b'Call centre users \\'lose patience\\'\\n\\nCusto...  business    3854\n",
              "3  b'Ethiopia\\'s crop production up 24%\\n\\nEthiop...  business    1494\n",
              "4  b\"Safety alert as GM recalls cars\\n\\nThe world...  business    1829"
            ]
          },
          "metadata": {
            "tags": []
          },
          "execution_count": 36
        }
      ]
    },
    {
      "cell_type": "code",
      "metadata": {
        "colab": {
          "base_uri": "https://localhost:8080/",
          "height": 279
        },
        "id": "LoCf-AKBHp3g",
        "outputId": "1750e71c-decb-4532-b423-2416df7b6289"
      },
      "source": [
        "# distplot\r\n",
        "sns.distplot(bbc1['length'])\r\n",
        "plt.show()"
      ],
      "execution_count": 41,
      "outputs": [
        {
          "output_type": "display_data",
          "data": {
            "image/png": "[encoded data removed]",
            "text/plain": [
              "<Figure size 432x288 with 1 Axes>"
            ]
          },
          "metadata": {
            "tags": [],
            "needs_background": "light"
          }
        }
      ]
    },
    {
      "cell_type": "code",
      "metadata": {
        "id": "SkuBrcAQmi5Y"
      },
      "source": [
        "bbc1_business = bbc1[bbc1['topics'] == 'business']\r\n",
        "bbc1_entertainment = bbc1[bbc1['topics'] == 'entertainment']\r\n",
        "bbc1_politics = bbc1[bbc1['topics'] == 'politics']\r\n",
        "bbc1_sport = bbc1[bbc1['topics'] == 'sport']\r\n",
        "bbc1_tech = bbc1[bbc1['topics'] == 'tech']"
      ],
      "execution_count": 11,
      "outputs": []
    },
    {
      "cell_type": "code",
      "metadata": {
        "colab": {
          "base_uri": "https://localhost:8080/",
          "height": 390
        },
        "id": "INwtjwGLmTcy",
        "outputId": "d28a8cbc-08b0-4aba-e141-b6e2f9ea7ebb"
      },
      "source": [
        "import matplotlib\r\n",
        "matplotlib.rcParams['figure.figsize'] = (12.0, 6.0)\r\n",
        "bins = 100\r\n",
        "plt.hist(bbc1_business['length'], alpha = 0.6, bins=bins, label='business')\r\n",
        "plt.hist(bbc1_entertainment['length'], alpha = 0.8, bins=bins, label='entertainment')\r\n",
        "plt.hist(bbc1_politics['length'], alpha = 0.4, bins=bins, label='politics')\r\n",
        "plt.hist(bbc1_sport['length'], alpha = 0.4, bins=bins, label='sport')\r\n",
        "plt.hist(bbc1_tech['length'], alpha = 0.4, bins=bins, label='tech')\r\n",
        "plt.xlabel('length')\r\n",
        "plt.ylabel('numbers')\r\n",
        "plt.legend(loc='upper right')\r\n",
        "plt.xlim(0,5000)\r\n",
        "plt.grid()\r\n",
        "plt.show()"
      ],
      "execution_count": 13,
      "outputs": [
        {
          "output_type": "display_data",
          "data": {
            "image/png": "[encoded data removed]",
            "text/plain": [
              "<Figure size 864x432 with 1 Axes>"
            ]
          },
          "metadata": {
            "tags": [],
            "needs_background": "light"
          }
        }
      ]
    },
    {
      "cell_type": "code",
      "metadata": {
        "id": "_jEOK49AO3o4"
      },
      "source": [
        "bbc1['news'] = bbc1['news'].astype('str') "
      ],
      "execution_count": 14,
      "outputs": []
    },
    {
      "cell_type": "code",
      "metadata": {
        "id": "u2-YS2yhcQRt"
      },
      "source": [
        "# removing punctutations"
      ],
      "execution_count": 82,
      "outputs": []
    },
    {
      "cell_type": "code",
      "metadata": {
        "id": "9DnINpn1dXOx"
      },
      "source": [
        "def remove_punctuation(text):\r\n",
        "    '''a function for removing punctuation'''\r\n",
        "    import string\r\n",
        "    # replacing the punctuations with no space, \r\n",
        "    # which in effect deletes the punctuation marks \r\n",
        "    translator = str.maketrans('', '', string.punctuation)\r\n",
        "    # return the text stripped of punctuation marks\r\n",
        "    return text.translate(translator)"
      ],
      "execution_count": 15,
      "outputs": []
    },
    {
      "cell_type": "code",
      "metadata": {
        "colab": {
          "base_uri": "https://localhost:8080/",
          "height": 137
        },
        "id": "D0gQzHXYdXJ8",
        "outputId": "8c89ff8c-bcd5-4842-fed9-9ef9ebe0efcf"
      },
      "source": [
        "bbc1['news'] = bbc1['news'].apply(remove_punctuation)\r\n",
        "bbc1.news[0]"
      ],
      "execution_count": 16,
      "outputs": [
        {
          "output_type": "execute_result",
          "data": {
            "application/vnd.google.colaboratory.intrinsic+json": {
              "type": "string"
            },
            "text/plain": [
              "'bIndia calls for fair trade rulesnnIndia which attends the G7 meeting of seven leading industrialised nations on Friday is unlikely to be cowed by its newcomer statusnnIn London on Thursday ahead of the meeting Indias finance minister lashed out at the restrictive trade policies of the G7 nations He objected to subsidies on agriculture that make it hard for developing nations like India to compete He also called for reform of the United Nations the World Bank and the IMFnnPalaniappan Chidambaram Indias finance minister argued that these organisations need to take into account the changing world order given India and Chinas integration into the global economy He said the issue is not globalisation but the terms of engagement in globalisation Mr Chidambaram is attending the G7 meeting as part of the G20 group of nations which account for two thirds of the worlds population At a conference on developing enterprise hosted by UK finance minister Gordon Brown on Friday he said that he was in favour of floating exchange rates because they help countries cope with economic shocks A flexible exchange rate is one more channel for absorbing both positive and negative shocks he told the conference India along with China Brazil South Africa and Russia has been invited to take part in the G7 meeting taking place in London on Friday and Saturday China is expected to face renewed pressure to abandon its fixed exchange rate which G7 nations in particular the US have blamed for a surge in cheap Chinese exports Some countries have tried to use fixed exchange rates I do not wish to make any judgements Mr Chidambaram said Separately the IMF warned on Thursday that Indias budget deficit was too large and would hamper the countrys economic growth which it forecast to be around 65 in the year to March 2005 In the year to March 2004 the Indian economy grew by 85n'"
            ]
          },
          "metadata": {
            "tags": []
          },
          "execution_count": 16
        }
      ]
    },
    {
      "cell_type": "code",
      "metadata": {
        "colab": {
          "base_uri": "https://localhost:8080/"
        },
        "id": "kYcvKjvleZEM",
        "outputId": "13f55d2b-faad-4f0f-fed1-0508cec368f2"
      },
      "source": [
        "len(bbc1.news[0])"
      ],
      "execution_count": 17,
      "outputs": [
        {
          "output_type": "execute_result",
          "data": {
            "text/plain": [
              "1870"
            ]
          },
          "metadata": {
            "tags": []
          },
          "execution_count": 17
        }
      ]
    },
    {
      "cell_type": "code",
      "metadata": {
        "id": "ZqB8cZM0dXFt"
      },
      "source": [
        "# removing stopwords"
      ],
      "execution_count": 18,
      "outputs": []
    },
    {
      "cell_type": "code",
      "metadata": {
        "id": "3fG7YDJGdXBf"
      },
      "source": [
        "stop_words = stopwords.words('english')"
      ],
      "execution_count": 19,
      "outputs": []
    },
    {
      "cell_type": "code",
      "metadata": {
        "id": "68TL4fR3dW9E"
      },
      "source": [
        "def stopwords(text):\r\n",
        "    '''a function for removing the stopword'''\r\n",
        "    # removing the stop words and lowercasing the selected words\r\n",
        "    text = [wd.lower() for wd in text.split() if wd.lower() not in stop_words]\r\n",
        "    # joining the list of words with space separator\r\n",
        "    return \" \".join(text)"
      ],
      "execution_count": 20,
      "outputs": []
    },
    {
      "cell_type": "code",
      "metadata": {
        "colab": {
          "base_uri": "https://localhost:8080/",
          "height": 137
        },
        "id": "2jXcfZp6eDIi",
        "outputId": "8a3891d6-2112-4e50-8ba8-f5d68f9ab4a7"
      },
      "source": [
        "bbc1['news'] = bbc1['news'].apply(stopwords)\r\n",
        "bbc1.news[0]"
      ],
      "execution_count": 21,
      "outputs": [
        {
          "output_type": "execute_result",
          "data": {
            "application/vnd.google.colaboratory.intrinsic+json": {
              "type": "string"
            },
            "text/plain": [
              "'bindia calls fair trade rulesnnindia attends g7 meeting seven leading industrialised nations friday unlikely cowed newcomer statusnnin london thursday ahead meeting indias finance minister lashed restrictive trade policies g7 nations objected subsidies agriculture make hard developing nations like india compete also called reform united nations world bank imfnnpalaniappan chidambaram indias finance minister argued organisations need take account changing world order given india chinas integration global economy said issue globalisation terms engagement globalisation mr chidambaram attending g7 meeting part g20 group nations account two thirds worlds population conference developing enterprise hosted uk finance minister gordon brown friday said favour floating exchange rates help countries cope economic shocks flexible exchange rate one channel absorbing positive negative shocks told conference india along china brazil south africa russia invited take part g7 meeting taking place london friday saturday china expected face renewed pressure abandon fixed exchange rate g7 nations particular us blamed surge cheap chinese exports countries tried use fixed exchange rates wish make judgements mr chidambaram said separately imf warned thursday indias budget deficit large would hamper countrys economic growth forecast around 65 year march 2005 year march 2004 indian economy grew 85n'"
            ]
          },
          "metadata": {
            "tags": []
          },
          "execution_count": 21
        }
      ]
    },
    {
      "cell_type": "code",
      "metadata": {
        "colab": {
          "base_uri": "https://localhost:8080/"
        },
        "id": "t9N5WB62eDEg",
        "outputId": "0af272b5-4a82-43b1-8d5a-1e8909db7fee"
      },
      "source": [
        "len(bbc1.news[0])"
      ],
      "execution_count": 22,
      "outputs": [
        {
          "output_type": "execute_result",
          "data": {
            "text/plain": [
              "1395"
            ]
          },
          "metadata": {
            "tags": []
          },
          "execution_count": 22
        }
      ]
    },
    {
      "cell_type": "code",
      "metadata": {
        "id": "iJvqZ0TzeC1f"
      },
      "source": [
        "# stemming"
      ],
      "execution_count": 23,
      "outputs": []
    },
    {
      "cell_type": "code",
      "metadata": {
        "id": "IF6UZWEteCxf"
      },
      "source": [
        "from nltk.stem.snowball import SnowballStemmer\r\n",
        "stemmer = SnowballStemmer(\"english\")\r\n",
        "\r\n",
        "def stemming(text):    \r\n",
        "    '''a function which stems each word in the given text'''\r\n",
        "    text = [stemmer.stem(word) for word in text.split()]\r\n",
        "    return \" \".join(text) "
      ],
      "execution_count": 24,
      "outputs": []
    },
    {
      "cell_type": "code",
      "metadata": {
        "colab": {
          "base_uri": "https://localhost:8080/",
          "height": 137
        },
        "id": "pFEDWLO4eCt1",
        "outputId": "c49f2314-3812-439b-bd14-b89c1b9958e4"
      },
      "source": [
        "bbc1['news'] = bbc1['news'].apply(stemming)\r\n",
        "bbc1.news[0]"
      ],
      "execution_count": 25,
      "outputs": [
        {
          "output_type": "execute_result",
          "data": {
            "application/vnd.google.colaboratory.intrinsic+json": {
              "type": "string"
            },
            "text/plain": [
              "'bindia call fair trade rulesnnindia attend g7 meet seven lead industrialis nation friday unlik cow newcom statusnnin london thursday ahead meet india financ minist lash restrict trade polici g7 nation object subsidi agricultur make hard develop nation like india compet also call reform unit nation world bank imfnnpalaniappan chidambaram india financ minist argu organis need take account chang world order given india china integr global economi said issu globalis term engag globalis mr chidambaram attend g7 meet part g20 group nation account two third world popul confer develop enterpris host uk financ minist gordon brown friday said favour float exchang rate help countri cope econom shock flexibl exchang rate one channel absorb posit negat shock told confer india along china brazil south africa russia invit take part g7 meet take place london friday saturday china expect face renew pressur abandon fix exchang rate g7 nation particular us blame surg cheap chines export countri tri use fix exchang rate wish make judgement mr chidambaram said separ imf warn thursday india budget deficit larg would hamper countri econom growth forecast around 65 year march 2005 year march 2004 indian economi grew 85n'"
            ]
          },
          "metadata": {
            "tags": []
          },
          "execution_count": 25
        }
      ]
    },
    {
      "cell_type": "code",
      "metadata": {
        "colab": {
          "base_uri": "https://localhost:8080/"
        },
        "id": "z6MhZUXXeCpB",
        "outputId": "2d68377c-b8f6-48ea-8650-febaf97aa437"
      },
      "source": [
        "len(bbc1.news[0])"
      ],
      "execution_count": 26,
      "outputs": [
        {
          "output_type": "execute_result",
          "data": {
            "text/plain": [
              "1215"
            ]
          },
          "metadata": {
            "tags": []
          },
          "execution_count": 26
        }
      ]
    },
    {
      "cell_type": "code",
      "metadata": {
        "colab": {
          "base_uri": "https://localhost:8080/",
          "height": 204
        },
        "id": "ii64FiOZeCls",
        "outputId": "a151d33f-8a3a-4f0c-8971-7b9e90dc98de"
      },
      "source": [
        "bbc1['final_length']=bbc1['news'].apply(len)\r\n",
        "bbc1.head()"
      ],
      "execution_count": 27,
      "outputs": [
        {
          "output_type": "execute_result",
          "data": {
            "text/html": [
              "<div>\n",
              "<style scoped>\n",
              "    .dataframe tbody tr th:only-of-type {\n",
              "        vertical-align: middle;\n",
              "    }\n",
              "\n",
              "    .dataframe tbody tr th {\n",
              "        vertical-align: top;\n",
              "    }\n",
              "\n",
              "    .dataframe thead th {\n",
              "        text-align: right;\n",
              "    }\n",
              "</style>\n",
              "<table border=\"1\" class=\"dataframe\">\n",
              "  <thead>\n",
              "    <tr style=\"text-align: right;\">\n",
              "      <th></th>\n",
              "      <th>news</th>\n",
              "      <th>topics</th>\n",
              "      <th>length</th>\n",
              "      <th>final_length</th>\n",
              "    </tr>\n",
              "  </thead>\n",
              "  <tbody>\n",
              "    <tr>\n",
              "      <th>0</th>\n",
              "      <td>bindia call fair trade rulesnnindia attend g7 ...</td>\n",
              "      <td>business</td>\n",
              "      <td>1922</td>\n",
              "      <td>1215</td>\n",
              "    </tr>\n",
              "    <tr>\n",
              "      <th>1</th>\n",
              "      <td>bsteel firm cut 45000 jobsnnmitt steel one wor...</td>\n",
              "      <td>business</td>\n",
              "      <td>1620</td>\n",
              "      <td>1048</td>\n",
              "    </tr>\n",
              "    <tr>\n",
              "      <th>2</th>\n",
              "      <td>bcall centr user lose patiencenncustom tri get...</td>\n",
              "      <td>business</td>\n",
              "      <td>3854</td>\n",
              "      <td>2259</td>\n",
              "    </tr>\n",
              "    <tr>\n",
              "      <th>3</th>\n",
              "      <td>bethiopia crop product 24nnethiopia produc 142...</td>\n",
              "      <td>business</td>\n",
              "      <td>1494</td>\n",
              "      <td>1025</td>\n",
              "    </tr>\n",
              "    <tr>\n",
              "      <th>4</th>\n",
              "      <td>bsafeti alert gm recal carsnnth world biggest ...</td>\n",
              "      <td>business</td>\n",
              "      <td>1829</td>\n",
              "      <td>1223</td>\n",
              "    </tr>\n",
              "  </tbody>\n",
              "</table>\n",
              "</div>"
            ],
            "text/plain": [
              "                                                news  ... final_length\n",
              "0  bindia call fair trade rulesnnindia attend g7 ...  ...         1215\n",
              "1  bsteel firm cut 45000 jobsnnmitt steel one wor...  ...         1048\n",
              "2  bcall centr user lose patiencenncustom tri get...  ...         2259\n",
              "3  bethiopia crop product 24nnethiopia produc 142...  ...         1025\n",
              "4  bsafeti alert gm recal carsnnth world biggest ...  ...         1223\n",
              "\n",
              "[5 rows x 4 columns]"
            ]
          },
          "metadata": {
            "tags": []
          },
          "execution_count": 27
        }
      ]
    },
    {
      "cell_type": "code",
      "metadata": {
        "colab": {
          "base_uri": "https://localhost:8080/",
          "height": 595
        },
        "id": "xvyU6c6gimn8",
        "outputId": "05eeb78c-604f-48bb-d308-d7d46e96ed79"
      },
      "source": [
        "plt.hist(bbc1_business['final_length'], alpha = 0.6, bins=50, label='business')"
      ],
      "execution_count": 33,
      "outputs": [
        {
          "output_type": "execute_result",
          "data": {
            "text/plain": [
              "(array([12., 14., 17., 15., 27., 22., 34., 26., 33., 21., 29., 31., 21.,\n",
              "        30., 14., 14., 14., 13., 16.,  9., 12.,  8.,  9.,  8., 11.,  4.,\n",
              "         3.,  3.,  2.,  4.,  4.,  2.,  2.,  1.,  1.,  1.,  0.,  0.,  1.,\n",
              "         2.,  5.,  0.,  2.,  0.,  2.,  1.,  0.,  0.,  1.,  2.]),\n",
              " array([ 563.  ,  618.52,  674.04,  729.56,  785.08,  840.6 ,  896.12,\n",
              "         951.64, 1007.16, 1062.68, 1118.2 , 1173.72, 1229.24, 1284.76,\n",
              "        1340.28, 1395.8 , 1451.32, 1506.84, 1562.36, 1617.88, 1673.4 ,\n",
              "        1728.92, 1784.44, 1839.96, 1895.48, 1951.  , 2006.52, 2062.04,\n",
              "        2117.56, 2173.08, 2228.6 , 2284.12, 2339.64, 2395.16, 2450.68,\n",
              "        2506.2 , 2561.72, 2617.24, 2672.76, 2728.28, 2783.8 , 2839.32,\n",
              "        2894.84, 2950.36, 3005.88, 3061.4 , 3116.92, 3172.44, 3227.96,\n",
              "        3283.48, 3339.  ]),\n",
              " <a list of 50 Patch objects>)"
            ]
          },
          "metadata": {
            "tags": []
          },
          "execution_count": 33
        },
        {
          "output_type": "display_data",
          "data": {
            "image/png": "[encoded data removed]",
            "text/plain": [
              "<Figure size 864x432 with 1 Axes>"
            ]
          },
          "metadata": {
            "tags": [],
            "needs_background": "light"
          }
        }
      ]
    },
    {
      "cell_type": "code",
      "metadata": {
        "colab": {
          "base_uri": "https://localhost:8080/",
          "height": 629
        },
        "id": "uoXAAbYai4vf",
        "outputId": "1b10eacc-21f1-454b-cd2a-47124eb50110"
      },
      "source": [
        "plt.hist(bbc1_entertainment['final_length'], alpha = 0.8, bins=bins, label='entertainment')"
      ],
      "execution_count": 35,
      "outputs": [
        {
          "output_type": "execute_result",
          "data": {
            "text/plain": [
              "(array([ 46., 125.,  75.,  41.,  24.,  13.,  14.,  15.,   5.,   3.,   2.,\n",
              "          0.,   0.,   0.,   0.,   1.,   1.,   0.,   1.,   0.,   0.,   0.,\n",
              "          0.,   0.,   0.,   0.,   0.,   0.,   0.,   0.,   0.,   0.,   1.,\n",
              "          0.,   0.,   1.,   0.,   0.,   0.,   0.,   0.,   0.,   0.,   0.,\n",
              "          0.,   0.,   0.,   0.,   0.,   1.]),\n",
              " array([  544.  ,   759.64,   975.28,  1190.92,  1406.56,  1622.2 ,\n",
              "         1837.84,  2053.48,  2269.12,  2484.76,  2700.4 ,  2916.04,\n",
              "         3131.68,  3347.32,  3562.96,  3778.6 ,  3994.24,  4209.88,\n",
              "         4425.52,  4641.16,  4856.8 ,  5072.44,  5288.08,  5503.72,\n",
              "         5719.36,  5935.  ,  6150.64,  6366.28,  6581.92,  6797.56,\n",
              "         7013.2 ,  7228.84,  7444.48,  7660.12,  7875.76,  8091.4 ,\n",
              "         8307.04,  8522.68,  8738.32,  8953.96,  9169.6 ,  9385.24,\n",
              "         9600.88,  9816.52, 10032.16, 10247.8 , 10463.44, 10679.08,\n",
              "        10894.72, 11110.36, 11326.  ]),\n",
              " <a list of 50 Patch objects>)"
            ]
          },
          "metadata": {
            "tags": []
          },
          "execution_count": 35
        },
        {
          "output_type": "display_data",
          "data": {
            "image/png": "[encoded data removed]",
            "text/plain": [
              "<Figure size 864x432 with 1 Axes>"
            ]
          },
          "metadata": {
            "tags": [],
            "needs_background": "light"
          }
        }
      ]
    },
    {
      "cell_type": "code",
      "metadata": {
        "colab": {
          "base_uri": "https://localhost:8080/",
          "height": 595
        },
        "id": "dcFgUVM6i8La",
        "outputId": "3fd98167-9cd8-4a92-b38f-70160b73f6c0"
      },
      "source": [
        "plt.hist(bbc1_politics['final_length'], alpha = 0.4, bins=bins, label='politics')"
      ],
      "execution_count": 36,
      "outputs": [
        {
          "output_type": "execute_result",
          "data": {
            "text/plain": [
              "(array([ 4., 36., 61., 57., 84., 82., 44., 21.,  7.,  1.,  1.,  2.,  0.,\n",
              "         0.,  0.,  0.,  0.,  0.,  0.,  0.,  0.,  0.,  0.,  0.,  0.,  0.,\n",
              "         0.,  1.,  0.,  0.,  0.,  0.,  0.,  0.,  0.,  0.,  1.,  0.,  0.,\n",
              "         0.,  0.,  0.,  0.,  0.,  0.,  0.,  0.,  0.,  0.,  1.]),\n",
              " array([  312. ,   597.9,   883.8,  1169.7,  1455.6,  1741.5,  2027.4,\n",
              "         2313.3,  2599.2,  2885.1,  3171. ,  3456.9,  3742.8,  4028.7,\n",
              "         4314.6,  4600.5,  4886.4,  5172.3,  5458.2,  5744.1,  6030. ,\n",
              "         6315.9,  6601.8,  6887.7,  7173.6,  7459.5,  7745.4,  8031.3,\n",
              "         8317.2,  8603.1,  8889. ,  9174.9,  9460.8,  9746.7, 10032.6,\n",
              "        10318.5, 10604.4, 10890.3, 11176.2, 11462.1, 11748. , 12033.9,\n",
              "        12319.8, 12605.7, 12891.6, 13177.5, 13463.4, 13749.3, 14035.2,\n",
              "        14321.1, 14607. ]),\n",
              " <a list of 50 Patch objects>)"
            ]
          },
          "metadata": {
            "tags": []
          },
          "execution_count": 36
        },
        {
          "output_type": "display_data",
          "data": {
            "image/png": "[encoded data removed]",
            "text/plain": [
              "<Figure size 864x432 with 1 Axes>"
            ]
          },
          "metadata": {
            "tags": [],
            "needs_background": "light"
          }
        }
      ]
    },
    {
      "cell_type": "code",
      "metadata": {
        "colab": {
          "base_uri": "https://localhost:8080/",
          "height": 578
        },
        "id": "iMA2bElrjBKD",
        "outputId": "ca6abed1-77c5-443c-bfc1-a32360151ee9"
      },
      "source": [
        "plt.hist(bbc1_sport['final_length'], alpha = 0.4, bins=bins, label='sport')"
      ],
      "execution_count": 37,
      "outputs": [
        {
          "output_type": "execute_result",
          "data": {
            "text/plain": [
              "(array([36., 52., 47., 62., 44., 57., 34., 32., 14., 20., 22., 12., 11.,\n",
              "        12.,  6.,  4.,  7.,  5.,  6.,  4.,  4.,  5.,  0.,  0.,  3.,  0.,\n",
              "         0.,  0.,  0.,  0.,  1.,  0.,  1.,  2.,  0.,  0.,  0.,  0.,  0.,\n",
              "         0.,  1.,  0.,  0.,  0.,  0.,  0.,  0.,  0.,  0.,  1.]),\n",
              " array([ 428. ,  540.3,  652.6,  764.9,  877.2,  989.5, 1101.8, 1214.1,\n",
              "        1326.4, 1438.7, 1551. , 1663.3, 1775.6, 1887.9, 2000.2, 2112.5,\n",
              "        2224.8, 2337.1, 2449.4, 2561.7, 2674. , 2786.3, 2898.6, 3010.9,\n",
              "        3123.2, 3235.5, 3347.8, 3460.1, 3572.4, 3684.7, 3797. , 3909.3,\n",
              "        4021.6, 4133.9, 4246.2, 4358.5, 4470.8, 4583.1, 4695.4, 4807.7,\n",
              "        4920. , 5032.3, 5144.6, 5256.9, 5369.2, 5481.5, 5593.8, 5706.1,\n",
              "        5818.4, 5930.7, 6043. ]),\n",
              " <a list of 50 Patch objects>)"
            ]
          },
          "metadata": {
            "tags": []
          },
          "execution_count": 37
        },
        {
          "output_type": "display_data",
          "data": {
            "image/png": "[encoded data removed]",
            "text/plain": [
              "<Figure size 864x432 with 1 Axes>"
            ]
          },
          "metadata": {
            "tags": [],
            "needs_background": "light"
          }
        }
      ]
    },
    {
      "cell_type": "code",
      "metadata": {
        "colab": {
          "base_uri": "https://localhost:8080/",
          "height": 595
        },
        "id": "CNYrjWsojDSq",
        "outputId": "f8831cd2-f5d4-4bae-86ab-1b9805dd23b0"
      },
      "source": [
        "plt.hist(bbc1_tech['final_length'], alpha = 0.4, bins=bins, label='tech')"
      ],
      "execution_count": 38,
      "outputs": [
        {
          "output_type": "execute_result",
          "data": {
            "text/plain": [
              "(array([ 4., 12., 30., 34., 44., 39., 32., 29., 18., 17., 23., 17., 10.,\n",
              "        14., 10.,  3.,  4.,  1.,  1.,  1.,  0.,  0.,  1.,  1.,  0.,  0.,\n",
              "         0.,  0.,  1.,  0.,  0.,  0.,  0.,  0.,  0.,  0.,  0.,  0.,  0.,\n",
              "         0.,  0.,  0.,  0.,  0.,  0.,  0.,  0.,  0.,  0.,  1.]),\n",
              " array([ 610.  ,  781.44,  952.88, 1124.32, 1295.76, 1467.2 , 1638.64,\n",
              "        1810.08, 1981.52, 2152.96, 2324.4 , 2495.84, 2667.28, 2838.72,\n",
              "        3010.16, 3181.6 , 3353.04, 3524.48, 3695.92, 3867.36, 4038.8 ,\n",
              "        4210.24, 4381.68, 4553.12, 4724.56, 4896.  , 5067.44, 5238.88,\n",
              "        5410.32, 5581.76, 5753.2 , 5924.64, 6096.08, 6267.52, 6438.96,\n",
              "        6610.4 , 6781.84, 6953.28, 7124.72, 7296.16, 7467.6 , 7639.04,\n",
              "        7810.48, 7981.92, 8153.36, 8324.8 , 8496.24, 8667.68, 8839.12,\n",
              "        9010.56, 9182.  ]),\n",
              " <a list of 50 Patch objects>)"
            ]
          },
          "metadata": {
            "tags": []
          },
          "execution_count": 38
        },
        {
          "output_type": "display_data",
          "data": {
            "image/png": "[encoded data removed]",
            "text/plain": [
              "<Figure size 864x432 with 1 Axes>"
            ]
          },
          "metadata": {
            "tags": [],
            "needs_background": "light"
          }
        }
      ]
    },
    {
      "cell_type": "code",
      "metadata": {
        "colab": {
          "base_uri": "https://localhost:8080/",
          "height": 388
        },
        "id": "ab1Kf4QGhJmH",
        "outputId": "7d0d27f3-1aea-4735-f89f-a19e7fd95098"
      },
      "source": [
        "import matplotlib\r\n",
        "%matplotlib inline\r\n",
        "%config InlineBackend.figure_format = 'retina'\r\n",
        "\r\n",
        "matplotlib.rcParams['figure.figsize'] = (12.0, 6.0)\r\n",
        "bins = 100\r\n",
        "plt.hist(bbc1_business['final_length'], alpha = 0.6, bins=bins, label='business')\r\n",
        "plt.hist(bbc1_entertainment['final_length'], alpha = 0.8, bins=bins, label='entertainment')\r\n",
        "plt.hist(bbc1_politics['final_length'], alpha = 0.4, bins=bins, label='politics')\r\n",
        "plt.hist(bbc1_sport['final_length'], alpha = 0.4, bins=bins, label='sport')\r\n",
        "plt.hist(bbc1_tech['final_length'], alpha = 0.4, bins=bins, label='tech')\r\n",
        "plt.xlabel('final_length')\r\n",
        "plt.ylabel('numbers')\r\n",
        "plt.legend(loc='upper right')\r\n",
        "plt.xlim(0,4000)\r\n",
        "plt.grid()\r\n",
        "plt.show()"
      ],
      "execution_count": 51,
      "outputs": [
        {
          "output_type": "display_data",
          "data": {
            "image/png": "[encoded data removed]",
            "text/plain": [
              "<Figure size 864x432 with 1 Axes>"
            ]
          },
          "metadata": {
            "tags": [],
            "image/png": {
              "width": 730,
              "height": 371
            },
            "needs_background": "light"
          }
        }
      ]
    },
    {
      "cell_type": "code",
      "metadata": {
        "id": "rz3-Y8iNH80I"
      },
      "source": [
        "def text_process(msg):\r\n",
        "    nopunc =[char for char in msg if char not in string.punctuation]\r\n",
        "    nopunc=''.join(nopunc)\r\n",
        "    return ' '.join([word for word in nopunc.split() if word.lower() not in stopwords.words('english')])"
      ],
      "execution_count": 29,
      "outputs": []
    },
    {
      "cell_type": "code",
      "metadata": {
        "id": "6a_mAvGpnh5p"
      },
      "source": [
        "bbc1['tokenized_news'] = bbc1['news'].apply(text_process)"
      ],
      "execution_count": null,
      "outputs": []
    },
    {
      "cell_type": "code",
      "metadata": {
        "colab": {
          "base_uri": "https://localhost:8080/",
          "height": 204
        },
        "id": "DJUFLUmPPXub",
        "outputId": "90820fdf-4c2e-47dd-b05d-19ced2892f0d"
      },
      "source": [
        "bbc1.head()"
      ],
      "execution_count": 33,
      "outputs": [
        {
          "output_type": "execute_result",
          "data": {
            "text/html": [
              "<div>\n",
              "<style scoped>\n",
              "    .dataframe tbody tr th:only-of-type {\n",
              "        vertical-align: middle;\n",
              "    }\n",
              "\n",
              "    .dataframe tbody tr th {\n",
              "        vertical-align: top;\n",
              "    }\n",
              "\n",
              "    .dataframe thead th {\n",
              "        text-align: right;\n",
              "    }\n",
              "</style>\n",
              "<table border=\"1\" class=\"dataframe\">\n",
              "  <thead>\n",
              "    <tr style=\"text-align: right;\">\n",
              "      <th></th>\n",
              "      <th>news</th>\n",
              "      <th>topics</th>\n",
              "      <th>length</th>\n",
              "      <th>final_length</th>\n",
              "    </tr>\n",
              "  </thead>\n",
              "  <tbody>\n",
              "    <tr>\n",
              "      <th>0</th>\n",
              "      <td>bindia call fair trade rulesnnindia attend g7 ...</td>\n",
              "      <td>business</td>\n",
              "      <td>1922</td>\n",
              "      <td>1215</td>\n",
              "    </tr>\n",
              "    <tr>\n",
              "      <th>1</th>\n",
              "      <td>bsteel firm cut 45000 jobsnnmitt steel one wor...</td>\n",
              "      <td>business</td>\n",
              "      <td>1620</td>\n",
              "      <td>1048</td>\n",
              "    </tr>\n",
              "    <tr>\n",
              "      <th>2</th>\n",
              "      <td>bcall centr user lose patiencenncustom tri get...</td>\n",
              "      <td>business</td>\n",
              "      <td>3854</td>\n",
              "      <td>2259</td>\n",
              "    </tr>\n",
              "    <tr>\n",
              "      <th>3</th>\n",
              "      <td>bethiopia crop product 24nnethiopia produc 142...</td>\n",
              "      <td>business</td>\n",
              "      <td>1494</td>\n",
              "      <td>1025</td>\n",
              "    </tr>\n",
              "    <tr>\n",
              "      <th>4</th>\n",
              "      <td>bsafeti alert gm recal carsnnth world biggest ...</td>\n",
              "      <td>business</td>\n",
              "      <td>1829</td>\n",
              "      <td>1223</td>\n",
              "    </tr>\n",
              "  </tbody>\n",
              "</table>\n",
              "</div>"
            ],
            "text/plain": [
              "                                                news  ... final_length\n",
              "0  bindia call fair trade rulesnnindia attend g7 ...  ...         1215\n",
              "1  bsteel firm cut 45000 jobsnnmitt steel one wor...  ...         1048\n",
              "2  bcall centr user lose patiencenncustom tri get...  ...         2259\n",
              "3  bethiopia crop product 24nnethiopia produc 142...  ...         1025\n",
              "4  bsafeti alert gm recal carsnnth world biggest ...  ...         1223\n",
              "\n",
              "[5 rows x 4 columns]"
            ]
          },
          "metadata": {
            "tags": []
          },
          "execution_count": 33
        }
      ]
    },
    {
      "cell_type": "code",
      "metadata": {
        "colab": {
          "base_uri": "https://localhost:8080/",
          "height": 137
        },
        "id": "dbLtKF2aPcQL",
        "outputId": "837302ad-d047-45ad-d26f-75a8b3c5a7c6"
      },
      "source": [
        "bbc1.tokenized_news[0]"
      ],
      "execution_count": 63,
      "outputs": [
        {
          "output_type": "execute_result",
          "data": {
            "application/vnd.google.colaboratory.intrinsic+json": {
              "type": "string"
            },
            "text/plain": [
              "'bIndia calls fair trade rulesnnIndia attends G7 meeting seven leading industrialised nations Friday unlikely cowed newcomer statusnnIn London Thursday ahead meeting Indias finance minister lashed restrictive trade policies G7 nations objected subsidies agriculture make hard developing nations like India compete also called reform United Nations World Bank IMFnnPalaniappan Chidambaram Indias finance minister argued organisations need take account changing world order given India Chinas integration global economy said issue globalisation terms engagement globalisation Mr Chidambaram attending G7 meeting part G20 group nations account two thirds worlds population conference developing enterprise hosted UK finance minister Gordon Brown Friday said favour floating exchange rates help countries cope economic shocks flexible exchange rate one channel absorbing positive negative shocks told conference India along China Brazil South Africa Russia invited take part G7 meeting taking place London Friday Saturday China expected face renewed pressure abandon fixed exchange rate G7 nations particular US blamed surge cheap Chinese exports countries tried use fixed exchange rates wish make judgements Mr Chidambaram said Separately IMF warned Thursday Indias budget deficit large would hamper countrys economic growth forecast around 65 year March 2005 year March 2004 Indian economy grew 85n'"
            ]
          },
          "metadata": {
            "tags": []
          },
          "execution_count": 63
        }
      ]
    },
    {
      "cell_type": "code",
      "metadata": {
        "id": "9utTnoVRlNWw"
      },
      "source": [
        ""
      ],
      "execution_count": null,
      "outputs": []
    },
    {
      "cell_type": "code",
      "metadata": {
        "id": "3szX3BonojR-"
      },
      "source": [
        "reindexed_data = raw_data['headline_text']\r\n",
        "reindexed_data.index = raw_data['publish_date']"
      ],
      "execution_count": null,
      "outputs": []
    },
    {
      "cell_type": "code",
      "metadata": {
        "id": "yklVfpV_lNIx"
      },
      "source": [
        "# Define helper functions\r\n",
        "def get_top_n_words(n_top_words, count_vectorizer, text_data):\r\n",
        "    '''\r\n",
        "    returns a tuple of the top n words in a sample and their \r\n",
        "    accompanying counts, given a CountVectorizer object and text sample\r\n",
        "    '''\r\n",
        "    vectorized_headlines = count_vectorizer.fit_transform(text_data.values)\r\n",
        "    vectorized_total = np.sum(vectorized_headlines, axis=0)\r\n",
        "    word_indices = np.flip(np.argsort(vectorized_total)[0,:], 1)\r\n",
        "    word_values = np.flip(np.sort(vectorized_total)[0,:],1)\r\n",
        "    \r\n",
        "    word_vectors = np.zeros((n_top_words, vectorized_headlines.shape[1]))\r\n",
        "    for i in range(n_top_words):\r\n",
        "        word_vectors[i,word_indices[0,i]] = 1\r\n",
        "\r\n",
        "    words = [word[0].encode('ascii').decode('utf-8') for \r\n",
        "             word in count_vectorizer.inverse_transform(word_vectors)]\r\n",
        "\r\n",
        "    return (words, word_values[0,:n_top_words].tolist()[0])"
      ],
      "execution_count": 31,
      "outputs": []
    },
    {
      "cell_type": "code",
      "metadata": {
        "colab": {
          "base_uri": "https://localhost:8080/",
          "height": 546
        },
        "id": "tQOoqj96lM2Y",
        "outputId": "62fea10d-f937-4798-a007-831d8b796f17"
      },
      "source": [
        "count_vectorizer = CountVectorizer(stop_words='english')\r\n",
        "words, word_values = get_top_n_words(n_top_words=15,\r\n",
        "                                     count_vectorizer=count_vectorizer, \r\n",
        "                                     text_data=bbc1['news'])\r\n",
        "\r\n",
        "fig, ax = plt.subplots(figsize=(16,8))\r\n",
        "ax.bar(range(len(words)), word_values)\r\n",
        "ax.set_xticks(range(len(words)))\r\n",
        "ax.set_xticklabels(words, rotation='vertical')\r\n",
        "ax.set_title('Top words in bbc dataset (excluding stop words)')\r\n",
        "ax.set_xlabel('Word')\r\n",
        "ax.set_ylabel('Number of occurences')\r\n",
        "plt.show()"
      ],
      "execution_count": 34,
      "outputs": [
        {
          "output_type": "display_data",
          "data": {
            "image/png": "[encoded data removed]",
            "text/plain": [
              "<Figure size 1152x576 with 1 Axes>"
            ]
          },
          "metadata": {
            "tags": [],
            "needs_background": "light"
          }
        }
      ]
    },
    {
      "cell_type": "code",
      "metadata": {
        "id": "cvYlyBmzlMyx"
      },
      "source": [
        "vectorizer = TfidfVectorizer(max_df = 0.9,min_df = 2)\r\n",
        "news1 = vectorizer.fit_transform(bbc1['news'])"
      ],
      "execution_count": 36,
      "outputs": []
    },
    {
      "cell_type": "code",
      "metadata": {
        "colab": {
          "base_uri": "https://localhost:8080/"
        },
        "id": "4wDryn2plim9",
        "outputId": "5f9910b9-46c2-40e7-eb3e-0131d1920744"
      },
      "source": [
        "print(vectorizer.get_feature_names())"
      ],
      "execution_count": 38,
      "outputs": [
        {
          "output_type": "stream",
          "text": [
            "['00', '003', '007', '01', '0100', '0130', '02', '027', '03', '030', '0305', '04', '0400', '05', '06', '07', '08', '0800', '09', '0900', '10', '100', '1000', '10000', '100000', '10000m', '1000m', '1000th', '100bn', '100m', '100mn', '100s', '101', '1015', '102', '1020', '103', '1030', '103bn', '104', '104000', '1044', '106', '107', '107bn', '108', '1080', '109', '10bn', '10day', '10game', '10km', '10m', '10minut', '10month', '10n', '10th', '10year', '11', '110', '1100', '11000', '110000', '110m', '112', '113', '1130', '113bn', '114', '115', '115bn', '117', '118', '118m', '119', '11bn', '11m', '11pm', '11th', '12', '120', '1200', '12000', '120000', '120gb', '120m', '121', '1218', '123', '1230', '124', '125', '12500', '125000', '125m', '126', '12600', '127', '127th', '128', '129', '12bn', '12member', '12nation', '12th', '12yearold', '13', '130', '1300', '13000', '130000', '131', '132', '1324', '133', '133bn', '133m', '134', '135', '136', '136m', '137', '138', '13bn', '13m', '13n', '13nnsoni', '13th', '14', '140', '1400', '14000', '140000', '141', '141bn', '142', '142bn', '143m', '144', '1444', '144mbps', '145', '145bn', '145m', '146', '147', '147m', '148', '149', '14bn', '14m', '14mbps', '14th', '14yearold', '15', '150', '1500', '15000', '150000', '1500m', '150m', '151', '153m', '155bn', '155m', '156', '157000', '158', '15bn', '15m', '15man', '15s', '15th', '15year', '15yearold', '16', '160', '1600', '160bn', '162', '162bn', '163', '164', '165', '166', '166bn', '167', '168', '169', '16bn', '16k', '16m', '16th', '16yearold', '17', '170', '1700', '17000', '1701', '1716', '1728', '173', '1730m', '1731', '175', '175bn', '176', '1761', '176m', '178', '178bn', '17bn', '17m', '17th', '17yearold', '18', '180', '18000', '180000', '180bn', '1810', '1812', '1815', '1817', '182', '1830', '184', '185', '1857', '186', '187', '187m', '188', '189', '1891', '1893', '18bn', '18m', '18month', '18th', '18yearold', '19', '190', '1900', '1908', '191', '1912', '1913', '1917', '191m', '1920', '1929', '1930', '1930s', '1934', '1935', '1937', '1938', '1940', '1940s', '1941', '1942', '1943', '1945', '1946', '1947', '1948', '1948nndimitri', '1949', '195', '1950', '1950s', '1951', '1952', '1953', '1954', '1955', '1956', '1957', '1958', '196', '1960', '1960s', '1961', '1962', '1963', '1964', '1965', '1966', '1967', '1968', '1969', '197', '1970', '1970s', '1971', '1972', '1973', '1974', '1975', '1976', '1977', '1978', '1979', '198', '1980', '19800', '1980s', '1981', '1982', '1983', '1984', '1985', '1985s', '1986', '1987', '1988', '1989', '199', '1990', '1990s', '1991', '1992', '1992n', '1993', '1993n', '1994', '1994n', '1995', '1995s', '1996', '1996n', '1997', '1998', '1999', '19bn', '19th', '19yearold', '1bn', '1m', '1mbps', '1p', '1s', '1st', '1xtra', '20', '200', '2000', '20000', '200000', '2000n', '2001', '2001n', '2002', '2002nnthe', '2002s', '2003', '200304', '20034', '2003n', '2003nnin', '2003nnthe', '2003s', '2004', '2004n', '2004nndespit', '2004nnif', '2004nnin', '2004nnit', '2004nnthailand', '2004nnthe', '2004s', '2005', '200506', '20056', '2005n', '2005nnas', '2005nnthe', '2005nnthere', '2006', '200607', '2006n', '2006nnthe', '2007', '2007n', '2007nnmr', '2008', '2008n', '2009', '200bn', '200m', '201', '2010', '2010n', '2011', '2012', '2014', '2015', '2020', '2025', '2030', '205', '2050', '206', '206bn', '20bn', '20m', '20nnsinclair', '20s', '20th', '20yard', '20yearold', '21', '2100', '211', '2115', '213', '216m', '21m', '21st', '21yearold', '22', '220', '2200', '22000', '220m', '225', '226', '228', '22bn', '22man', '22nd', '22yearold', '23', '230', '2300', '23000', '23bn', '23rd', '23yearold', '24', '2418', '2426', '247', '24bn', '24hour', '24m', '24mbps', '24th', '24yearold', '25', '250', '2500', '25000', '250000', '250m', '254bn', '256', '256mb', '257', '258', '25bn', '25m', '25member', '25nnthe', '25state', '25th', '25yard', '25year', '25yearold', '26', '2600', '26075bn', '262', '265', '26bn', '26yearold', '27', '270', '2700', '27000', '275bn', '277', '27bn', '27yearold', '28', '280', '280bn', '281', '2817', '283bn', '285m', '286n', '289', '28bn', '28th', '28yearold', '29', '29a', '29bn', '29mbps', '29yearold', '2bn', '2d', '2g', '2m', '2mbps', '2n', '2nd', '2s', '30', '300', '3000', '30000', '300000', '3000m', '300bn', '300m', '300p', '301', '3020', '3028', '3040', '305', '305m', '30bn', '30gb', '30m', '30minut', '30s', '30year', '30yearold', '31', '310', '31bn', '31yearold', '32', '32000', '322', '325', '32bn', '32m', '32yearold', '33', '337000', '338', '33yearold', '34', '349', '34bn', '34th', '34yearold', '35', '350', '3500', '35000', '3586', '35bn', '35m', '35yearold', '36', '360', '365m', '36m', '36mbps', '36th', '36yearold', '37', '375', '375m', '377bn', '37bn', '38', '3807', '384', '388', '38m', '39', '399', '39m', '39yearold', '3bn', '3c', '3d', '3dlike', '3g', '3gsm', '3km', '3kmh', '3s', '40', '400', '4000', '40000', '400000', '400m', '401', '4015', '404', '40m', '40s', '40year', '40yearold', '41', '412bn', '4193bn', '41bn', '42', '420', '426', '427', '427bn', '42bn', '42count', '42nd', '43', '4300', '437bn', '43yearold', '44', '440700', '44bn', '44man', '45', '4500', '45000', '456', '45bn', '45m', '45minut', '46', '46bn', '47', '47000', '471', '472bn', '473', '474000', '475', '475nnthe', '47bn', '47yearold', '48', '4862', '488m', '48bn', '48m', '48yearold', '49', '499', '4bn', '4cast', '4in', '4km', '4m', '4p', '4s', '4th', '4x100m', '50', '500', '5000', '50000', '500000', '5000m', '500m', '5050', '50gb', '50m', '50s', '50th', '50year', '51', '5115', '512', '512kbps', '512mb', '514', '51yearold', '52', '5200', '52bn', '52m', '52yearold', '53', '530', '53p', '54', '545m', '54bn', '54m', '55', '5500', '55000', '550000', '550m', '553', '5567', '56', '56000', '565m', '56m', '57', '5700', '58', '58bn', '59', '595', '59th', '5bn', '5gb', '5m', '60', '600', '6000', '60000', '600000', '6000strong', '600m', '60bn', '60gb', '60m', '60s', '60th', '61', '612', '62', '625', '62bn', '63', '630m', '63bn', '64', '645', '648m', '64yearold', '65', '6500', '650m', '659', '65s', '66', '660m', '661', '66m', '67', '674', '675bn', '675bnn', '677000', '67th', '68', '68bn', '68m', '69', '6bn', '6ft', '6pm', '70', '700', '7000', '70000', '700000', '7072', '70m', '70p', '70s', '70th', '71', '71000', '717', '71yearold', '72', '727', '72bn', '73', '737800', '74', '740', '74bn', '74m', '74yearold', '75', '7500', '75000', '750000', '75bn', '75m', '76', '768m', '76m', '77', '77000', '776', '77m', '77th', '78', '7800', '787', '79', '795m', '796', '798', '7bn', '80', '800', '8000', '80000', '800000', '800m', '8059m', '80bn', '80m', '80odd', '80s', '81', '810', '82', '828', '83', '833', '83yearold', '84', '85', '85000', '850m', '85m', '86', '86bn', '86m', '86th', '87', '87th', '88', '89', '8am', '8bn', '8m', '90', '900', '9000', '90000', '900000', '900m', '902', '90s', '91', '911', '915', '91m', '91nnthe', '92', '929', '93', '93bn', '94', '94bn', '94m', '95', '950m', '955', '96', '96bn', '97', '98', '984m', '98m', '98th', '99', '999th', '9bn', '9m', 'a320', 'a380', 'a4', 'aaa', 'aaron', 'abacus', 'abandon', 'abat', 'abba', 'abbasi', 'abbey', 'abbott', 'abc', 'abdellatif', 'abdic', 'abdomin', 'abdullah', 'aberdeen', 'abeyi', 'abhorr', 'abid', 'abil', 'abl', 'ablebodi', 'abn', 'abnorm', 'abolish', 'abort', 'abortionist', 'abraham', 'abramovich', 'abroad', 'absa', 'absenc', 'absent', 'absente', 'absolut', 'absorb', 'absurd', 'abund', 'aburiz', 'abus', 'abysm', 'ac', 'academ', 'academi', 'acceler', 'accept', 'access', 'accessori', 'accid', 'accident', 'acclaim', 'accolad', 'accommod', 'accompani', 'accomplic', 'accomplish', 'accord', 'account', 'accountnnbut', 'accumul', 'accur', 'accuraci', 'accus', 'accustom', 'ace', 'aceh', 'achiev', 'achill', 'acknowledg', 'acn', 'acoust', 'acquir', 'acquisit', 'acquit', 'acquitt', 'acr', 'acrimoni', 'acrobat', 'across', 'acrosstheboard', 'act', 'action', 'activ', 'activison', 'activist', 'activitynnbut', 'actnnth', 'actor', 'actress', 'actsn', 'actual', 'ad', 'adag', 'adair', 'adam', 'adamind', 'adapt', 'adaptor', 'adawar', 'add', 'addedn', 'addednnh', 'addednnmor', 'addednnth', 'addict', 'addit', 'addon', 'address', 'adelaid', 'adept', 'adequ', 'adher', 'adida', 'adjudg', 'adjust', 'administ', 'administr', 'admir', 'admiss', 'admit', 'adolesc', 'adolf', 'adopt', 'ador', 'adrian', 'adriano', 'adriat', 'adsl', 'adult', 'advanc', 'advanta', 'advantag', 'advantagen', 'advent', 'adventur', 'advers', 'advert', 'advertis', 'advertiserbas', 'advic', 'advis', 'advisor', 'advisori', 'advoc', 'ae', 'aero', 'aerospac', 'aesthet', 'affair', 'affect', 'affili', 'afflict', 'affluent', 'afford', 'affordablennport', 'afghanistan', 'afloat', 'afoot', 'afp', 'afraid', 'africa', 'african', 'africanamerican', 'africannth', 'afterhour', 'aftermath', 'aftern', 'afternoon', 'afternoonnnth', 'afterschool', 'afterward', 'ag', 'againn', 'againnnth', 'agassi', 'age', 'ageism', 'agen', 'agenc', 'agenda', 'agennth', 'agent', 'ageold', 'aggrav', 'aggreg', 'aggress', 'aggriev', 'agil', 'agit', 'agm', 'agnelli', 'agnost', 'ago', 'agon', 'agonis', 'agonnth', 'agre', 'agreement', 'agricultur', 'agroflora', 'aguilera', 'ah', 'ahead', 'ahern', 'ahm', 'ai', 'aid', 'aidan', 'aiden', 'aidnnth', 'aig', 'ail', 'aim', 'aint', 'air', 'airbus', 'aircraft', 'airlin', 'airlinenna', 'airplan', 'airplay', 'airport', 'airway', 'aishwariya', 'aishwarya', 'aitken', 'aiyar', 'ajax', 'ak', 'aka', 'akamai', 'akhmetov', 'akin', 'akira', 'al', 'alabama', 'alain', 'alamo', 'alan', 'alarm', 'alastair', 'albania', 'albanian', 'albeit', 'albert', 'alberto', 'album', 'alcohol', 'alda', 'alegr', 'alert', 'alessandro', 'alevel', 'alex', 'alexand', 'alexandra', 'alexei', 'alexi', 'alfa', 'alfi', 'alfonso', 'alfr', 'algeria', 'algharafa', 'algorithm', 'ali', 'aliadier', 'alic', 'alicia', 'alien', 'align', 'alik', 'alist', 'alistair', 'aliv', 'all', 'allahgreen', 'allan', 'allardyc', 'allaustralian', 'allay', 'allblack', 'alldanc', 'alleg', 'allegationsn', 'allegi', 'allen', 'allevi', 'alley', 'alli', 'allianc', 'allianz', 'allinon', 'allist', 'allmal', 'allnnth', 'alloc', 'allout', 'allow', 'allparti', 'allpost', 'allround', 'allsing', 'alltim', 'allud', 'allur', 'almodovar', 'almost', 'almunia', 'almuniannarsen', 'alon', 'along', 'alongsid', 'alonso', 'aloud', 'alphabet', 'alqaeda', 'alreadi', 'alright', 'also', 'alter', 'altern', 'although', 'alto', 'altogeth', 'altria', 'aluminium', 'alun', 'alvin', 'alway', 'alwayson', 'alzheim', 'amalgam', 'amanda', 'amass', 'amateur', 'amateurish', 'amaz', 'amazon', 'amazoncom', 'ambani', 'ambassador', 'amber', 'ambev', 'ambit', 'ambiti', 'ambros', 'amd', 'ame', 'ameli', 'amend', 'ameobi', 'america', 'american', 'ami', 'amibit', 'amic', 'amicus', 'amid', 'amiga', 'amma', 'ammunit', 'amnesti', 'among', 'amongst', 'amount', 'ampl', 'amplif', 'amplifi', 'amro', 'amsterdam', 'amus', 'ana', 'anabol', 'analog', 'analogu', 'analys', 'analysi', 'analyst', 'analyt', 'analyz', 'anastacia', 'anastasia', 'anathema', 'anatomi', 'ancestor', 'anchor', 'ancic', 'ancient', 'ancram', 'ander', 'andersen', 'anderson', 'andhra', 'andi', 'andor', 'andr', 'andrea', 'andreev', 'andrei', 'andrew', 'andrey', 'andriy', 'anecdot', 'anelka', 'anfield', 'angel', 'angela', 'angelina', 'anger', 'angl', 'anglia', 'anglican', 'angloamerican', 'angola', 'angolan', 'angri', 'angrili', 'anheuserbusch', 'anil', 'anim', 'animos', 'anita', 'ankara', 'ankl', 'ann', 'anna', 'annadal', 'annett', 'anni', 'anniversari', 'announc', 'announcednnth', 'announcementn', 'annoy', 'annual', 'annuiti', 'annul', 'annum', 'anomali', 'anonym', 'anoth', 'anothernnso', 'anselmo', 'ansheng', 'answer', 'ant', 'antenna', 'anthem', 'anthoni', 'antiaid', 'antiamerican', 'anticip', 'anticompetit', 'anticopi', 'anticorrupt', 'antidepress', 'antidop', 'antieurop', 'antifraud', 'antiglobalis', 'antihunt', 'antiimmigr', 'antijewish', 'antinois', 'antipiraci', 'antipoverti', 'antiqu', 'antirac', 'antiracket', 'antiretrovir', 'antisemit', 'antismok', 'antisoci', 'antispam', 'antispywar', 'antiterror', 'antitori', 'antitrust', 'antiviol', 'antivirus', 'antiwar', 'anton', 'antoni', 'antonio', 'anxious', 'anybodi', 'anymor', 'anyon', 'anyth', 'anytim', 'anyway', 'anywher', 'aol', 'ap', 'apac', 'apart', 'apartheid', 'apathet', 'apathi', 'apiec', 'apollo', 'apolog', 'apologis', 'apologynnth', 'app', 'appal', 'appar', 'apparatus', 'apparel', 'appeal', 'appealn', 'appear', 'appearnnsecur', 'appetit', 'appl', 'applaud', 'applaus', 'appleton', 'appli', 'applianc', 'applic', 'appoint', 'apprais', 'appreci', 'apprehend', 'apprehens', 'apprentic', 'approach', 'appropri', 'approv', 'approxim', 'april', 'apriln', 'ar', 'arab', 'arabia', 'arafat', 'aragon', 'arash', 'arbitr', 'arbitrari', 'arbitrarili', 'arcad', 'arch', 'archbishop', 'archer', 'archi', 'architect', 'architectur', 'archiv', 'archivist', 'archo', 'archriv', 'ard', 'ardent', 'arduous', 'area', 'areasn', 'arena', 'arent', 'aretha', 'argentin', 'argentina', 'argonaut', 'argu', 'arguabl', 'arguedn', 'arguednnmr', 'argument', 'ariel', 'aris', 'arisen', 'arizona', 'arjan', 'arjen', 'arkansa', 'arm', 'armband', 'armenian', 'armi', 'armour', 'armstrong', 'arn', 'arnaud', 'arnesen', 'arnold', 'around', 'aroundnni', 'arous', 'arrang', 'array', 'arres', 'arrest', 'arriv', 'arrog', 'ars', 'arsenal', 'arsene', 'arsenid', 'art', 'artdeco', 'arteta', 'arthous', 'arthur', 'articl', 'articul', 'artifici', 'artist', 'artistri', 'artoi', 'arturo', 'artwork', 'arvind', 'asago', 'asant', 'ascend', 'ascii', 'ash', 'asham', 'ashburton', 'ashcroft', 'asher', 'ashfield', 'ashley', 'ashvin', 'asia', 'asian', 'asiannth', 'asiapacif', 'asid', 'asimo', 'ask', 'askedn', 'askednnmr', 'aspect', 'aspectnnther', 'aspir', 'asplin', 'assassin', 'assault', 'assembl', 'assemblynnth', 'assert', 'assess', 'asset', 'assign', 'assist', 'associ', 'associationnnth', 'asssav', 'assum', 'assumpt', 'assur', 'asteroid', 'aston', 'astonish', 'astound', 'astra', 'astronaut', 'asylum', 'asymmetr', 'asymmetri', 'atari', 'athen', 'athlet', 'athlon', 'atkinson', 'atlant', 'atlas', 'atletico', 'atmospher', 'atom', 'atp', 'att', 'attach', 'attack', 'attacksn', 'attain', 'attempt', 'attend', 'attende', 'attent', 'attentionn', 'atticus', 'attitud', 'attorney', 'attract', 'attribut', 'atwood', 'au', 'auckland', 'auction', 'auctionnna', 'auctionnnth', 'audienc', 'audio', 'audit', 'auditor', 'auditorium', 'audrey', 'auf', 'augment', 'august', 'augustnnth', 'aurelien', 'auschwitz', 'aussi', 'auster', 'austin', 'australia', 'australian', 'austria', 'austrian', 'authent', 'author', 'authoris', 'authoritarian', 'autist', 'auto', 'autobiograph', 'autobiographi', 'autograph', 'autom', 'automat', 'automobil', 'automot', 'autumn', 'auvergn', 'avail', 'avalon', 'avatar', 'avenu', 'averag', 'avert', 'avi', 'aviat', 'aviv', 'avoid', 'avril', 'aw', 'await', 'awar', 'award', 'awardn', 'awardnnth', 'awardsnnjami', 'awardsnnsouth', 'awardsnnth', 'awardwin', 'away', 'awe', 'awesom', 'awol', 'axa', 'axe', 'axennnumb', 'azkaban', 'azzurri', 'b233ziersn', 'ba', 'baa', 'babayaro', 'babba', 'babi', 'babyn', 'babynnthank', 'babyshambl', 'babysitt', 'bach', 'back', 'backbench', 'backbenchesn', 'backbon', 'backdoor', 'backdrop', 'backer', 'backersnnbluray', 'backfir', 'background', 'backhand', 'backlash', 'backley', 'backlog', 'backnnth', 'backroom', 'backrow', 'backsid', 'backsnnwhen', 'backstag', 'backstreet', 'backtax', 'backtoback', 'backtrack', 'backup', 'backward', 'backyard', 'bacon', 'bactor', 'bad', 'baddeley', 'badg', 'badnnappl', 'bae', 'baffl', 'bafta', 'baftawin', 'bag', 'baggag', 'baghdad', 'bagl', 'bahama', 'baht', 'baikal', 'bail', 'bailey', 'bailiff', 'bailn', 'bailout', 'bailoutnnlg', 'bair', 'bait', 'baker', 'bakri', 'balado', 'balanc', 'balco', 'bald', 'ball', 'ballad', 'ballard', 'ballcarri', 'ballet', 'balloon', 'ballot', 'ballotnnth', 'ballymena', 'balshaw', 'baltic', 'bamboozl', 'ban', 'band', 'bandmat', 'bandnnth', 'bandwagon', 'bandwidth', 'banelka', 'bang', 'bangkok', 'bangladesh', 'bangladeshi', 'bangor', 'bank', 'banker', 'bankn', 'bankrol', 'bankrupt', 'bankruptci', 'banner', 'bannist', 'bannnth', 'banqu', 'banter', 'bantispam', 'banton', 'bappl', 'bar', 'barbara', 'barbarian', 'barber', 'barbini', 'barbra', 'barca', 'barcelona', 'barclay', 'barclaycard', 'bare', 'bargain', 'bargentina', 'baringsnnchina', 'bark', 'barker', 'barkley', 'barley', 'barlow', 'barn', 'barnard', 'barney', 'baro', 'baron', 'barrag', 'barrel', 'barri', 'barrier', 'barrist', 'barroso', 'barrot', 'barrymor', 'barsen', 'bartlett', 'barton', 'bas', 'base', 'basebal', 'baselin', 'basement', 'basi', 'basia', 'basian', 'basic', 'basingstok', 'basisn', 'bask', 'basket', 'basketbal', 'basra', 'bass', 'bassist', 'bat', 'batch', 'bate', 'bath', 'batistuta', 'batman', 'batter', 'batteri', 'battl', 'battlefield', 'battlefront', 'battleground', 'battlennth', 'baviat', 'bay', 'bayer', 'bayern', 'bb', 'bba', 'bbad', 'bban', 'bband', 'bbank', 'bbarclay', 'bbbc', 'bbc', 'bbc1', 'bbc2', 'bbc2s', 'bbcs', 'bbeckham', 'bbell', 'bbellami', 'bbenitez', 'bberlin', 'bbig', 'bblair', 'bblog', 'bblue', 'bblunkett', 'bbmw', 'bboe', 'bbollywood', 'bborder', 'bbrazil', 'bbrit', 'bbritish', 'bbriton', 'bbroadband', 'bbrooksid', 'bbrown', 'bbt', 'bbudget', 'bbush', 'bbusi', 'bbutler', 'bcairn', 'bcall', 'bcampaign', 'bcampbel', 'bcan', 'bcapriati', 'bcar', 'bcc', 'bcebit', 'bcelebr', 'bceltic', 'bchancellor', 'bchelsea', 'bchepkemei', 'bchild', 'bchina', 'bchines', 'bchristma', 'bchurch', 'bclark', 'bclijster', 'bcole', 'bcollin', 'bconcern', 'bconnor', 'bconserv', 'bconsum', 'bcould', 'bcouncil', 'bcourt', 'bcsa', 'bcyber', 'bda', 'bdallaglio', 'bdavenport', 'bdawson', 'bdaylewi', 'bde', 'bdesailli', 'bdeutsch', 'bdigit', 'bdisney', 'bdollar', 'bdomain', 'bdoubl', 'bdownload', 'bdutch', 'bdvd', 'be', 'beach', 'bead', 'beal', 'beam', 'bean', 'bear', 'beard', 'beast', 'beasti', 'beat', 'beaten', 'beatl', 'beatti', 'beaufort', 'beaumont', 'beauti', 'beauvilliann', 'bebber', 'becam', 'beck', 'beckett', 'beckham', 'beckon', 'becom', 'beconomi', 'bed', 'bedford', 'bedingfield', 'bedroom', 'bedu', 'bedwellti', 'bee', 'beef', 'beeni', 'beer', 'beermak', 'beforen', 'beforennmr', 'beg', 'began', 'begg', 'begin', 'begun', 'begypt', 'behalf', 'behav', 'behaviour', 'behemoth', 'behind', 'behindthescen', 'beig', 'beij', 'beirut', 'beith', 'bejewel', 'bekel', 'belect', 'belfast', 'belgian', 'belgium', 'belief', 'believ', 'believen', 'bell', 'bellami', 'bellevill', 'belmar', 'belmarsh', 'belong', 'belov', 'belt', 'belvi', 'beminem', 'bemoan', 'ben', 'bench', 'benchmark', 'bend', 'bene', 'benefactor', 'benefici', 'beneficiari', 'benefit', 'benefitsnnth', 'benesova', 'bengland', 'benign', 'benita', 'benitez', 'benjamin', 'benn', 'bennett', 'benni', 'benoit', 'bent', 'benz', 'berat', 'bergamasco', 'berger', 'bergkamp', 'berhan', 'bering', 'berkeley', 'berkov', 'berlin', 'berlinal', 'berlusconi', 'bernabeu', 'bernal', 'bernard', 'bernardo', 'berni', 'berri', 'bert', 'berth', 'berti', 'beset', 'besid', 'bespectacl', 'bespok', 'best', 'bestknown', 'bestlov', 'bestof', 'bestow', 'bestsel', 'bet', 'beta', 'betamax', 'bethan', 'bethnal', 'betray', 'betsen', 'better', 'betterthanexpect', 'betti', 'beu', 'beuronext', 'beurop', 'beuropean', 'bevan', 'bever', 'beverley', 'bewild', 'bewilder', 'beyonc', 'beyond', 'bez', 'bfa', 'bfarrel', 'bfast', 'bfear', 'bfed', 'bfeder', 'bferguson', 'bfiat', 'bfilm', 'bfocker', 'bfox', 'bfoxx', 'bfranc', 'bfranz', 'bfrench', 'bfume', 'bgadget', 'bgalloway', 'bgame', 'bgamer', 'bgarden', 'bgb', 'bgerman', 'bgermani', 'bgerrard', 'bglobal', 'bgm', 'bgoahead', 'bgolden', 'bgoldsmith', 'bgoogl', 'bgreek', 'bgreen', 'bguantanamo', 'bhagu', 'bhalo', 'bharinordoquy', 'bheart', 'bhenman', 'bhewitt', 'bhigh', 'bhingi', 'bhodgson', 'bhollywood', 'bholm', 'bhome', 'bhous', 'bhousew', 'bhow', 'bhoward', 'bhp', 'bhunt', 'biaaf', 'biarritz', 'bias', 'bibl', 'biblic', 'bibm', 'bicker', 'bicycl', 'bid', 'bidder', 'bidnna', 'bidnnth', 'bidrig', 'big', 'bigbudget', 'bigger', 'biggest', 'biggestev', 'biggestsel', 'bigotri', 'bigscreen', 'bike', 'bilater', 'bill', 'billboard', 'billi', 'billion', 'billionair', 'billiondollar', 'billiton', 'bimf', 'bin', 'bind', 'bindi', 'bindia', 'bindustri', 'bing', 'bingham', 'bingo', 'binjuri', 'bink', 'binoch', 'bintel', 'biographi', 'biolog', 'biometr', 'biopic', 'biran', 'biranian', 'biraq', 'biraqi', 'birchfield', 'bird', 'bireland', 'birgit', 'birish', 'birkenhead', 'birkett', 'birmingham', 'birth', 'birthday', 'biscan', 'biscuit', 'bishop', 'bisinbayeva', 'bisra', 'bit', 'bitali', 'bite', 'bitter', 'bittorr', 'bitun', 'biz', 'bizarr', 'bizet', 'bjapan', 'bjapanes', 'bjob', 'bjohnni', 'bjohnson', 'bjone', 'bjorn', 'bjowel', 'bkennedi', 'bkhodorkovski', 'bkilroy', 'bkilroysilk', 'blabour', 'black', 'blackberri', 'blackboard', 'blackburn', 'blacklist', 'blackmail', 'blackman', 'blackpool', 'blade', 'blair', 'blairera', 'blairit', 'blairnnh', 'blairnnth', 'blairnntoni', 'blake', 'blame', 'blanchett', 'bland', 'blank', 'blass', 'blast', 'blatant', 'blaze', 'blazin', 'bleak', 'blear', 'bleep', 'blegendari', 'blend', 'bless', 'blevi', 'blew', 'blewisfr', 'blib', 'blifestyl', 'blight', 'blind', 'blindsid', 'blinkx', 'blion', 'blip', 'blister', 'blittl', 'blitz', 'bliverpool', 'blizzard', 'bloc', 'block', 'blockbust', 'blog', 'blogger', 'blogospher', 'blogsnnth', 'bloke', 'blondon', 'blood', 'bloodi', 'blook', 'bloom', 'bloomberg', 'blooper', 'blord', 'blow', 'blown', 'blse', 'blue', 'blueprint', 'bluetooth', 'blufthansa', 'blume', 'blunkett', 'blunkettnnth', 'blunt', 'blur', 'bluray', 'blush', 'blyth', 'bman', 'bmandelson', 'bmarket', 'bmcclaren', 'bmcconnel', 'bmcdonald', 'bmci', 'bmcilroy', 'bmedia', 'bmelzer', 'bmexican', 'bmg', 'bmicrosoft', 'bmillion', 'bminimum', 'bminist', 'bmirza', 'bmix', 'bmobil', 'bmore', 'bmourinho', 'bmovi', 'bmoya', 'bmps', 'bmrs', 'bmurray', 'bmusic', 'bmusician', 'bmuslim', 'bmw', 'bmws', 'bnadal', 'bnasdaq', 'bnet', 'bnew', 'bnewcastl', 'bnintendo', 'bno', 'bnp', 'bnps', 'bnuclear', 'bo', 'board', 'boardroom', 'boast', 'boat', 'boateng', 'boatn', 'bob', 'bobbi', 'bobo', 'bode', 'bodi', 'bodriscol', 'boe', 'boers', 'bogdanov', 'boi', 'boil', 'boiler', 'bold', 'bolder', 'bolivia', 'bollywood', 'bolster', 'bolt', 'bolton', 'bomb', 'bombard', 'bombardi', 'bombay', 'bona', 'bond', 'bondi', 'bone', 'bonfir', 'bonham', 'bonlin', 'bonn', 'bonnair', 'bonni', 'bono', 'bonus', 'boo', 'boogeyman', 'book', 'booker', 'bookmak', 'bookn', 'boom', 'boon', 'boost', 'boostnnfilm', 'boostnnthirdgener', 'boot', 'booth', 'booz', 'border', 'bore', 'bori', 'born', 'boro', 'borough', 'borrel', 'borrow', 'borthwick', 'bortolami', 'borussia', 'boscar', 'boss', 'bossi', 'boston', 'bosullivan', 'bosvelt', 'bot', 'botch', 'bother', 'bottl', 'bottleneck', 'bottom', 'bought', 'boulevard', 'bounc', 'bound', 'boundari', 'bounti', 'bourgoin', 'bourn', 'bournemouth', 'bours', 'bout', 'bovina', 'bow', 'bowen', 'bowi', 'bowl', 'bowyer', 'box', 'boxer', 'boxoffic', 'boy', 'boyd', 'boyfriend', 'boyl', 'bp', 'bparker', 'bparmalat', 'bparri', 'bparti', 'bpc', 'bpd', 'bpeertop', 'bpi', 'bplayer', 'bplaystat', 'bpodcast', 'bpolic', 'bpoll', 'bprodigi', 'bprofil', 'bprofit', 'bps', 'bqanta', 'brace', 'bracket', 'brad', 'bradcliff', 'bradfield', 'bradford', 'bradi', 'bradshaw', 'braff', 'brag', 'braill', 'brain', 'brainchild', 'brake', 'brambl', 'branch', 'brand', 'brando', 'brankin', 'branson', 'brap', 'brapper', 'brave', 'braveri', 'brawl', 'bray', 'brazil', 'brazilian', 'brc', 'breach', 'bread', 'breadlin', 'breadth', 'break', 'breakdown', 'breakeven', 'breakfast', 'breakneck', 'breakthrough', 'breakthroughnnintel', 'breakup', 'breal', 'breast', 'breath', 'breathtak', 'brecord', 'bredknapp', 'breed', 'breez', 'brem', 'brendan', 'brennan', 'brent', 'brentford', 'brett', 'brevill', 'brew', 'brewer', 'breweri', 'brian', 'bribe', 'briberi', 'brich', 'brick', 'bride', 'bridg', 'bridget', 'brief', 'briefli', 'brigad', 'bright', 'brighter', 'brightest', 'brighton', 'brigitt', 'brilliant', 'brim', 'bring', 'brink', 'brisk', 'bristol', 'brit', 'britain', 'britainn', 'britainnnmr', 'britannia', 'british', 'britishbas', 'britishborn', 'britney', 'briton', 'britpop', 'brive', 'brivennsylvain', 'brixton', 'brizzel', 'broad', 'broadband', 'broadcast', 'broaden', 'broader', 'broadway', 'brobben', 'brobinson', 'brobot', 'brock', 'broddick', 'broe', 'broke', 'broken', 'broker', 'brokerag', 'brom', 'bronz', 'brood', 'brook', 'brooksid', 'brookstein', 'bros', 'brosnan', 'brothel', 'brother', 'brought', 'brover', 'brow', 'brown', 'browni', 'brownit', 'brows', 'browser', 'bruce', 'bruis', 'brunei', 'bruno', 'brunswick', 'brusedski', 'brush', 'brussel', 'brussia', 'brussian', 'brutal', 'brute', 'bryan', 'bryce', 'brydon', 'bryn', 'bryson', 'bs', 'bsa', 'bsafin', 'bsaudi', 'bschool', 'bscot', 'bscotland', 'bse', 'bsearch', 'bsecur', 'bserena', 'bshare', 'bsinger', 'bskyb', 'bslovakia', 'bsmith', 'bsnow', 'bsoni', 'bsouness', 'bsouth', 'bsport', 'bstandard', 'bstar', 'bstraw', 'bstrong', 'bstudent', 'bsun', 'bsuper', 'bsydney', 'bt', 'btakeov', 'btalk', 'btarantino', 'btautou', 'bteenag', 'bterror', 'btext', 'bthanou', 'bthe', 'btindal', 'btop', 'btori', 'btough', 'btrial', 'bts', 'btsunami', 'bturkey', 'btv', 'bu2', 'bubb', 'bubbl', 'buccan', 'bucharest', 'buck', 'bucket', 'buckfield', 'buckingham', 'buckinghamshir', 'bud', 'budd', 'buddhist', 'buddi', 'budg', 'budget', 'budgetari', 'budgetnnchancellor', 'budgetnnth', 'buena', 'bueno', 'bug', 'bugsnnth', 'buick', 'build', 'builder', 'buildup', 'built', 'builtin', 'buk', 'bukip', 'bukrain', 'bulb', 'bulgaria', 'bulgarian', 'bulk', 'bulki', 'bull', 'bullet', 'bulletin', 'bulli', 'bullish', 'bulloch', 'bullock', 'bumaga', 'bump', 'bumper', 'bunch', 'bundesbank', 'bundl', 'bunnymennnthey', 'buoy', 'buoyant', 'bupa', 'burchil', 'burden', 'burdensom', 'bureau', 'bureaucraci', 'bureaucrat', 'burgeon', 'burger', 'burglar', 'buri', 'burk', 'burma', 'burn', 'burner', 'burnley', 'burnout', 'burrel', 'bursari', 'burst', 'burt', 'burton', 'bus', 'bush', 'busher', 'bushtuck', 'busi', 'busiest', 'businessbas', 'businessman', 'businessn', 'businessnnbut', 'businessnnmr', 'businessnnth', 'bust', 'bustnnthi', 'but', 'butcher', 'butler', 'butragueno', 'butt', 'butterfli', 'button', 'buxton', 'buy', 'buyback', 'buyer', 'buynnth', 'buyout', 'buzz', 'buzzword', 'bvan', 'bvenezuela', 'bvera', 'bveteran', 'bvickeri', 'bvideo', 'bvirgin', 'bvisa', 'bvoter', 'bwale', 'bwall', 'bwalmart', 'bwarn', 'bwatchdog', 'bweak', 'bweb', 'bwenger', 'bwhat', 'bwhen', 'bwhi', 'bwhite', 'bwhitehal', 'bwilkinson', 'bwill', 'bwilliam', 'bwine', 'bwmc', 'bwolv', 'bwomen', 'bworld', 'bworldcom', 'bxbox', 'byahoo', 'bye', 'byelect', 'bypass', 'byrd', 'byrn', 'byssh', 'byuko', 'ca', 'cabin', 'cabinet', 'cabir', 'cabirnnth', 'cabl', 'caborn', 'cactus', 'cadburi', 'cadena', 'cadillac', 'cadmium', 'caf233', 'cafe', 'cage', 'cairn', 'cairo', 'cake', 'calcul', 'calder', 'calendar', 'calf', 'calibr', 'california', 'californiabas', 'californian', 'call', 'callaghan', 'caller', 'callsnnth', 'callup', 'calm', 'calmer', 'calvin', 'calvisano', 'calyon', 'cam', 'camara', 'cambodia', 'cambridg', 'cambridgebas', 'camcord', 'came', 'cameo', 'camera', 'camerannth', 'cameron', 'cameroon', 'camilla', 'camp', 'campaign', 'campaignn', 'campaignnnmr', 'campaignnnth', 'campaignsn', 'campbel', 'campus', 'can', 'cana', 'canada', 'canadabas', 'canadian', 'canal', 'canari', 'cancel', 'cancer', 'candela', 'candi', 'candid', 'cann', 'cannabi', 'canni', 'cannot', 'cant', 'canterburi', 'cantona', 'canvass', 'cap', 'capabl', 'capac', 'cape', 'capella', 'capgemini', 'capit', 'capitalis', 'capitul', 'capra', 'capriati', 'capric', 'capt', 'captain', 'captainci', 'captiv', 'captur', 'car', 'carbon', 'card', 'carderplanet', 'cardiff', 'cardiffn', 'cardin', 'cardsnnth', 'cardwel', 'care', 'career', 'careerbest', 'careern', 'careernnh', 'careernnth', 'careerthreaten', 'carer', 'caretak', 'carey', 'caribbean', 'carl', 'carlisl', 'carlo', 'carlsen', 'carmak', 'carmen', 'carnegi', 'carniv', 'carol', 'carolin', 'carolina', 'carpent', 'carpet', 'carr', 'carragh', 'carrey', 'carri', 'carrier', 'carrol', 'carrow', 'carsnnth', 'carson', 'cart', 'carta', 'cartel', 'carter', 'cartilag', 'cartoon', 'cartoonlik', 'cartridg', 'cartridgesnna', 'carv', 'carvalho', 'cas', 'casalm', 'case', 'casebycas', 'caselitz', 'casen', 'casenna', 'casennan', 'casennsprint', 'casennth', 'casesnnmr', 'casey', 'cash', 'cashnnxc2xa350m', 'casino', 'casio', 'caspian', 'cast', 'castaigned', 'castl', 'castr', 'castrogiovanni', 'casual', 'casualti', 'cat', 'catalina', 'catalogu', 'catalys', 'catalyst', 'catastroph', 'catch', 'catchi', 'cate', 'categori', 'categoris', 'categoryn', 'cater', 'cathedr', 'catherin', 'cathi', 'cathol', 'cattl', 'caught', 'cauldron', 'caus', 'caustic', 'caution', 'cautious', 'cavali', 'cave', 'caveat', 'cbbc', 'cbi', 'cbs', 'cctv', 'cd', 'cdp101', 'cds', 'cea', 'ceas', 'ceasefir', 'cebit', 'cech', 'cedric', 'ceil', 'celebr', 'cell', 'celltick', 'celtic', 'cement', 'censor', 'censorship', 'cent', 'center', 'centimetr', 'centr', 'central', 'centralis', 'centrepiec', 'centuri', 'ceo', 'ceplak', 'cereal', 'ceremoni', 'ceremonyn', 'ceremonynnth', 'ceri', 'certain', 'certainti', 'certif', 'certifi', 'ces', 'cesar', 'cesc', 'cgi', 'chagrin', 'chain', 'chair', 'chairman', 'chairmann', 'chairmanship', 'chaiyasoot', 'chaka', 'chakrabarti', 'challeng', 'chamber', 'champagn', 'champion', 'championship', 'championshipnnworld', 'championshipsnnth', 'chanc', 'chancellor', 'chandler', 'chandon', 'chang', 'changedn', 'changennbut', 'changennth', 'changeov', 'changesnnth', 'channel', 'chant', 'chao', 'chaotic', 'chaplin', 'chapter', 'char', 'charact', 'characteris', 'characterist', 'charad', 'charcot', 'charg', 'chargen', 'chargesnnth', 'charismat', 'charit', 'chariti', 'charl', 'charleroi', 'charless', 'charli', 'charliz', 'charlott', 'charlton', 'charm', 'chart', 'charter', 'chartn', 'chartnnth', 'chartsnnth', 'charttop', 'charttopp', 'charttrack', 'charvi', 'chase', 'chasennth', 'chat', 'chateau', 'chatham', 'chatroom', 'chavez', 'cheadl', 'cheap', 'cheaper', 'cheapest', 'cheapli', 'cheat', 'chechnya', 'check', 'cheer', 'chees', 'cheesi', 'chef', 'chela', 'chelsea', 'chelsean', 'chemic', 'chemistri', 'chen', 'cheney', 'chennai', 'chepkemei', 'chequ', 'cheri', 'cherish', 'cherkaski', 'chernin', 'cheshir', 'chest', 'chester', 'cheung', 'chevrolet', 'chevrontexaco', 'chicago', 'chicoin', 'chidambaram', 'chief', 'chiffon', 'child', 'childcar', 'childhood', 'childish', 'children', 'childrennnth', 'chile', 'chilean', 'chill', 'chin', 'china', 'chines', 'chip', 'chirac', 'chocol', 'choic', 'choicennfast', 'choicennth', 'choir', 'choke', 'cholesterol', 'choos', 'chop', 'chord', 'chore', 'choreograph', 'choreographi', 'chorist', 'chorus', 'chose', 'chosen', 'chris', 'chrissi', 'christ', 'christi', 'christian', 'christin', 'christina', 'christma', 'christmasnnwith', 'christo', 'christoph', 'chronic', 'chronicl', 'chronomet', 'chrysler', 'chuckl', 'chum', 'chunk', 'church', 'churchil', 'churn', 'chuter', 'ciara', 'cicero', 'cigar', 'cigarett', 'cincinnati', 'cinema', 'cinemannof', 'cinemannorganis', 'cinemat', 'cinematograph', 'cinematographi', 'cingular', 'circl', 'circuit', 'circul', 'circumst', 'circumv', 'cisco', 'ciss', 'cite', 'citi', 'citigroup', 'citizen', 'citizenship', 'citynnth', 'civic', 'civil', 'civilian', 'civilis', 'cj', 'claim', 'claimnna', 'claimnnth', 'clair', 'clam', 'clamour', 'clamp', 'clampdown', 'clamshel', 'clan', 'clap', 'clapton', 'clara', 'clare', 'clarenc', 'clarifi', 'clariti', 'clark', 'clarkson', 'clash', 'class', 'classic', 'classicnnth', 'classif', 'classifi', 'classroom', 'claud', 'claudia', 'claudio', 'claus', 'claw', 'claxton', 'clay', 'claycourt', 'clayton', 'clean', 'cleaner', 'cleanup', 'clear', 'clearanc', 'clearcut', 'clearer', 'clearest', 'clearski', 'clearstream', 'clearswift', 'clearview', 'clement', 'clerk', 'clermont', 'cleveland', 'clever', 'clichi', 'click', 'client', 'cliff', 'clijster', 'climat', 'climax', 'climb', 'clinch', 'cling', 'clinic', 'clint', 'clinton', 'clip', 'clithero', 'clive', 'clock', 'clockwork', 'clog', 'clone', 'clooney', 'close', 'closednni', 'closennth', 'closer', 'closerang', 'closest', 'closet', 'closur', 'cloth', 'cloud', 'clout', 'clown', 'club', 'clubn', 'clubnnth', 'clue', 'cluley', 'clump', 'clumsi', 'clumsili', 'clung', 'clutch', 'clutter', 'clyde', 'cml', 'co', 'coach', 'coal', 'coalit', 'coast', 'coastal', 'coat', 'coauthor', 'cobain', 'cocain', 'cochairman', 'cockbain', 'cocktail', 'cockup', 'code', 'codecrack', 'codemast', 'codenam', 'codennth', 'coder', 'coe', 'coexist', 'coffe', 'coffer', 'cofound', 'cohen', 'coher', 'cohes', 'cohost', 'coin', 'coincid', 'coincident', 'colchest', 'cold', 'coldplay', 'cole', 'coleman', 'colerain', 'colin', 'collabor', 'collaps', 'collat', 'collater', 'colleagu', 'collect', 'collector', 'colleg', 'collid', 'collin', 'collisiondetect', 'collud', 'colombia', 'colombian', 'colonel', 'coloni', 'colorado', 'colossus', 'colour', 'columbia', 'column', 'columnist', 'com', 'coma', 'comb', 'combat', 'combin', 'come', 'comeback', 'comed', 'comedi', 'comedian', 'comennwel', 'comfort', 'comic', 'command', 'commemor', 'commend', 'comment', 'commentari', 'commentn', 'commerc', 'commerci', 'commercialis', 'commiss', 'commission', 'commit', 'committe', 'commod', 'commoditis', 'commodor', 'common', 'commonplac', 'commonwealth', 'communic', 'communicationsnnth', 'communiqu233', 'communism', 'communist', 'communiti', 'communitiesnnth', 'communitynnth', 'commut', 'compact', 'compani', 'companion', 'companyn', 'companynnth', 'compar', 'comparison', 'compass', 'compat', 'compatiblennwhat', 'compatriot', 'compel', 'compens', 'compet', 'competit', 'competitionnnid', 'competitiven', 'competitivennth', 'competitor', 'competitv', 'compil', 'complac', 'complain', 'complaint', 'complement', 'complet', 'complex', 'compli', 'complianc', 'complic', 'compon', 'compos', 'composit', 'composur', 'compound', 'comprehens', 'compress', 'compris', 'compromis', 'comptrol', 'compuls', 'compulsionnnw', 'compulsori', 'comput', 'computeract', 'computerandvideogamescom', 'computerbas', 'computergener', 'computerimpl', 'con', 'conceal', 'conced', 'conceiv', 'concentr', 'concept', 'concern', 'concernnna', 'concernsnnth', 'concert', 'concess', 'conchita', 'concili', 'concis', 'conclud', 'conclus', 'concret', 'concurr', 'condemn', 'condit', 'condoleezza', 'condom', 'condon', 'conduc', 'conduct', 'confeder', 'confer', 'conferenc', 'conferencenncolin', 'conferencennth', 'confess', 'confid', 'confidencennris', 'confidenti', 'confin', 'confirm', 'confirmednnmr', 'confirmednnth', 'conflict', 'conform', 'confound', 'confront', 'confus', 'congdon', 'congest', 'conglomer', 'congo', 'congratul', 'congress', 'congression', 'congressionallymand', 'conjunct', 'conjur', 'conmen', 'connect', 'connector', 'conneri', 'connolli', 'connor', 'conor', 'conquer', 'conqueror', 'conrad', 'conscienc', 'conscious', 'consecut', 'consensus', 'consequ', 'conserv', 'consid', 'consider', 'considin', 'consign', 'consist', 'consol', 'consolesnnth', 'consolesnnther', 'consolid', 'consortium', 'consortiumnnth', 'conspir', 'conspiraci', 'constabl', 'constant', 'constantin', 'constel', 'constitu', 'constitut', 'constraint', 'constru', 'construct', 'consul', 'consult', 'consum', 'consumercr', 'consumersn', 'consumersnnth', 'consumpt', 'cont', 'contact', 'contain', 'contempl', 'contemporari', 'contempt', 'contend', 'contendersnnr', 'content', 'contenti', 'contentnnw', 'contest', 'context', 'contin', 'continent', 'conting', 'continu', 'continuesn', 'contra', 'contracept', 'contract', 'contractor', 'contractu', 'contradict', 'contradictori', 'contrari', 'contrast', 'contraven', 'contribut', 'contributor', 'contriv', 'control', 'controln', 'controversi', 'conven', 'conveni', 'convent', 'converg', 'convers', 'conversationsnnbut', 'convert', 'convey', 'convict', 'convinc', 'convuls', 'coogan', 'cook', 'cool', 'coolli', 'cooper', 'coordin', 'cop', 'copar', 'cope', 'copeland', 'copenhagen', 'copern', 'copi', 'copiesnnit', 'copiesnnmr', 'copper', 'coppolan', 'coproduc', 'coproduct', 'coproductionn', 'copycat', 'copyprotect', 'copyright', 'coral', 'cord', 'cordless', 'cordon', 'core', 'cori', 'coria', 'corkman', 'cormac', 'corner', 'cornwal', 'coron', 'corp', 'corpor', 'corpus', 'correct', 'correspond', 'corri', 'corrigan', 'corros', 'corrupt', 'corrynna', 'cosafa', 'cosbi', 'cosgrav', 'cosmet', 'cosmopolitan', 'cost', 'costa', 'costacurta', 'costar', 'costcut', 'costeffect', 'costello', 'costin', 'costum', 'cottag', 'cotteril', 'cotton', 'couch', 'could', 'couldnt', 'council', 'councillor', 'counsel', 'count', 'counter', 'counteract', 'counterattack', 'counterfeit', 'counterpart', 'counterterror', 'counti', 'countless', 'countri', 'countriesn', 'countriesnnth', 'countryn', 'countrynnth', 'countrynnumaga', 'countrysid', 'countrywid', 'coup', 'coupl', 'courag', 'courier', 'cours', 'coursen', 'court', 'courteous', 'courtesi', 'courtney', 'courtnna', 'courtroom', 'cover', 'coverag', 'covert', 'covet', 'cow', 'coward', 'cowboy', 'cowel', 'cowrit', 'cowritten', 'cowrot', 'cox', 'cpl', 'cps', 'crack', 'crackdown', 'craft', 'cragg', 'craig', 'cram', 'crane', 'craney', 'crank', 'crap', 'crash', 'crass', 'crave', 'craven', 'crawford', 'crawl', 'cray1', 'craze', 'crazi', 'creaki', 'cream', 'creat', 'creation', 'creativ', 'creator', 'creatur', 'credenti', 'credibl', 'credit', 'creditor', 'creek', 'creep', 'crept', 'crescendo', 'crestfallen', 'crete', 'crew', 'cri', 'cricket', 'crime', 'crimin', 'cring', 'crippl', 'crise', 'crisi', 'crisp', 'crisper', 'cristi', 'cristian', 'cristiano', 'criteria', 'critic', 'criticis', 'croatia', 'croatian', 'crook', 'crop', 'crosbi', 'cross', 'crosscountri', 'crosscourt', 'crossexamin', 'crossfield', 'crosskick', 'crossov', 'crossparti', 'crossroad', 'croucher', 'crow', 'crowd', 'crown', 'crownnnworld', 'croydon', 'crucial', 'crucibl', 'crude', 'cruel', 'cruelti', 'cruis', 'crumbl', 'crumpl', 'crunch', 'crush', 'cruyff', 'crystal', 'crystallin', 'csa', 'csas', 'csi', 'csos', 'cuaron', 'cub', 'cuba', 'cuban', 'cube', 'cubic', 'cuckoo', 'cudicini', 'cue', 'cueto', 'cull', 'cullen', 'cullum', 'cullumpton', 'culmin', 'culprit', 'cult', 'cultiv', 'cultur', 'culturennh', 'culturennth', 'cum', 'cumbersom', 'cumul', 'cun', 'cunningham', 'cup', 'cupwin', 'curb', 'cure', 'curfew', 'curfewsnnfailur', 'curious', 'curl', 'currenc', 'current', 'curri', 'curriculum', 'curs', 'cursor', 'curt', 'curtail', 'curtain', 'curti', 'curv', 'cushion', 'cusit', 'custodi', 'custom', 'customari', 'customersnnwhil', 'customis', 'cut', 'cutback', 'cutnnsix', 'cutoff', 'cutout', 'cutsnnneith', 'cutsnnth', 'cyber', 'cyberathlet', 'cybercrim', 'cybercrimin', 'cyberspac', 'cyborg', 'cycl', 'cygan', 'cymru', 'cymrus', 'cynic', 'cynthia', 'cyprus', 'cyril', 'czech', 'da', 'dab', 'dad', 'daddi', 'dado', 'daft', 'dagger', 'dahl', 'dai', 'daili', 'daimlerchrysl', 'dairi', 'daiwa', 'dal', 'dale', 'dali', 'dalla', 'dallaglio', 'dallair', 'dam', 'damag', 'dame', 'damien', 'damn', 'damon', 'dampen', 'dan', 'dana', 'danc', 'dancehal', 'dancer', 'dane', 'danger', 'dangl', 'dani', 'daniel', 'daniela', 'danielli', 'danish', 'danni', 'darci', 'dare', 'daredevil', 'darfur', 'dark', 'darker', 'darl', 'darren', 'dartford', 'darth', 'dash', 'data', 'databas', 'datamonitor', 'datannon', 'date', 'daten', 'datennth', 'daughter', 'daunt', 'dave', 'davenport', 'daveport', 'davey', 'davi', 'david', 'daviss', 'davo', 'davydenko', 'dawn', 'dawson', 'day', 'daylewi', 'dayn', 'daynnth', 'daytoday', 'dazzl', 'dbs', 'dc', 'dca', 'ddos', 'de', 'deacon', 'dead', 'deadlin', 'deadlock', 'deaf', 'deafen', 'deal', 'dealer', 'dealn', 'dealnna', 'dealnnth', 'dealt', 'dean', 'dear', 'death', 'deathmatch', 'debat', 'debit', 'deborah', 'debra', 'debri', 'debt', 'debtn', 'debtor', 'debut', 'debutnnth', 'dec', 'decad', 'decadelong', 'decadenntoday', 'decadennwev', 'decadesnnth', 'decathlet', 'decay', 'deccan', 'deceit', 'deceiv', 'deceler', 'decemb', 'decembern', 'decembernnth', 'decenc', 'decent', 'decentralis', 'decept', 'dechi', 'decid', 'decis', 'decisionmak', 'decisionn', 'decisionnnth', 'deck', 'deckchair', 'declan', 'declar', 'declin', 'decor', 'decre', 'decreas', 'dedic', 'deduct', 'dee', 'deem', 'deep', 'deepen', 'deeper', 'deepli', 'deer', 'defam', 'defar', 'default', 'defeat', 'defect', 'defector', 'defenc', 'defend', 'defens', 'defer', 'defi', 'defiant', 'deficit', 'defin', 'definit', 'deflat', 'deflect', 'defra', 'defraud', 'deft', 'defunct', 'degrad', 'degre', 'dein', 'deirdr', 'del', 'delaigu', 'delawar', 'delay', 'deleg', 'delet', 'delft', 'delhi', 'deliber', 'delic', 'delight', 'deliri', 'delist', 'deliv', 'deliveri', 'dell', 'dellap', 'deloitt', 'delta', 'dem', 'demand', 'demandnnanalyst', 'demandnnit', 'demandnnth', 'demean', 'dementieva', 'demis', 'demo', 'democraci', 'democrat', 'democratis', 'democratsnnthey', 'demograph', 'demolish', 'demon', 'demonis', 'demonstr', 'dempsey', 'dempseynnp', 'den', 'dench', 'deni', 'denial', 'denialofservic', 'denis', 'denmark', 'denni', 'denomin', 'denounc', 'dent', 'denunci', 'denzel', 'depart', 'department', 'departur', 'depend', 'depict', 'deplet', 'deplor', 'deploy', 'deport', 'deposit', 'depp', 'depreci', 'depress', 'depriv', 'depth', 'deputi', 'der', 'derail', 'derbi', 'derbyshir', 'deregul', 'derek', 'dergarabedian', 'derid', 'deriv', 'dermot', 'des', 'desai', 'desailli', 'descend', 'describ', 'descript', 'deselect', 'desert', 'deserv', 'deshui', 'design', 'desir', 'desk', 'desktop', 'desol', 'despair', 'despatch', 'desper', 'despit', 'destabilis', 'destin', 'destini', 'destroy', 'destruct', 'detach', 'detail', 'detain', 'detaine', 'detainedn', 'detect', 'detector', 'detent', 'deter', 'deterior', 'determin', 'deterr', 'detroit', 'deutsch', 'devalu', 'devast', 'develop', 'developmentn', 'devic', 'devicennin', 'devicesnnth', 'devil', 'devis', 'devon', 'devonish', 'devot', 'di', 'diageo', 'diagnos', 'diagnosi', 'dial', 'diall', 'dialler', 'dialog', 'dialogu', 'dialup', 'diamond', 'dian', 'diana', 'diari', 'diarywrit', 'diatrib', 'dibaba', 'dibley', 'dicaprio', 'dick', 'dicken', 'dicki', 'dictat', 'dictatorship', 'dictionari', 'didact', 'didier', 'didnt', 'didntnnand', 'dido', 'die', 'diego', 'diehard', 'diesel', 'diesnnactress', 'diet', 'dieter', 'dietmar', 'differ', 'differenti', 'difficult', 'difficulti', 'difficultiesnnth', 'dig', 'digbi', 'digit', 'digitaln', 'digitis', 'dignitari', 'digniti', 'dilemma', 'dilig', 'dim', 'dimblebi', 'dimens', 'diminish', 'diminut', 'dimitri', 'din', 'dinkier', 'dinner', 'dinosaur', 'dioxid', 'dip', 'diploma', 'diplomat', 'dire', 'direct', 'directconnect', 'director', 'directorgener', 'directori', 'dirti', 'disabl', 'disadvantag', 'disadvantagenni', 'disagr', 'disagre', 'disallow', 'disappear', 'disappoint', 'disapprov', 'disast', 'disastern', 'disasternnth', 'disastr', 'disbelief', 'disc', 'discard', 'discharg', 'disciplin', 'disciplinari', 'disclos', 'disclosur', 'disco', 'discomfort', 'discont', 'discontinu', 'discount', 'discourag', 'discov', 'discoveri', 'discredit', 'discreet', 'discrep', 'discrimin', 'discriminatori', 'discsnnthos', 'discuss', 'diseas', 'disench', 'disengag', 'disgrac', 'disgruntl', 'disguis', 'disgust', 'dish', 'dishearten', 'dishonest', 'disillus', 'disinterest', 'disk', 'dislik', 'disloy', 'dismal', 'dismantl', 'dismay', 'dismiss', 'disney', 'disord', 'disorient', 'dispel', 'dispens', 'displac', 'display', 'displeasur', 'dispos', 'disproportion', 'disput', 'disqualifi', 'disquiet', 'disregard', 'disreput', 'disreputennth', 'disrespect', 'disrupt', 'dissatisfi', 'dissent', 'dissip', 'dissolv', 'dissuad', 'distanc', 'distant', 'distil', 'distin', 'distinct', 'distinguish', 'distort', 'distract', 'distress', 'distribut', 'distributor', 'district', 'distrust', 'disturb', 'disun', 'ditch', 'ditto', 'diva', 'dive', 'divers', 'diversifi', 'divert', 'divid', 'dividend', 'divis', 'divo', 'divorc', 'divorce', 'divulg', 'dixon', 'diy', 'dizze', 'dizzi', 'dj', 'djs', 'dna', 'doc', 'dock', 'docomo', 'doctor', 'doctorow', 'document', 'documentari', 'dodd', 'dodg', 'dodgi', 'doe', 'doesnt', 'dog', 'dogg', 'doha', 'doherti', 'dokic', 'doldrum', 'dole', 'doll', 'dollar', 'dollarsn', 'domain', 'dome', 'domest', 'domin', 'dominican', 'dominici', 'dominik', 'don', 'donald', 'donat', 'doncast', 'done', 'donkey', 'donncrit', 'donnelli', 'donni', 'donofrio', 'donor', 'dont', 'doom', 'door', 'doorstep', 'doorway', 'dope', 'dori', 'dorset', 'dortmund', 'dos', 'dose', 'dossier', 'dossiernnth', 'dot', 'dotcom', 'doubl', 'doubleblow', 'doubledigit', 'doublefault', 'doubt', 'doubter', 'doug', 'dougla', 'dougray', 'dour', 'dove', 'dow', 'dowd', 'down', 'downbeat', 'downfal', 'downgrad', 'downlink', 'download', 'downloadnnultim', 'downnnveteran', 'downsid', 'downstream', 'downturn', 'downward', 'doyl', 'dozen', 'dr', 'draconian', 'dracula', 'draft', 'drag', 'dragon', 'dragonhood', 'drain', 'drake', 'drama', 'dramat', 'drastic', 'draw', 'drawback', 'drawn', 'dre', 'dread', 'dream', 'dreamlin', 'dreamt', 'dres', 'dresdner', 'dress', 'dressingroom', 'drew', 'dri', 'drift', 'drill', 'drink', 'drinkdriv', 'drinker', 'drip', 'drive', 'drivebi', 'driven', 'driver', 'drm', 'drogba', 'drop', 'dropgoal', 'dropout', 'droppedn', 'drought', 'drove', 'drown', 'drug', 'drugfre', 'drugmak', 'drugsnnth', 'drum', 'drummer', 'drunk', 'drunken', 'ds', 'dsl', 'dss', 'dti', 'du', 'dual', 'dualli', 'dub', 'dubai', 'dubious', 'dublin', 'dublinnnmark', 'duck', 'dudek', 'dudley', 'due', 'duet', 'duff', 'duffi', 'dug', 'dugarri', 'duke', 'dulko', 'dull', 'dumb', 'dummi', 'dump', 'dunbar', 'duncan', 'dunde', 'dunfermlin', 'dungeon', 'dunn', 'dunwoodi', 'duo', 'duplic', 'durabl', 'duran', 'durban', 'durham', 'dusti', 'dustin', 'dutch', 'dutchman', 'duti', 'dvbh', 'dvd', 'dvdlike', 'dvds', 'dvdsnnbut', 'dvr', 'dwain', 'dwarf', 'dwayn', 'dwindl', 'dyer', 'dyernnit', 'dyke', 'dylan', 'dynam', 'dynamit', 'dysfunct', 'e3', 'ea', 'eachn', 'eachnnalthough', 'ead', 'eager', 'eagl', 'eal', 'ear', 'earl', 'earli', 'earlier', 'earliest', 'earlyn', 'earmark', 'earn', 'earner', 'earnest', 'earpiec', 'earth', 'earthlink', 'earthn', 'earthquak', 'eas', 'easi', 'easier', 'easiest', 'easili', 'east', 'eastend', 'easter', 'easterbi', 'eastern', 'eastwood', 'easytomak', 'easytous', 'eat', 'eater', 'eavi', 'ebay', 'ebb', 'ebber', 'ebu', 'ec', 'ecb', 'eccentr', 'echo', 'eclips', 'ecommerc', 'econom', 'economi', 'economist', 'economyn', 'economynna', 'economynnit', 'economynnth', 'ecosystem', 'ecstat', 'ed', 'eddi', 'edg', 'edgi', 'edgwar', 'edinburgh', 'edinburghbas', 'edit', 'edith', 'editor', 'editori', 'editorsnnar', 'edmondson', 'edonkey', 'edu', 'educ', 'edward', 'eef', 'eeoc', 'eerdeken', 'eeri', 'eff', 'effect', 'effici', 'effort', 'effortless', 'egeland', 'egg', 'egypt', 'egyptian', 'eichel', 'eidur', 'eight', 'eighteen', 'eighth', 'eighti', 'eightyear', 'eightyearold', 'eindhoven', 'either', 'eject', 'ekhayelitsha', 'el', 'elabor', 'elat', 'elder', 'elect', 'election', 'electionn', 'electionnnbut', 'electionnnin', 'electionnnit', 'electionnnlabour', 'electionnnmr', 'electionnnon', 'electionnnth', 'electionnntoni', 'elector', 'electr', 'electricitynnth', 'electroclash', 'electron', 'electrorock', 'eleg', 'element', 'elena', 'eleph', 'elev', 'eleven', 'elhorgan', 'eli', 'elia', 'elig', 'elimin', 'eliot', 'elit', 'elitist', 'elizabeth', 'elland', 'ellen', 'elli', 'elliot', 'elliott', 'ellison', 'elm', 'els', 'elsen', 'elsennutt', 'elsewher', 'elspa', 'elton', 'elud', 'elus', 'elvi', 'elviss', 'em', 'email', 'eman', 'embargo', 'embark', 'embarrass', 'embassi', 'embattl', 'embed', 'embezzl', 'embodi', 'embrac', 'embroil', 'embu', 'emerg', 'emi', 'emigr', 'emil', 'emili', 'emilio', 'emin', 'eminem', 'emir', 'emiss', 'emma', 'emmanuel', 'emmerson', 'emot', 'emperor', 'emphasi', 'emphasis', 'emphat', 'empir', 'employ', 'employe', 'empow', 'empower', 'empti', 'emptyhand', 'emul', 'en', 'enabl', 'enact', 'encompass', 'encor', 'encount', 'encourag', 'encrypt', 'end', 'endacott', 'endang', 'endear', 'endeavour', 'endgam', 'endicott', 'endless', 'endofyear', 'endogen', 'endors', 'endtoend', 'endur', 'enemi', 'energet', 'energi', 'enfish', 'enforc', 'engag', 'engin', 'england', 'englandn', 'englandnnbut', 'englandnnth', 'english', 'englishlanguag', 'englishman', 'englishspeak', 'engross', 'enhanc', 'enigmat', 'enjoy', 'enlarg', 'enlighten', 'enlist', 'enorm', 'enough', 'enoughn', 'enquiri', 'enqvist', 'enrag', 'enrico', 'enron', 'ensu', 'ensur', 'enter', 'enterpris', 'entertain', 'enthral', 'enthusiasm', 'enthusiast', 'entir', 'entitl', 'entourag', 'entranc', 'entrant', 'entrench', 'entrepreneur', 'entrepreneuri', 'entri', 'envelop', 'environ', 'environment', 'environmentalist', 'envisag', 'envoy', 'ep', 'ephedrin', 'epic', 'epidem', 'episod', 'epitom', 'epitomis', 'epo', 'eponym', 'equal', 'equalis', 'equat', 'equip', 'equiti', 'equival', 'era', 'erad', 'eras', 'erdogan', 'erfurt', 'eric', 'ericsson', 'ericssonnnsiemen', 'erik', 'eriksson', 'erinl', 'erm', 'ernest', 'ernst', 'erod', 'errant', 'errat', 'erron', 'error', 'erupt', 'escal', 'escap', 'escort', 'especi', 'espionag', 'essenc', 'essenti', 'essex', 'establish', 'estat', 'esteem', 'estell', 'estim', 'estonia', 'et', 'etc', 'etcnnwhat', 'etern', 'ethic', 'ethiopia', 'ethiopian', 'ethnic', 'eton', 'eu', 'eurex', 'euro', 'euronext', 'euronnth', 'europ', 'european', 'europennth', 'europewid', 'europhil', 'euroscept', 'eurosceptic', 'eurosworth', 'eurozon', 'eus', 'euston', 'euthanasia', 'euwid', 'eva', 'evacu', 'evad', 'evalu', 'evan', 'evapor', 'evas', 'evasionn', 'evdo', 'evdonnus', 'eve', 'even', 'event', 'eventnnth', 'eventu', 'ever', 'everett', 'everi', 'everton', 'everybodi', 'everyday', 'everyon', 'everyth', 'everywher', 'evict', 'evid', 'evil', 'evoc', 'evolut', 'evolv', 'ewan', 'ewood', 'exacerb', 'exact', 'exagger', 'exam', 'examin', 'examinationnnmr', 'exampl', 'exboss', 'excav', 'exceed', 'excel', 'except', 'excess', 'exchang', 'exchequ', 'exchief', 'excit', 'exclud', 'exclus', 'excus', 'exdown', 'execut', 'executivennit', 'exempt', 'exercis', 'exert', 'exet', 'exfin', 'exforeign', 'exhaust', 'exhead', 'exhibit', 'exhibitor', 'exhom', 'exil', 'exist', 'exit', 'exlabour', 'exlov', 'exmodel', 'exorbit', 'exorcist', 'exot', 'expand', 'expans', 'expat', 'expect', 'expectedn', 'expectednnth', 'expel', 'expenditur', 'expens', 'experi', 'experienc', 'experiment', 'expert', 'expertis', 'expertsnnonc', 'expir', 'explain', 'explan', 'explet', 'explicit', 'explod', 'exploit', 'explor', 'explorennon', 'explos', 'expo', 'exponenti', 'export', 'exportdriven', 'exportsn', 'expos', 'exposur', 'expresid', 'express', 'expung', 'exsenior', 'extend', 'extens', 'extent', 'extern', 'extra', 'extract', 'extraordinari', 'extraordinarili', 'extratim', 'extravag', 'extravaganza', 'extrem', 'extremist', 'exuber', 'exxon', 'exyuko', 'ey', 'eye', 'eyebal', 'eyebrow', 'eyecatch', 'eyeopenernni', 'eyepop', 'eyewit', 'eyr', 'fa', 'fabian', 'fabien', 'fabrega', 'fabric', 'fabul', 'face', 'facetofac', 'facial', 'facil', 'facilit', 'fact', 'faction', 'factor', 'factori', 'factual', 'fade', 'fagin', 'fahrenheit', 'fail', 'failur', 'fair', 'fairbank', 'fairer', 'fairi', 'faith', 'fake', 'falcon', 'falic', 'fall', 'fallen', 'fallibl', 'fallnnon', 'fallout', 'fals', 'falsifi', 'falter', 'fame', 'famili', 'familiar', 'famin', 'famous', 'fan', 'fanat', 'fanbas', 'fanci', 'fanfar', 'fang', 'fanni', 'fansn', 'fantasi', 'fantast', 'fao', 'far', 'farc', 'fare', 'farewel', 'fargo', 'farina', 'farm', 'farmer', 'faro', 'farreach', 'farrel', 'fascin', 'fascism', 'fascist', 'fashion', 'fast', 'faster', 'fastest', 'fastestgrow', 'fastestsel', 'fastfood', 'fastgrow', 'fastnet', 'fastnnth', 'fasttrack', 'fat', 'fatal', 'fate', 'father', 'fathi', 'fathom', 'fatigu', 'faulkner', 'fault', 'faulti', 'fava', 'favour', 'favourit', 'fawcett', 'fax', 'fay', 'fbi', 'fbis', 'fc', 'fcc', 'fccs', 'fda', 'fdi', 'fear', 'fearn', 'fearsom', 'feasibl', 'feat', 'featur', 'februari', 'februaryn', 'februarynn2000', 'februarynnth', 'fed', 'feder', 'federlin', 'fee', 'feed', 'feedback', 'feeder', 'feel', 'feelgood', 'feet', 'feign', 'feleppa', 'felgat', 'feliciano', 'felip', 'felix', 'fell', 'fellow', 'fellowship', 'feloni', 'felt', 'femal', 'feminist', 'fenc', 'fender', 'feofanova', 'ferdinand', 'ferguson', 'fern', 'fernando', 'feroc', 'feroci', 'feroz', 'ferrari', 'ferreira', 'ferrero', 'ferri', 'fertil', 'fervour', 'festiv', 'festivaln', 'festivalnna', 'festivalnnth', 'fetch', 'fete', 'feud', 'fever', 'fewer', 'feyenoord', 'fiance', 'fiasco', 'fiat', 'fiatgm', 'fibr', 'fiction', 'fiddl', 'fide', 'field', 'fierc', 'fieri', 'fifa', 'fife', 'fifth', 'fifthlargest', 'fifthround', 'fifti', 'fight', 'fighter', 'fightnnth', 'fightstar', 'figo', 'figur', 'figuresn', 'figuresnnth', 'fiji', 'filderstadt', 'file', 'fileshar', 'fileswap', 'filippo', 'fill', 'filler', 'film', 'filmmak', 'filmnna', 'filmnnth', 'filmsn', 'filmsnnhowev', 'filter', 'filthi', 'final', 'finalis', 'finalist', 'finaln', 'finalnnandi', 'financ', 'financi', 'find', 'findlay', 'findnnshar', 'fine', 'finegold', 'finest', 'finger', 'fingerprint', 'finish', 'finit', 'finland', 'finnan', 'finnish', 'fiona', 'fire', 'firearm', 'firefight', 'firefox', 'firemen', 'firepow', 'firewal', 'firework', 'firm', 'first', 'firstchoic', 'firsthalf', 'firsthand', 'firstleg', 'firstperson', 'firstround', 'firstset', 'firstteam', 'firsttim', 'fiscal', 'fischer', 'fish', 'fisher', 'fishermen', 'fist', 'fit', 'fitch', 'five', 'fivemonth', 'fivepoint', 'fiveset', 'fivetim', 'fiveweek', 'fiveyear', 'fix', 'fixedlin', 'fixtur', 'fizz', 'fizzl', 'flag', 'flagship', 'flair', 'flak', 'flamboy', 'flame', 'flamethrow', 'flamini', 'flank', 'flanker', 'flare', 'flash', 'flashi', 'flashpoint', 'flat', 'flatten', 'flatter', 'flavour', 'flaw', 'fled', 'fledg', 'fledgl', 'flee', 'fleet', 'fleme', 'flesh', 'fletcher', 'flew', 'flexibl', 'fli', 'flick', 'flight', 'flimsi', 'flipstart', 'flo', 'float', 'flock', 'flood', 'floor', 'flop', 'floppi', 'flora', 'florentino', 'florian', 'florida', 'floridabas', 'florin', 'flotat', 'flounder', 'flourish', 'flout', 'flow', 'flower', 'flown', 'floyd', 'flu', 'fluctuat', 'fluent', 'fluf', 'fluff', 'fluid', 'flurri', 'flush', 'flyhalf', 'flynn', 'fm', 'focker', 'focus', 'focuss', 'foe', 'fog', 'fogg', 'foil', 'fold', 'folder', 'foley', 'foleynn', 'foleynnf', 'foleynnsheahan', 'folk', 'follow', 'follownninterest', 'followup', 'fond', 'foo', 'food', 'fool', 'foolish', 'foot', 'footag', 'footbal', 'footballn', 'footballplay', 'footn', 'footstep', 'footwear', 'foray', 'forb', 'forbidden', 'forc', 'forcennth', 'forcibl', 'ford', 'fore', 'forearm', 'forecast', 'forefront', 'forehand', 'forehead', 'foreign', 'foreignbas', 'foreignown', 'foreman', 'foremost', 'forens', 'forese', 'forest', 'forev', 'forg', 'forget', 'forgiv', 'forgiven', 'forgot', 'forgotten', 'fork', 'form', 'formal', 'format', 'formatnnth', 'former', 'formerpresid', 'formid', 'formn', 'formul', 'formula', 'forn', 'forrest', 'forster', 'forsyth', 'forthcom', 'forti', 'fortnight', 'fortress', 'fortun', 'fortunesn', 'forum', 'forward', 'foster', 'fought', 'foul', 'found', 'foundat', 'founder', 'foundnna', 'foundnnth', 'four', 'fourday', 'fourfold', 'fouri', 'fourk', 'fourmonth', 'fourpiec', 'fourth', 'fourthbiggest', 'fourthlargest', 'fourthquart', 'fourthround', 'fourtim', 'fouryear', 'fowler', 'fox', 'foxx', 'fraca', 'fraction', 'fractious', 'fractur', 'fragil', 'fragment', 'frame', 'framework', 'fran', 'franc', 'francai', 'francen', 'francesca', 'francesco', 'franchis', 'franci', 'francisco', 'franciscobas', 'franck', 'franco', 'frank', 'frankfurt', 'franki', 'frankjuergen', 'franklin', 'frantic', 'franz', 'fraser', 'fratern', 'fratton', 'fraud', 'fraudn', 'fraudnnform', 'fraudster', 'fraudul', 'fraught', 'fraunhof', 'fray', 'fred', 'freddi', 'freder', 'frederick', 'free', 'freed', 'freedom', 'freekick', 'freelanc', 'freeli', 'freeman', 'freeview', 'freez', 'freight', 'french', 'frenchisra', 'frenchman', 'frenet', 'frenzi', 'frequenc', 'frequent', 'fresh', 'fret', 'fri', 'friday', 'fridayn', 'fridaynnth', 'friend', 'friendnndur', 'friendship', 'frighten', 'fring', 'frivol', 'front', 'frontbench', 'frontier', 'frontlin', 'frontman', 'frontrunn', 'frost', 'frothi', 'froze', 'frozen', 'fruit', 'frustrat', 'fsa', 'fsecur', 'ft', 'ftse', 'fuel', 'fueleffici', 'fuell', 'fujitsu', 'fulfil', 'fulham', 'full', 'fullarton', 'fullback', 'fullblown', 'fuller', 'fullest', 'fulli', 'fullon', 'fullscal', 'fulltim', 'fulltrack', 'fullyear', 'fumbl', 'fume', 'fun', 'function', 'fund', 'fundament', 'fundamentalist', 'fundrais', 'fundsnnth', 'funer', 'funki', 'funkier', 'funnel', 'funni', 'furi', 'furious', 'furnish', 'furnitur', 'furor', 'furs', 'furthermor', 'furthernnth', 'furthernnthank', 'fuse', 'fusion', 'fuss', 'futur', 'futuren', 'futurennaft', 'futurennth', 'futurist', 'futurologist', 'g20', 'g4', 'g7', 'g8', 'gabriel', 'gabriell', 'gadget', 'gadgetlov', 'gadgetnnth', 'gael', 'gaff', 'gag', 'gaillard', 'gain', 'gainer', 'gainn', 'gait', 'gala', 'galaxi', 'galla', 'gallagh', 'galleri', 'gallium', 'galloway', 'gambl', 'game', 'gameboy', 'gamecub', 'gamen', 'gamennth', 'gameplan', 'gameplay', 'gamer', 'gamersnnth', 'gameshow', 'gamesindustrybiz', 'gamesn', 'gamesnnit', 'gamesnnth', 'gamewin', 'gammel', 'gang', 'gangster', 'gap', 'garag', 'garcia', 'garden', 'gardner', 'gareth', 'garfield', 'gari', 'garland', 'garment', 'garner', 'garro', 'gartner', 'gartnernnmor', 'gas', 'gase', 'gasolin', 'gaston', 'gate', 'gatekeep', 'gateshead', 'gateway', 'gather', 'gathernnkaplan', 'gatland', 'gatlin', 'gatwick', 'gaudio', 'gaug', 'gave', 'gavin', 'gavyn', 'gay', 'gaymard', 'gaza', 'gaze', 'gazprom', 'gazpromneft', 'gb', 'gbs', 'gcses', 'gdc', 'gdp', 'ge', 'gear', 'gebrselassi', 'gee', 'geek', 'geeksn', 'gel', 'geldof', 'gem', 'gemma', 'gen', 'gender', 'gene', 'genel', 'general', 'generat', 'generic', 'generos', 'generous', 'genet', 'geneti', 'geneva', 'genevabas', 'geni', 'genius', 'genocid', 'genr', 'gentl', 'gentleman', 'genuin', 'geoff', 'geoffrey', 'geograph', 'geographi', 'geordan', 'georg', 'georgewbushcom', 'georgia', 'gerald', 'geraldin', 'gerard', 'gerd', 'gere', 'gerhard', 'germain', 'german', 'germani', 'germansino', 'germanus', 'germanynnth', 'gerrard', 'gerrardnnliverpool', 'gerrardnnon', 'gerri', 'gershon', 'gervai', 'gestur', 'get', 'gethin', 'gevaert', 'ghana', 'ghosn', 'ghost', 'giamatti', 'gianfranco', 'gianluca', 'gianni', 'giant', 'gibb', 'gibbon', 'gibraltarbas', 'gibson', 'giddi', 'gift', 'gig', 'gigabit', 'gigabyt', 'gigant', 'gigg', 'gignnth', 'gil', 'gilbert', 'gile', 'gill', 'gillespi', 'gillian', 'gilligan', 'gillmor', 'gilmor', 'gimm', 'gimmicksn', 'ginepri', 'girin', 'girl', 'girlfriend', 'girvan', 'gisbergen', 'gisela', 'gisell', 'giusepp', 'give', 'giveaway', 'given', 'givennnth', 'gizmo', 'gizmondo', 'glad', 'gladiat', 'glamour', 'glanc', 'glare', 'glasgow', 'glass', 'glastonburi', 'glaxo', 'glaxosmithklin', 'glazer', 'glazernnth', 'glean', 'gleeson', 'glen', 'gleneagl', 'glenn', 'glide', 'glimps', 'glitch', 'glitter', 'gloat', 'global', 'globalis', 'globe', 'gloom', 'gloomi', 'glori', 'glorifi', 'glorious', 'gloss', 'glossi', 'gloucest', 'gloucestershir', 'glow', 'glut', 'glyn', 'gm', 'gms', 'gmt', 'gmtn', 'gmtnnbbc1', 'gmtnnbut', 'gmtnnthe', 'gmtvs', 'go', 'goahead', 'goal', 'goalkeep', 'goalkick', 'goalless', 'goallin', 'goalmouth', 'goalscor', 'goalward', 'goat', 'god', 'godfath', 'goe', 'gogh', 'gold', 'golden', 'goldeney', 'goldman', 'goldsmith', 'goldstein', 'golf', 'gomarsal', 'gondri', 'gone', 'gong', 'gonna', 'gonzalez', 'gonzalo', 'good', 'goodby', 'goodfella', 'goodison', 'goodman', 'goodn', 'goodrem', 'goodwil', 'googl', 'gopinath', 'gordon', 'gorg', 'gorgeous', 'gorur', 'gospel', 'gossip', 'got', 'gothic', 'gotta', 'gotten', 'gough', 'gould', 'govern', 'government', 'governmentcommiss', 'governmentn', 'governmentnna', 'governmentnnth', 'governor', 'gp', 'gprs', 'gps', 'grab', 'grace', 'graceland', 'gracious', 'grade', 'gradual', 'graduat', 'graem', 'graft', 'graham', 'grail', 'gram', 'grammar', 'grammi', 'granada', 'grand', 'grandchild', 'grandchildren', 'grandclaud', 'grandclaudennrougeri', 'grandfath', 'grandmoth', 'grandson', 'grang', 'grant', 'grantham', 'graphic', 'graphicsintens', 'graphicsnnth', 'grappl', 'grasp', 'grass', 'grassroot', 'grate', 'gratuit', 'grauman', 'grave', 'gravesen', 'gray', 'graz', 'grazer', 'great', 'greater', 'greatest', 'greatnnboth', 'greav', 'greec', 'greedi', 'greek', 'green', 'greenback', 'greenberg', 'greener', 'greenfield', 'greensleev', 'greenspan', 'greenwich', 'greenwood', 'greer', 'greet', 'greg', 'gregan', 'gregori', 'grenad', 'gretchen', 'grew', 'grewcock', 'grey', 'grid', 'grief', 'griev', 'griffen', 'griffin', 'griffith', 'grill', 'grim', 'grime', 'grind', 'grip', 'grit', 'gritti', 'groceri', 'groen', 'groin', 'grokster', 'grosjean', 'gross', 'grossli', 'ground', 'groundbreak', 'groundn', 'groundsnndavenport', 'group', 'groupn', 'grove', 'grow', 'grown', 'growth', 'growthn', 'growthnnchina', 'growthnnin', 'growthnnth', 'growthnnus', 'grudg', 'gruell', 'gruesom', 'gsm', 'gta', 'guantanamo', 'guarante', 'guard', 'guardian', 'guardiola', 'gudjohnsen', 'guerrouj', 'guess', 'guest', 'guid', 'guidanc', 'guidelin', 'guild', 'guildford', 'guillermo', 'guilt', 'guilti', 'guin', 'guinea', 'guis', 'guitar', 'guitarist', 'gulf', 'gullit', 'gump', 'gun', 'gunit', 'gunnar', 'gunner', 'gunpowd', 'gunshot', 'guru', 'gus', 'gustavo', 'gut', 'gutsi', 'gutter', 'guy', 'gwen', 'gwyneth', 'gym', 'gypsi', 'haa', 'habit', 'hacan', 'hack', 'hacker', 'hackford', 'haden', 'hadnt', 'hagu', 'hail', 'hain', 'hair', 'haircut', 'haisheng', 'hak', 'hal', 'half', 'halfback', 'halfhour', 'halflif', 'halfmarathon', 'halftim', 'halfway', 'halifax', 'hall', 'hallam', 'halliwel', 'hallmark', 'hallow', 'halo', 'halt', 'halv', 'ham', 'hamann', 'hamilton', 'hamish', 'hamlet', 'hamm', 'hammer', 'hammersmith', 'hamper', 'hamstr', 'han', 'hand', 'handbag', 'handheld', 'handi', 'handicap', 'handinhand', 'handl', 'handler', 'handout', 'handset', 'handsetnnand', 'handsetsnnalso', 'handsfre', 'handwritten', 'hang', 'hank', 'hanov', 'hansard', 'hansen', 'hanson', 'hantuchova', 'hapless', 'happen', 'happenedn', 'happi', 'happier', 'happili', 'har', 'harangu', 'harbour', 'hard', 'hardcor', 'hardcourt', 'harden', 'harder', 'hardest', 'hardfought', 'hardi', 'hardlin', 'hardwar', 'hardwork', 'hare', 'hari', 'harinordoquy', 'hark', 'harlem', 'harlequin', 'harley', 'harm', 'harman', 'harmoni', 'harmonis', 'harold', 'harper', 'harri', 'harrier', 'harriet', 'harrison', 'harrow', 'harsh', 'hart', 'hartlepool', 'hartson', 'hartz', 'harvard', 'harvest', 'harvey', 'hash', 'hasnt', 'hassan', 'hassel', 'hasselbaink', 'hassl', 'hastili', 'hat', 'hate', 'hatr', 'hattrick', 'haul', 'haunt', 'havana', 'havenot', 'havent', 'hawk', 'hawkin', 'hawkish', 'hay', 'hayao', 'hayden', 'hayley', 'hayward', 'hazard', 'hazel', 'hazzard', 'hbo', 'hbos', 'hd', 'hddvd', 'hddvds', 'hdtv', 'hdtvs', 'head', 'headach', 'headbut', 'header', 'headingley', 'headlin', 'headon', 'headphon', 'headquart', 'headset', 'headtohead', 'heal', 'heald', 'healey', 'health', 'healthcar', 'healthi', 'healthier', 'healthnnth', 'healthrel', 'heap', 'hear', 'heard', 'heart', 'heartbeat', 'hearten', 'heartland', 'heat', 'heath', 'heather', 'heathrow', 'heaven', 'heavi', 'heavier', 'heavili', 'heavilytip', 'heavyweight', 'heckler', 'hectic', 'hector', 'hed', 'hedg', 'heel', 'hefti', 'height', 'heighten', 'heilmann', 'hein', 'heineken', 'heinz', 'heir', 'heizo', 'held', 'helen', 'helena', 'helicopt', 'hell', 'hellblaz', 'hellboy', 'hellen', 'hello', 'helm', 'helmut', 'help', 'helper', 'helsinki', 'hemispher', 'henc', 'henchoz', 'henderson', 'hendrix', 'heninhardenn', 'henk', 'henman', 'henri', 'henson', 'hepat', 'hepburn', 'heptathlon', 'herald', 'herbert', 'hercus', 'here', 'herebi', 'hereditari', 'heren', 'herennlet', 'heritag', 'hermion', 'hernych', 'hero', 'heroic', 'heroin', 'hertfordshir', 'hertfordshiren', 'herv', 'hes', 'heseltin', 'hesit', 'hewitt', 'hewlett', 'hey', 'heyday', 'heyman', 'hiatus', 'hibernian', 'hicham', 'hickey', 'hicki', 'hid', 'hidden', 'hide', 'hifi', 'higgin', 'high', 'highburi', 'highcapac', 'highclass', 'highdefinit', 'highend', 'higher', 'higherresolut', 'highest', 'highestrank', 'highland', 'highlevel', 'highlight', 'highnnth', 'highprofil', 'highqual', 'highresolut', 'highrisk', 'highspe', 'highspec', 'hightech', 'highvolum', 'highway', 'hijack', 'hike', 'hilari', 'hill', 'hillingdon', 'hillsborough', 'hilton', 'himn', 'himnnth', 'hinckley', 'hinder', 'hindi', 'hindu', 'hindustan', 'hine', 'hing', 'hingi', 'hinshelwood', 'hinshelwoodnnr', 'hint', 'hip', 'hiphop', 'hippi', 'hire', 'hislop', 'hissfre', 'histor', 'histori', 'historian', 'historynnth', 'hit', 'hitachi', 'hitch', 'hitchhik', 'hitech', 'hitler', 'hitter', 'hiv', 'hivaid', 'hms', 'hmv', 'hoard', 'hoax', 'hobbi', 'hobday', 'hockey', 'hockney', 'hoddl', 'hodg', 'hodgson', 'hoeft', 'hoffman', 'hoffmann', 'hog', 'hogan', 'hogg', 'hoggnnr', 'hogwart', 'hoist', 'holbi', 'hold', 'holder', 'holdnnth', 'holdsworth', 'hole', 'holi', 'holiday', 'holist', 'holland', 'hollinghurst', 'hollow', 'hollywood', 'holm', 'holocaust', 'holyrood', 'home', 'homebuy', 'homecom', 'homegrown', 'homeland', 'homeless', 'homennth', 'homeown', 'homepag', 'hometown', 'homosexu', 'honda', 'hone', 'honest', 'honesti', 'honeymoon', 'hong', 'honor', 'honorari', 'honour', 'honournnactor', 'honoursnnsir', 'hood', 'hook', 'hooker', 'hoon', 'hoov', 'hop', 'hope', 'hopkin', 'hopman', 'horan', 'hord', 'horgan', 'horizon', 'horizont', 'horn', 'horrend', 'horribl', 'horrif', 'horrifi', 'horror', 'hors', 'horseback', 'horserac', 'hospic', 'hospit', 'host', 'hostag', 'hostil', 'hot', 'hotel', 'hotspot', 'hottest', 'houlihan', 'houlihann', 'houllier', 'hound', 'hour', 'hourlong', 'hournnsun', 'hous', 'household', 'housem', 'housew', 'houston', 'hover', 'howard', 'howardnntoni', 'howe', 'howel', 'howev', 'howl', 'hp', 'hps', 'hq', 'hrbati', 'hsbc', 'hsdpa', 'hub', 'huckabe', 'hug', 'huge', 'hugh', 'hugo', 'hulk', 'human', 'humanitarian', 'humanoid', 'humber', 'humbl', 'humili', 'humor', 'humour', 'humphrey', 'hundr', 'hung', 'hungari', 'hungarian', 'hunger', 'hungri', 'hunt', 'hunter', 'hurdl', 'hurdler', 'hurri', 'hurrican', 'hurt', 'husband', 'hussein', 'hustl', 'huston', 'hutch', 'hutt', 'hutton', 'hutu', 'huw', 'hvb', 'hybrid', 'hyde', 'hyderabad', 'hype', 'hypnot', 'hypocrisi', 'hypponen', 'hyster', 'hyundai', 'hyungtaik', 'hyypia', 'iaaf', 'iain', 'ian', 'ianson', 'ibanez', 'ibm', 'ibrox', 'ican', 'icann', 'ice', 'iceberg', 'icebergn', 'iceland', 'icm', 'icon', 'icsti', 'id', 'idc', 'idea', 'ideal', 'idealist', 'ident', 'identif', 'identifi', 'ideolog', 'idioci', 'idiot', 'idl', 'idlewild', 'idn', 'idndis', 'idol', 'idolstyl', 'idowu', 'idvd', 'ie', 'if', 'iff', 'ifpi', 'ignacio', 'ignit', 'ignor', 'igor', 'ii', 'iii', 'il', 'ilif', 'ill', 'illeg', 'illegalnnp2p', 'illegitim', 'illfat', 'illiber', 'illicit', 'illiter', 'illiteraci', 'illog', 'illus', 'illusori', 'illustr', 'ilo', 'ilston', 'im', 'imag', 'imageri', 'imagin', 'imaginari', 'imam', 'imanol', 'imbal', 'imelda', 'imf', 'imit', 'immacul', 'immeasur', 'immedi', 'immediaci', 'immens', 'immers', 'immersionnngam', 'immigr', 'immigrationnnlib', 'immin', 'immun', 'imp', 'impact', 'impactn', 'impair', 'impart', 'imparti', 'impati', 'impecc', 'imped', 'impend', 'imper', 'imperi', 'imperson', 'impetus', 'implant', 'implement', 'impli', 'implic', 'implod', 'implor', 'import', 'impos', 'imposs', 'impoverish', 'impract', 'impresario', 'impress', 'imprison', 'improp', 'improv', 'improven', 'improvis', 'impuls', 'inabl', 'inaccess', 'inaccur', 'inacio', 'inadequ', 'inadvert', 'inappropri', 'inaugur', 'inauthent', 'inbev', 'inbox', 'inc', 'incap', 'incapac', 'incapacit', 'incarn', 'incens', 'incent', 'incept', 'incess', 'inch', 'incid', 'incident', 'incit', 'inclin', 'includ', 'includenn', 'includennn', 'inclus', 'incom', 'incompat', 'incompet', 'inconceiv', 'inconclus', 'inconsist', 'inconveni', 'incorpor', 'incourt', 'increas', 'increasinglycompetit', 'incred', 'incumb', 'incur', 'inde', 'indebt', 'indec', 'indecis', 'indefens', 'indefinit', 'independ', 'indepth', 'index', 'indexlink', 'indi', 'india', 'indian', 'indiana', 'indianborn', 'indiannth', 'indic', 'indict', 'indiffer', 'indigen', 'indign', 'indirect', 'indispens', 'individu', 'indonesia', 'indonesian', 'indoor', 'induc', 'induct', 'indulg', 'industri', 'industrialis', 'industrialist', 'industriesnnsom', 'industryn', 'industrynnth', 'ineffect', 'ineffici', 'inelig', 'inept', 'inequ', 'inevit', 'inexor', 'inexperienc', 'infam', 'infanc', 'infant', 'infect', 'infecti', 'infer', 'inferior', 'infest', 'infight', 'infightingnnukip', 'infiltr', 'infirmari', 'inflat', 'inflationari', 'inflict', 'influenc', 'influenti', 'influx', 'info', 'inform', 'infrastructur', 'infring', 'ing', 'ingam', 'ingeni', 'ingram', 'ingredi', 'inhabit', 'inher', 'inherit', 'inhuman', 'initi', 'inject', 'injunct', 'injur', 'injuri', 'injuryhit', 'injuryn', 'injurynnopen', 'injurynnth', 'injurytim', 'injustic', 'ink', 'inkjet', 'inkl', 'inland', 'inmat', 'inner', 'innerc', 'innoc', 'innocu', 'innov', 'innovationnnth', 'input', 'inquiri', 'insan', 'inse', 'insecur', 'insensit', 'insert', 'insid', 'insidi', 'insight', 'insignific', 'insist', 'insolv', 'inspect', 'inspector', 'inspir', 'instabl', 'instal', 'instanc', 'instant', 'instantan', 'instatmdr', 'instead', 'instig', 'instil', 'instinct', 'institut', 'instruct', 'instrument', 'insuffici', 'insul', 'insult', 'insur', 'insurg', 'intact', 'intak', 'integr', 'intel', 'intellect', 'intellectu', 'intellig', 'intend', 'intens', 'intensifi', 'intent', 'inter', 'interact', 'interamerican', 'interbrew', 'intercept', 'interconnect', 'interest', 'interestnnbut', 'interestnnth', 'interf', 'interfac', 'interfax', 'interfer', 'interim', 'interior', 'intermediari', 'intern', 'internationalis', 'internationaln', 'internationalnnth', 'interne', 'internet', 'internetbas', 'interoper', 'interpol', 'interpret', 'interrog', 'interrupt', 'interv', 'interven', 'intervent', 'interventionnnlord', 'interview', 'intim', 'intimid', 'intoppa', 'intrigu', 'introduc', 'introduct', 'intrud', 'intrus', 'invad', 'invalid', 'invalu', 'invari', 'invas', 'invent', 'inventionnnin', 'inventionsnnth', 'inventor', 'inventori', 'inver', 'invest', 'investec', 'investig', 'investigationnnth', 'investor', 'invinc', 'invis', 'invit', 'invoic', 'invok', 'involv', 'involvementn', 'ioannidi', 'ioc', 'iota', 'ip', 'iphoto', 'ipo', 'ipod', 'ipodd', 'ipswich', 'iptv', 'ira', 'irak', 'iran', 'iranian', 'iraq', 'iraqi', 'irb', 'ireland', 'irelandnna', 'irelandnnengland', 'irelandnnth', 'iri', 'irina', 'irish', 'irishman', 'irishnnfor', 'iriv', 'iron', 'irregular', 'irrelev', 'irrespect', 'irrespons', 'irrevers', 'irrig', 'irrit', 'irvin', 'isaiah', 'isinbayeva', 'isl', 'islam', 'island', 'islington', 'ism', 'isnt', 'isol', 'ison', 'isp', 'isra', 'israel', 'israeln', 'issu', 'issuen', 'issuer', 'issuesn', 'istanbul', 'itali', 'italian', 'italynna', 'italynnth', 'item', 'itf', 'itll', 'itn', 'itnna', 'itnni', 'itnnin', 'itnnit', 'itnnmr', 'itnnon', 'itnnonc', 'itnntelecommun', 'itnnth', 'itnnw', 'itun', 'itv', 'itv1', 'iv', 'ivan', 'ive', 'iveta', 'ivo', 'ivori', 'ja', 'jack', 'jackass', 'jacket', 'jacki', 'jackman', 'jackpot', 'jackson', 'jacksonvill', 'jacqu', 'jacquelin', 'jade', 'jaguar', 'jail', 'jailhous', 'jaim', 'jain', 'jakarta', 'jake', 'jam', 'jamaica', 'jamaican', 'jame', 'jamelia', 'jami', 'jamieson', 'jan', 'jane', 'janeiro', 'janet', 'jankov', 'januari', 'januaryn', 'januarynnth', 'japan', 'japanes', 'japann', 'japannnjapanes', 'japannnth', 'jar', 'jarosik', 'jason', 'jauzion', 'java', 'javelin', 'javier', 'jaw', 'jawdrop', 'jaxx', 'jay', 'jayn', 'jayz', 'jazz', 'jealous', 'jean', 'jeanclaud', 'jeanett', 'jeanfrancoi', 'jeanmichel', 'jeanphilipp', 'jeanpierr', 'jedi', 'jeer', 'jeev', 'jeff', 'jefferson', 'jeffrey', 'jelena', 'jemima', 'jen', 'jena', 'jenkin', 'jenni', 'jennif', 'jeopardis', 'jeremi', 'jerom', 'jerri', 'jersey', 'jerwood', 'jerzi', 'jessica', 'jessop', 'jesus', 'jet', 'jeunet', 'jew', 'jewel', 'jewelleri', 'jewish', 'jill', 'jim', 'jimi', 'jimmi', 'jinshajiang', 'jiri', 'jitter', 'jk', 'jm', 'jo', 'joachim', 'joann', 'joaquin', 'job', 'jobcentr', 'jobless', 'jobnnth', 'jobsnnsom', 'jobsnnth', 'jocelyn', 'jockey', 'joe', 'joel', 'joey', 'jog', 'johan', 'johann', 'johansson', 'john', 'johnni', 'johnson', 'johnston', 'joic', 'join', 'joint', 'joke', 'jol', 'jolen', 'joli', 'jolin', 'jon', 'jona', 'jonah', 'jonathan', 'jone', 'jonesn', 'jonni', 'jool', 'jordan', 'jordanian', 'jordi', 'jos233', 'jose', 'josep', 'joseph', 'josh', 'joshua', 'joss', 'journal', 'journalist', 'journey', 'jowel', 'joy', 'joyc', 'joystick', 'jp', 'jpmorgan', 'jr', 'jrr', 'juan', 'jubil', 'jude', 'judg', 'judgel', 'judgement', 'judgementn', 'judgment', 'judi', 'judici', 'judiciari', 'judith', 'judo', 'juggl', 'jugnot', 'juic', 'jukebox', 'jukeboxnnwhat', 'jule', 'juli', 'julia', 'julian', 'julien', 'juliett', 'julio', 'julyn', 'jumbo', 'jump', 'jumper', 'jumpi', 'june', 'junejuli', 'junen', 'junennth', 'jungl', 'juninho', 'junior', 'junk', 'jupit', 'jurgen', 'juri', 'jurisdict', 'juror', 'justic', 'justicennth', 'justif', 'justifi', 'justin', 'juvenil', 'juventus', 'jvc', 'kahn', 'kaiser', 'kalanick', 'kalman', 'kamara', 'kano', 'kansa', 'kany', 'kaplan', 'kaprano', 'karachi', 'karaok', 'karen', 'karl', 'karol', 'karolina', 'karwai', 'kasabian', 'kashmir', 'kate', 'katerina', 'katharin', 'katherin', 'kathi', 'kathleen', 'kay', 'kazaa', 'kazakhstan', 'kbps', 'kean', 'keanu', 'keat', 'keaton', 'kechich', 'keegan', 'keen', 'keep', 'keeper', 'kefu', 'keira', 'keith', 'kelli', 'kelvin', 'kemp', 'ken', 'kenenisa', 'kennedi', 'kenneth', 'kenni', 'kensington', 'kent', 'kenteri', 'kenteriss', 'kentish', 'kentn', 'kenya', 'kenyan', 'kenyon', 'kenzi', 'kept', 'kerr', 'kerri', 'keska', 'kessler', 'kevin', 'kewel', 'key', 'keyboard', 'keyn', 'keynot', 'keypad', 'keystrok', 'kezman', 'khan', 'khatami', 'khayelitsha', 'khodorkovski', 'khomeini', 'kick', 'kickabl', 'kicker', 'kickoff', 'kickstart', 'kid', 'kidnap', 'kidney', 'kiefer', 'kieron', 'kilbrid', 'kilgor', 'kill', 'killednnjohn', 'killer', 'kilobit', 'kilometr', 'kilroy', 'kilroysilk', 'kilroysilknnif', 'kilroysilknnmr', 'kim', 'kimber', 'kind', 'king', 'kingdom', 'kingfish', 'kingsholm', 'kinki', 'kinnock', 'kinross', 'kinsey', 'kiplagat', 'kirchner', 'kirkcaldi', 'kirkwood', 'kirsten', 'kirwan', 'kiss', 'kit', 'kitchen', 'kitt', 'kk', 'kleinwort', 'kluft', 'kluivertnnform', 'knack', 'knapman', 'knee', 'knew', 'knife', 'knight', 'knighthood', 'knock', 'knockon', 'knockout', 'know', 'knowhow', 'knowl', 'knowledg', 'known', 'knownn', 'knox', 'kodak', 'koji', 'kolo', 'konami', 'kong', 'kooyong', 'korchemni', 'korea', 'korean', 'korn', 'kosslick', 'kosta', 'kostan', 'kp', 'kpmg', 'kraft', 'kremlin', 'kristin', 'krivorizhst', 'kroner', 'kruger', 'kuala', 'kuchma', 'kudo', 'kudrow', 'kumar', 'kunplomennin', 'kursk', 'kurt', 'kutaragi', 'kuwait', 'kuznetsova', 'kwaky', 'kwame', 'kyle', 'kyli', 'kyoto', 'la', 'lab', 'labadz', 'label', 'labor', 'laboratori', 'labour', 'labourn', 'labournna', 'lack', 'lacklustr', 'lacroix', 'lad', 'ladbrok', 'ladder', 'laddish', 'laden', 'ladi', 'lag', 'lagan', 'lagat', 'lager', 'laggard', 'laharragu', 'lahor', 'laid', 'lake', 'lambast', 'lambert', 'lamboley', 'lament', 'lamin', 'lammi', 'lamont', 'lampard', 'lan', 'lanarkshir', 'lancashir', 'lancast', 'land', 'lander', 'landladi', 'landlin', 'landlord', 'landmark', 'landmin', 'landown', 'landscap', 'landslid', 'lane', 'lang', 'langdon', 'langtri', 'languag', 'languagennregist', 'languish', 'lanka', 'lankan', 'lansdown', 'lap', 'laport', 'laps', 'laptop', 'larg', 'larger', 'largerthanexpect', 'largescal', 'largest', 'larkin', 'larn', 'larri', 'larsson', 'las', 'laser', 'laserbas', 'lash', 'last', 'lastditch', 'lastgasp', 'lastminut', 'latch', 'late', 'latenight', 'later', 'latern', 'latest', 'latham', 'latin', 'latter', 'laud', 'laugh', 'laughabl', 'launch', 'launcher', 'launder', 'launderett', 'laura', 'lauren', 'laurent', 'lavagna', 'lavign', 'lavish', 'law', 'lawabid', 'lawless', 'lawmak', 'lawn', 'lawnna', 'lawnnbut', 'lawnnin', 'lawnnth', 'lawrenc', 'lawsnna', 'lawsnnth', 'lawson', 'lawsuit', 'lawyer', 'lay', 'layoff', 'layout', 'lazi', 'lazio', 'lcd', 'lcds', 'le', 'lead', 'leader', 'leadern', 'leadership', 'leadnnth', 'leadup', 'leaf', 'leaflet', 'leagu', 'leahi', 'leak', 'leami', 'lean', 'leant', 'leap', 'leapfrog', 'leapt', 'learn', 'learner', 'learnt', 'leas', 'least', 'leav', 'lebanes', 'lebeouf', 'leblanc', 'lectur', 'led', 'lee', 'leed', 'left', 'leftback', 'leftfoot', 'lefthand', 'leftist', 'leftnnmr', 'leftw', 'leg', 'legaci', 'legal', 'legalis', 'legallydownload', 'legend', 'legendari', 'legisl', 'legitim', 'legitimaci', 'legitimis', 'lehman', 'lehmann', 'leicest', 'leicestern', 'leicestershir', 'leigh', 'leinster', 'leipzig', 'leisur', 'lemar', 'lemoni', 'len', 'lend', 'lender', 'length', 'lengthi', 'lenkiewicz', 'lenni', 'lennon', 'lenovo', 'lent', 'leonard', 'leonardo', 'leoncia', 'leonid', 'les', 'lesbian', 'lesli', 'lesotho', 'lesquiv', 'less', 'lessen', 'lesser', 'lesson', 'lester', 'let', 'letitia', 'letter', 'letwin', 'level', 'leveln', 'levelnnth', 'leverag', 'leverkusen', 'levi', 'lewd', 'lewi', 'lewisfr', 'lewsey', 'lexus', 'lg', 'li', 'liabil', 'liabl', 'liais', 'liaison', 'liam', 'liar', 'lib', 'libel', 'liber', 'liberac', 'liberalis', 'libertarian', 'liberti', 'libertin', 'librari', 'librarian', 'libretto', 'libya', 'licenc', 'licens', 'license', 'lick', 'lid', 'liddel', 'lie', 'liebenberg', 'lieuten', 'lievin', 'life', 'lifeblood', 'lifelik', 'lifelin', 'lifelong', 'lifen', 'lifenna', 'lifennth', 'lifestyl', 'lifethreaten', 'lifetim', 'liff', 'lift', 'liga', 'ligament', 'liggett', 'light', 'lightbodi', 'lighter', 'lightmov', 'lightweight', 'like', 'likeabl', 'likeforlik', 'likelihood', 'liken', 'likewis', 'likhovtseva', 'lil', 'lill', 'lilli', 'lim', 'lima', 'limb', 'limbo', 'limelight', 'limit', 'limitsn', 'limp', 'linda', 'lindeman', 'lindsay', 'line', 'lineout', 'linesman', 'linesn', 'lineup', 'linford', 'linger', 'link', 'linpack', 'linux', 'linuxbas', 'lion', 'lionel', 'lionsnnal', 'lipietz', 'liquefi', 'liquid', 'liquor', 'lira', 'lisa', 'lisbon', 'lishman', 'list', 'listen', 'listenersn', 'listnnth', 'lit', 'lite', 'liter', 'literaci', 'literari', 'literatur', 'litig', 'litr', 'littl', 'littleknown', 'liu', 'live', 'liveact', 'livelihood', 'livermor', 'liverpool', 'liverpooln', 'livesn', 'livid', 'livingston', 'ljubic', 'ljubicicnntop', 'ljungberg', 'llanelli', 'llc', 'llewellyn', 'lleyton', 'lloyd', 'lng', 'lnm', 'lo', 'load', 'loan', 'loansn', 'loath', 'lob', 'lobbi', 'local', 'localis', 'locat', 'loch', 'lock', 'lockhe', 'lockup', 'lodg', 'lodger', 'log', 'logic', 'login', 'logist', 'logo', 'lomax', 'lombard', 'lomu', 'london', 'londonbas', 'londonfrankfurt', 'londonn', 'londonnnth', 'lone', 'lonesom', 'long', 'longawait', 'longbridg', 'longdist', 'longer', 'longerterm', 'longest', 'longestrun', 'longev', 'longhaul', 'longhorn', 'longplan', 'longrang', 'longrun', 'longstand', 'longterm', 'longtim', 'look', 'loom', 'loop', 'loophol', 'loos', 'loosehead', 'loosen', 'lopez', 'lord', 'lorillard', 'lorri', 'los', 'lose', 'loser', 'loss', 'lossmak', 'lost', 'lot', 'lotteri', 'loud', 'loughborough', 'loui', 'louis', 'louisa', 'lousi', 'louvr', 'love', 'lover', 'low', 'lowbudget', 'lowcost', 'lower', 'lowest', 'lowfar', 'lowincom', 'lowkey', 'lowlevel', 'lownnth', 'lowpaid', 'loyal', 'loyalist', 'loyalti', 'lse', 'lses', 'lta', 'ltd', 'lualua', 'luca', 'lucent', 'luci', 'luciano', 'luck', 'lucki', 'luckili', 'lucrat', 'ludacri', 'ludicr', 'ludov', 'ludovico', 'lufthansa', 'lui', 'luiz', 'luke', 'lukewarm', 'lula', 'lull', 'lump', 'lunar', 'lunch', 'lunchtim', 'lundgren', 'lung', 'lupoli', 'lure', 'lurk', 'lusaka', 'luscomb', 'lush', 'luther', 'luton', 'luxembourg', 'luxemburgo', 'luxuri', 'lvmh', 'lw', 'lyco', 'lynch', 'lynn', 'lynton', 'lyon', 'lyric', 'lyricist', 'm6', 'mac', 'macbeth', 'macdonald', 'macfarlan', 'machin', 'machinennit', 'machineri', 'macintosh', 'macintyr', 'mack', 'mackay', 'macken', 'macki', 'mackintosh', 'macklin', 'macleod', 'macqueen', 'macroeconom', 'macrovis', 'macrovisionnnth', 'macworld', 'mad', 'madagascar', 'madam', 'madden', 'made', 'madonna', 'madrid', 'madridbas', 'madridnndidnnask', 'madridnnth', 'madsen', 'maduaka', 'mae', 'maev', 'mafia', 'magazin', 'magazinen', 'magazinennin', 'magazinennit', 'magazinennth', 'magg', 'maggi', 'maggsnnj', 'magic', 'magistr', 'magna', 'magnat', 'magnet', 'magnier', 'magnific', 'magnitud', 'magpi', 'maguir', 'mahmoud', 'maiden', 'mail', 'mailer', 'main', 'mainland', 'mainstay', 'mainstream', 'maintain', 'mainten', 'major', 'majorityown', 'make', 'makelel', 'makeov', 'maker', 'makernnan', 'makeup', 'malaria', 'malaysia', 'malcolm', 'maldini', 'maldiv', 'male', 'maledomin', 'maleeva', 'malfunct', 'malibu', 'malici', 'mall', 'mallorcan', 'mallya', 'maloney', 'malt', 'mama', 'mamma', 'mammal', 'man', 'manag', 'managementchicago', 'manageri', 'managernnglenn', 'managernnth', 'manchest', 'manchesternnth', 'mandar', 'mandarin', 'mandat', 'mandatori', 'mandela', 'mandelson', 'manga', 'mangala', 'manger', 'manhattan', 'manhunt', 'mani', 'manic', 'manifesto', 'manifestonnth', 'manipul', 'mankind', 'manmachin', 'mann', 'manner', 'manoeuvr', 'manofthematch', 'mansfield', 'manslaught', 'manson', 'mantl', 'manual', 'manuel', 'manufactur', 'manuscript', 'map', 'mapsn', 'mar', 'maradona', 'marat', 'marathon', 'marc', 'marcel', 'march', 'marchionn', 'marchn', 'marchnnharinordoquy', 'marchnnth', 'marco', 'marconnet', 'marcus', 'mardi', 'margaret', 'margin', 'mari', 'maria', 'mariano', 'marigni', 'marin', 'mario', 'marion', 'maritim', 'mark', 'marker', 'market', 'marketn', 'marketnna', 'marketnnaccord', 'marketnnnew', 'marketnnnintendo', 'marketnnth', 'marketplac', 'marketset', 'marko', 'marlon', 'marlu', 'maroon', 'marqu', 'marquez', 'marr', 'marri', 'marriag', 'marseill', 'marsh', 'marshal', 'marston', 'martial', 'martin', 'martinez', 'martyn', 'martyr', 'marvel', 'marvelnnsoni', 'marvin', 'maryland', 'mas', 'masai', 'maserati', 'maseru', 'masi', 'mask', 'maso', 'mass', 'massachusett', 'massacr', 'massiv', 'massmarket', 'massoud', 'massu', 'master', 'masteri', 'mastermind', 'masterpiec', 'mat', 'match', 'matchday', 'matchn', 'matchwin', 'matchwinn', 'mate', 'mateja', 'materi', 'materialis', 'materialist', 'matern', 'matfield', 'math', 'mathemat', 'mathew', 'mathieson', 'mathieu', 'matin', 'matiss', 'matrix', 'matrixstyl', 'matron', 'matsushita', 'matt', 'matter', 'matthew', 'mattress', 'matur', 'maulnnan', 'mauresmo', 'mauric', 'mauritius', 'mauro', 'maverick', 'max', 'maximis', 'maximum', 'may', 'mayb', 'mayfair', 'mayland', 'mayn', 'maynnnext', 'maynnth', 'mayor', 'mazi', 'mbeki', 'mbes', 'mblox', 'mbps', 'mc', 'mcallist', 'mcbryde', 'mcburney', 'mccafferti', 'mccain', 'mccall', 'mccarthi', 'mccartney', 'mccaughrean', 'mcclaren', 'mcconnel', 'mccormick', 'mccririck', 'mcdonald', 'mcdonaldnnross', 'mcenro', 'mcfadden', 'mcfli', 'mcgeadi', 'mcgee', 'mcgraw', 'mcgregor', 'mcguir', 'mci', 'mcilroy', 'mcin', 'mcintyr', 'mcis', 'mckendri', 'mcleish', 'mclennan', 'mcletchi', 'mcmanaman', 'mcmanus', 'mcmillan', 'mcnamara', 'mcname', 'mcnichola', 'mcqueen', 'mcrae', 'mda', 'mdas', 'meadow', 'meagr', 'meal', 'mean', 'meaning', 'meaningless', 'meanstest', 'meant', 'meantim', 'meanwhil', 'measur', 'measuresn', 'meat', 'mech', 'mechan', 'medal', 'medallist', 'meddl', 'media', 'mediat', 'medic', 'medicin', 'medium', 'mediums', 'meet', 'meetingsnni', 'mefin', 'megabit', 'megabyt', 'megaflop', 'megapixel', 'megastor', 'megawatt', 'megson', 'mehrten', 'mehta', 'mel', 'melancholi', 'melancholia', 'melbourn', 'melbournen', 'mellon', 'meltdown', 'melvill', 'melzer', 'member', 'membership', 'memoir', 'memor', 'memorabilia', 'memorandum', 'memori', 'memphi', 'men', 'menac', 'menatep', 'mencap', 'mend', 'menn', 'mennna', 'mennth', 'mental', 'mention', 'mentor', 'menu', 'menus', 'menzi', 'mep', 'mepsnnth', 'merced', 'mercedesbenz', 'mercer', 'merchandis', 'merchant', 'merci', 'mercuri', 'mere', 'merg', 'merger', 'merit', 'meritsn', 'merri', 'merril', 'merseysid', 'mervyn', 'meryl', 'meseret', 'mesmer', 'mesmeris', 'mess', 'messag', 'messeng', 'messi', 'met', 'metal', 'metallica', 'meteor', 'method', 'methodolog', 'meticul', 'metr', 'metroid', 'metropolitan', 'mexican', 'mexico', 'meyer', 'mg', 'mgm', 'mi', 'mi6', 'mia', 'miami', 'mice', 'michael', 'michalak', 'michel', 'michell', 'michigan', 'mick', 'micro', 'microphon', 'microsoft', 'microsystem', 'mid', 'mid1990', 'mid2005', 'mid70', 'mid90', 'midair', 'midday', 'middl', 'middleclass', 'middledist', 'middlesbrough', 'middlewar', 'midfebruari', 'midfield', 'midjun', 'midland', 'midnight', 'midnovemb', 'mido', 'midsiz', 'midst', 'midway', 'midweek', 'might', 'mighti', 'mignoni', 'migrant', 'migrat', 'miguel', 'mike', 'mikel', 'mikhail', 'mikko', 'mikoliuna', 'milan', 'milanesi', 'milanesinnpeopl', 'milburn', 'mild', 'milder', 'mile', 'mileag', 'mileston', 'milit', 'militari', 'milk', 'mill', 'millennium', 'miller', 'million', 'millionair', 'milloud', 'millwal', 'milner', 'milton', 'mimick', 'minar', 'mind', 'mindless', 'mine', 'miner', 'mini', 'miniatur', 'minibreak', 'minidisc', 'minigam', 'minim', 'minimis', 'minimum', 'miniseri', 'minist', 'ministeri', 'ministernnh', 'ministernnth', 'ministersnnin', 'ministri', 'minneapoli', 'minnow', 'minogu', 'minor', 'minus', 'minut', 'minutennhenson', 'minutesnnit', 'miracl', 'miramax', 'mirco', 'mire', 'mirnyi', 'mirren', 'mirror', 'mirza', 'misamor', 'miscarriag', 'misconcept', 'misconduct', 'misdirect', 'miser', 'miseri', 'misgiv', 'misjudg', 'misl', 'mislead', 'misplac', 'misrepres', 'misrepresent', 'miss', 'missi', 'missil', 'mission', 'mississippi', 'mistak', 'mistaken', 'mistress', 'mistrust', 'misunderstood', 'misus', 'mit', 'mitchel', 'mitig', 'mitsubishi', 'mitsui', 'mittal', 'mix', 'mixtur', 'miyazaki', 'mm', 'mmc', 'mmo2', 'mmorpg', 'mms', 'moazzam', 'mob', 'mobil', 'mobilesnnmobil', 'mobilis', 'moblog', 'mobo', 'mock', 'mockeri', 'mod', 'modafinil', 'mode', 'model', 'modelnnsinclair', 'modem', 'moder', 'modern', 'modernis', 'modest', 'modif', 'modifi', 'moet', 'moffat', 'mogul', 'moham', 'mohammad', 'mojtaba', 'molest', 'molik', 'mom', 'moment', 'momentum', 'monaco', 'monarchi', 'monday', 'mondayn', 'mondaynnth', 'monetari', 'money', 'moneyn', 'moneyspin', 'monfil', 'mongrel', 'monica', 'monicabas', 'monik', 'monitor', 'monopoli', 'monsoon', 'monster', 'mont', 'monteith', 'montenegro', 'montgomeri', 'month', 'monthlong', 'monthn', 'monthnnbut', 'monthnnfoxx', 'monthnnth', 'monthnnwhen', 'monthsn', 'monthsnnth', 'monti', 'monument', 'mood', 'moodi', 'moon', 'moor', 'moorcroft', 'moot', 'mop', 'moral', 'moran', 'moratorium', 'moren', 'morennth', 'moreno', 'morgan', 'morgannnandrew', 'morgenstern', 'mori', 'morient', 'morn', 'morningnnin', 'moroccan', 'morocco', 'morphem', 'morquendi', 'morri', 'morrison', 'morrissey', 'mortal', 'mortgag', 'moscow', 'moscownnbaik', 'moss', 'most', 'mother', 'motherboard', 'motherinlaw', 'motion', 'motiv', 'motor', 'motorbik', 'motorcycl', 'motorhead', 'motorist', 'motormouth', 'motorola', 'motto', 'mottram', 'mould', 'mouldbreak', 'mount', 'mountain', 'mourinho', 'mourinhonnth', 'mourn', 'mous', 'mouth', 'move', 'movement', 'movenna', 'movennfor', 'movennr', 'movennth', 'movi', 'moviesn', 'moxey', 'moy', 'moya', 'mozambiqu', 'mozilla', 'mp', 'mp3', 'mp3s', 'mpaa', 'mpc', 'mpeg4', 'mpnntori', 'mps', 'mpsn', 'mpsnnon', 'mpsnnthe', 'mr', 'mri', 'mrs', 'ms', 'msn', 'msp', 'msps', 'mtv', 'mtvs', 'mubanga', 'much', 'muchanticip', 'muchn', 'muchneed', 'mud', 'muddi', 'muddl', 'mueller', 'mug', 'mugger', 'muhammad', 'mukesh', 'mukherje', 'mule', 'mull', 'mullen', 'mulligan', 'multibillion', 'multichannel', 'multicultur', 'multilater', 'multimedia', 'multimillion', 'multin', 'multipl', 'multiplay', 'multipleantenna', 'multitak', 'multital', 'multitud', 'multiyear', 'mum', 'mumbai', 'munich', 'municip', 'munster', 'murder', 'murdoch', 'murki', 'murphi', 'murray', 'murrayfield', 'musampa', 'muscl', 'muse', 'museum', 'musharraf', 'mushroom', 'music', 'musician', 'musicn', 'musicnnth', 'muslim', 'must', 'mustafa', 'musthav', 'musthavennsoni', 'mutat', 'mute', 'mutini', 'mutu', 'mutual', 'mw', 'mydoom', 'myer', 'myskina', 'mysteri', 'mystifi', 'myth', 'mytholog', 'na', 'nacho', 'nadal', 'nadia', 'nail', 'nailbit', 'nairobi', 'naiv', 'nake', 'nalbandian', 'name', 'namen', 'namenneveri', 'namesak', 'namesnnth', 'nanci', 'nanni', 'nano', 'nanotechnolog', 'nao', 'naoki', 'naomi', 'napier', 'napoleon', 'napster', 'narbonn', 'naresh', 'nari', 'narrat', 'narrow', 'narrowli', 'nas', 'nasa', 'nascent', 'nasdaq', 'nasti', 'natali', 'natasha', 'nate', 'natexi', 'nath', 'nathali', 'nathan', 'nation', 'nationalis', 'nationsnnengland', 'nationsnnmr', 'nationsnnth', 'nationwid', 'nativ', 'nato', 'natur', 'naval', 'navi', 'navig', 'nazi', 'nba', 'nbc', 'nbcs', 'neal', 'near', 'nearbi', 'nearrecord', 'neat', 'neath', 'neathswansea', 'nebraska', 'nec', 'necback', 'necess', 'necessari', 'necessarili', 'neck', 'need', 'needl', 'needless', 'neeson', 'negat', 'neglect', 'neglig', 'negoti', 'negotiationsn', 'neidl', 'neighbour', 'neighbourhood', 'neil', 'neill', 'neither', 'nelli', 'nelson', 'nemo', 'nepal', 'nerv', 'nervewrack', 'nervous', 'nesbit', 'nest', 'nestor', 'net', 'netbas', 'netcraft', 'netherland', 'netherlandsbas', 'netherlandsnnth', 'netmd', 'netnnth', 'netscap', 'nettl', 'network', 'networknnth', 'networksnnhighspe', 'networksnnth', 'neuron', 'neutral', 'never', 'neverland', 'nevertheless', 'nevill', 'new', 'newcastl', 'newcom', 'newer', 'newest', 'newham', 'newli', 'newlook', 'newlyappoint', 'newlyfound', 'newport', 'newportbas', 'newportgw', 'news', 'newslett', 'newsn', 'newsnight', 'newsnnit', 'newspap', 'newton', 'next', 'nextgener', 'ngage', 'nhs', 'nhtcu', 'ni', 'nibbl', 'nice', 'nicelook', 'nich', 'nichol', 'nichola', 'nicholson', 'nick', 'nickel', 'nicki', 'nicknam', 'nicol', 'nicola', 'nicolaisen', 'nicotin', 'niebaum', 'niel', 'nielsen', 'nielsennetr', 'nielson', 'nigel', 'nigeria', 'nigerian', 'niggl', 'nighi', 'night', 'nightclub', 'nighti', 'nightmar', 'nightn', 'nike', 'nikkei', 'nikolay', 'nimbl', 'nine', 'ninemonth', 'nineti', 'nineyear', 'nintendo', 'ninth', 'nippon', 'niro', 'nirvana', 'nissan', 'nistelrooy', 'nitoglia', 'niven', 'nm', 'nme', 'nn', 'nndaylewi', 'nnit', 'nnone', 'nnthe', 'nnwhat', 'noam', 'nobl', 'nobodi', 'nod', 'noel', 'nofril', 'nogar', 'nogarnnwev', 'nois', 'noisehit', 'noisi', 'nokia', 'nolan', 'nomad', 'nomin', 'nominatednnit', 'nominationsnnth', 'nomine', 'nomura', 'nonchampion', 'noncommerci', 'noncompetit', 'noncor', 'none', 'nonenglish', 'nonetheless', 'noneu', 'nonexecut', 'nonfict', 'nongovernment', 'nononsens', 'nonpartisan', 'nonprofit', 'nonsens', 'nonstatutori', 'nontechn', 'nontradit', 'nonus', 'noon', 'nop', 'norah', 'norbert', 'norfolk', 'normal', 'norman', 'norrel', 'norri', 'nortel', 'north', 'northampton', 'northern', 'northwest', 'norton', 'norway', 'norwegian', 'norwich', 'nose', 'nosediv', 'nostalgia', 'notabl', 'notch', 'note', 'notebook', 'noteboook', 'noth', 'notic', 'notifi', 'notion', 'notn', 'notori', 'nott', 'nottingham', 'nottinghamshir', 'notwithstand', 'nou', 'nous', 'novel', 'novelist', 'novelti', 'novemb', 'novembern', 'novembernn', 'novembernnth', 'novic', 'novo', 'nowaday', 'nowher', 'nown', 'nownni', 'nownnid', 'npd', 'nt', 'ntl', 'ntt', 'nuclear', 'nude', 'nudg', 'nuditi', 'nuisanc', 'nullifi', 'number', 'numbernnmor', 'numbersn', 'numer', 'numeraci', 'nunez', 'nurs', 'nurseri', 'nurtur', 'nut', 'nutrit', 'nutter', 'nyanga', 'o2', 'oak', 'oasi', 'oaten', 'oatley', 'obe', 'obes', 'obey', 'obikwelu', 'object', 'objection', 'oblig', 'obligatori', 'obrien', 'obscen', 'obscur', 'obscuritynnverita', 'observ', 'obsess', 'obstacl', 'obstruct', 'obtain', 'obvious', 'ocallaghan', 'ocarrol', 'occas', 'occasion', 'occup', 'occupi', 'occur', 'ocean', 'oclock', 'oconnel', 'oconnor', 'octob', 'octobern', 'octobernnth', 'octobertodecemb', 'odd', 'odditi', 'ode', 'odeon', 'odpm', 'odriscol', 'odriscollnnumaga', 'ofcom', 'oferr', 'offday', 'offenc', 'offencesnnth', 'offend', 'offens', 'offer', 'offernnaustralian', 'offernnshar', 'offic', 'officenna', 'officennth', 'offici', 'officialsnnengland', 'offlin', 'offload', 'offnnal', 'offseason', 'offset', 'offshoot', 'offshor', 'offsid', 'ofheo', 'ofst', 'oft', 'often', 'og', 'ogara', 'oh', 'ohio', 'oil', 'oilfield', 'oilnnth', 'ok', 'okay', 'okelli', 'okonedo', 'old', 'older', 'oldest', 'oldfashion', 'oldham', 'oldtim', 'ole', 'oleari', 'oleg', 'oligarch', 'oliv', 'olivi', 'olli', 'olsson', 'olymp', 'olympiako', 'olympian', 'olympicsnngarden', 'olympicsnnit', 'olympicsnnkenteri', 'omar', 'ombudsman', 'omiss', 'on', 'onair', 'onboard', 'oncefam', 'oncen', 'ondemand', 'one', 'oneandahalf', 'oneclick', 'oneday', 'onefifth', 'oneil', 'oneman', 'onematch', 'onen', 'onennfor', 'oneoff', 'oneonon', 'onestop', 'onetel', 'onethird', 'onetim', 'onetwo', 'oneway', 'oneyear', 'onfield', 'ongaro', 'ongc', 'ongo', 'onlin', 'onlinennbut', 'onn', 'onnnther', 'onrush', 'onsid', 'onslaught', 'onsnnth', 'onstag', 'ontheground', 'onthespot', 'onto', 'onuoha', 'onus', 'onward', 'oona', 'opec', 'opel', 'open', 'openend', 'openn', 'opennnagassi', 'opennnkim', 'opennnth', 'opensid', 'opensourc', 'oper', 'opera', 'operatesnnaccord', 'operationsn', 'opinion', 'oppenheim', 'oppon', 'opportun', 'opportunist', 'oppos', 'opposit', 'oppositionnnbut', 'oppress', 'opsahl', 'opt', 'optic', 'opticaldisc', 'optim', 'optimis', 'optimist', 'optio', 'option', 'optout', 'oram', 'orang', 'orchestr', 'orchestra', 'ordeal', 'order', 'ordinari', 'ore', 'oreilli', 'organ', 'organis', 'orient', 'origin', 'orlando', 'orphan', 'orphanag', 'orquera', 'orwel', 'os', 'osborn', 'osbourn', 'oscar', 'oscarnomin', 'oscarsnnth', 'oscarwin', 'oshea', 'osi', 'osprey', 'ossi', 'osullivan', 'otc', 'other', 'othern', 'otherwis', 'oti', 'ought', 'oust', 'outandout', 'outbreak', 'outburst', 'outclass', 'outcom', 'outcri', 'outdat', 'outdo', 'outdoor', 'outfit', 'outgo', 'outing', 'outkast', 'outlast', 'outlaw', 'outlet', 'outlin', 'outlook', 'outmod', 'outmuscl', 'outn', 'outnn', 'outnnit', 'outnnth', 'outnumb', 'outofcompetit', 'outofform', 'outperform', 'outplay', 'outpour', 'output', 'outputnnalthough', 'outrag', 'outright', 'outsel', 'outset', 'outsid', 'outskirt', 'outsold', 'outsourc', 'outspoken', 'outstand', 'outstrip', 'outward', 'outweigh', 'ovat', 'oven', 'over', 'over55', 'over65', 'over70', 'overabrupt', 'overal', 'overarch', 'overblown', 'overcam', 'overcapac', 'overcom', 'overconfid', 'overcrowd', 'overdos', 'overdu', 'overestim', 'overh', 'overhaul', 'overhead', 'overheat', 'overlap', 'overload', 'overlook', 'overlyzeal', 'overn', 'overnight', 'overnnwith', 'overpeernnconsum', 'overplay', 'overreact', 'overreli', 'overrul', 'overrun', 'oversaw', 'overse', 'oversea', 'overseen', 'overshadow', 'overshoot', 'overshot', 'oversight', 'overspend', 'overst', 'overstep', 'oversubscrib', 'overtak', 'overtaken', 'overtook', 'overtur', 'overturn', 'overview', 'overweight', 'overwhelm', 'owe', 'owen', 'owennnr', 'own', 'ownbrand', 'owner', 'ownership', 'ownn', 'owusuabeyi', 'oxfam', 'oxford', 'oxfordshir', 'ozzi', 'p2p', 'p2ps', 'pace', 'pacemak', 'pacif', 'pack', 'packag', 'packard', 'packet', 'pacman', 'pact', 'pad', 'paddi', 'paedophil', 'page', 'pager', 'paid', 'paidfor', 'paidforpassalong', 'pain', 'painkil', 'paint', 'pair', 'pakeerah', 'pakistan', 'pakistani', 'pal', 'palac', 'palat', 'palepoi', 'palestinian', 'palm', 'palmer', 'paltri', 'pamela', 'pan', 'panagopoulo', 'panason', 'pander', 'panel', 'panelnnth', 'paneuropean', 'panic', 'paniccia', 'panick', 'pank', 'panoram', 'panorama', 'paolo', 'pap233', 'paparazzi', 'pape', 'paper', 'paperback', 'paperwork', 'par', 'parad', 'paradi', 'paradis', 'paradorn', 'parallel', 'paralys', 'paramount', 'paranoid', 'parc', 'parcel', 'parent', 'parentsnnit', 'parentsnnth', 'pari', 'pariba', 'parisbas', 'parisn', 'pariss', 'parissenng', 'parissennperugini', 'park', 'parker', 'parkinson', 'parkn', 'parknntuesday', 'parliament', 'parliamentari', 'parliamentnnth', 'parlour', 'parma', 'parmalat', 'parmar', 'parodi', 'parri', 'parrynni', 'parson', 'part', 'parti', 'partial', 'particip', 'particular', 'partiesnnth', 'partisan', 'partn', 'partner', 'partnership', 'parton', 'partridg', 'parttim', 'partynnexbbc', 'partynnmr', 'pascal', 'pasqual', 'pass', 'passag', 'passcard', 'passeng', 'passion', 'passiv', 'passport', 'password', 'past', 'pastim', 'pastnnmr', 'pat', 'patch', 'patchesnnmicrosoft', 'patchi', 'patent', 'paterson', 'path', 'pathet', 'patienc', 'patient', 'patricia', 'patrick', 'patrol', 'patronis', 'pattaya', 'pattern', 'patterson', 'patti', 'paul', 'paula', 'paulista', 'paulo', 'paus', 'pave', 'pavel', 'pavement', 'pavey', 'pavilion', 'pawel', 'pax', 'paxman', 'pay', 'payasyougo', 'payer', 'payment', 'payn', 'payoff', 'payout', 'paypal', 'paypalcom', 'payrol', 'pb100', 'pbs', 'pc', 'pcn', 'pcnnthe', 'pcs', 'pcsnnthe', 'pdas', 'pe', 'pea', 'peac', 'peak', 'pearc', 'pearl', 'pearson', 'peck', 'pedal', 'peddl', 'pedestrian', 'pedigre', 'pedrazzi', 'pedro', 'peel', 'peer', 'peerag', 'peertop', 'peg', 'pelous', 'pelt', 'pen', 'penalis', 'penalti', 'penc', 'pencil', 'pend', 'penetr', 'penfold', 'peninsula', 'penn', 'penni', 'pension', 'pensionnnh', 'pentagon', 'pentathlon', 'pentax', 'peopl', 'peoplen', 'peoplennon', 'peoplennth', 'pepito', 'pepper', 'pepsi', 'per', 'perceiv', 'percent', 'percentag', 'percept', 'perci', 'pere', 'perenni', 'perez', 'perfect', 'perform', 'performanceenhanc', 'performancen', 'performancennth', 'perhap', 'peril', 'period', 'peripher', 'perm', 'perman', 'permiss', 'permit', 'permittednnthi', 'pernici', 'perpetr', 'perpetu', 'perpignan', 'perri', 'persecut', 'persi', 'persia', 'persico', 'persist', 'person', 'persona', 'personalis', 'personnel', 'perspect', 'persuad', 'persuas', 'peru', 'perugini', 'peruvian', 'pervad', 'pervas', 'pervers', 'peso', 'pessimist', 'peston', 'pet', 'pete', 'peter', 'petit', 'petr', 'petri', 'petrina', 'petrochem', 'petrol', 'petroleum', 'petrov', 'petrova', 'petti', 'petul', 'peugeot', 'pew', 'pez', 'pfizer', 'phantom', 'pharmaceut', 'phase', 'phd', 'phenomen', 'phenomenon', 'phil', 'philadelphia', 'philharmon', 'philip', 'philipp', 'philippin', 'philippoussi', 'phillip', 'philosoph', 'philosophi', 'phish', 'phoenix', 'phone', 'phonecam', 'phonein', 'phonesnnbut', 'phonesnnth', 'phonetap', 'phoney', 'phonograph', 'photo', 'photograph', 'photon', 'photor', 'phrase', 'phuket', 'physic', 'physician', 'physio', 'phytopharm', 'pianist', 'piano', 'pick', 'picker', 'picket', 'pickup', 'pictur', 'pie', 'piec', 'piecem', 'pier', 'pierc', 'pierr', 'pieter', 'pig', 'pigeon', 'pile', 'pill', 'pilot', 'pin', 'pinchuk', 'ping', 'pink', 'pinnacl', 'pinpoint', 'pioneer', 'pip', 'pipe', 'pipelin', 'piraci', 'pirat', 'pire', 'pistol', 'pit', 'pitch', 'pitfal', 'piti', 'pitt', 'pittsburghn', 'pivot', 'pixel', 'pizza', 'pj', 'placatori', 'place', 'placement', 'placen', 'placennth', 'plagu', 'plaid', 'plain', 'plan', 'plane', 'planemak', 'planet', 'plank', 'plansn', 'plansnnplan', 'plansnnth', 'plansnntoni', 'plant', 'plasma', 'plaster', 'plastic', 'plate', 'platform', 'platoon', 'plaudit', 'plausibl', 'play', 'playabl', 'playback', 'playbacknnh', 'playednnth', 'player', 'playerboss', 'playern', 'playersn', 'playersnnth', 'playground', 'playlist', 'playmak', 'playn', 'playoff', 'playstat', 'playwright', 'plea', 'plead', 'pleas', 'pleasant', 'pleasur', 'pledg', 'plenti', 'plethora', 'pli', 'plight', 'plot', 'plough', 'ploy', 'plp', 'plug', 'plum', 'plummet', 'plump', 'plunder', 'plung', 'plus', 'plusnet', 'plymouth', 'pm', 'pmnntoni', 'png', 'poach', 'pocket', 'pocketsn', 'podcast', 'podium', 'poem', 'poet', 'poetri', 'pognon', 'point', 'pointless', 'pointnnboy', 'pointsn', 'pois', 'poison', 'poke', 'poland', 'polar', 'polaris', 'pole', 'polic', 'policennmr', 'policennth', 'polici', 'policyhold', 'policymak', 'polish', 'polit', 'politicallymotiv', 'politician', 'politiciansnnth', 'poll', 'pollard', 'pollnnnew', 'pollnnth', 'pollut', 'polygon', 'pompey', 'ponder', 'pong', 'pontiac', 'pool', 'poor', 'poorer', 'poorest', 'pop', 'pope', 'poppin', 'popul', 'populair', 'popular', 'popularis', 'popularn', 'populist', 'popup', 'porn', 'pornograph', 'pornographi', 'porsch', 'port', 'portabl', 'portal', 'porter', 'portfolio', 'portion', 'portishead', 'portland', 'portman', 'porto', 'portrait', 'portray', 'portsmouth', 'portug', 'portugues', 'pose', 'posit', 'possess', 'possibl', 'possiblen', 'possiblennth', 'post', 'postal', 'postcard', 'postchristma', 'postelect', 'poster', 'postgradu', 'posthum', 'postmatch', 'postpon', 'postquak', 'postwar', 'postworld', 'pot', 'potato', 'potenc', 'potent', 'potenti', 'potito', 'potter', 'pounc', 'pound', 'pountney', 'pour', 'poverti', 'pow', 'powder', 'powel', 'power', 'powerbook', 'powergen', 'powerhous', 'powermac', 'powernnh', 'powerpag', 'powerup', 'powi', 'pozzebon', 'ppi', 'pr', 'practic', 'practis', 'pradesh', 'pragmat', 'prais', 'pratt', 'pray', 'prayer', 'preach', 'preacher', 'preachi', 'prebudget', 'precaut', 'preced', 'prechristma', 'precinct', 'precious', 'precis', 'precondit', 'precursor', 'predat', 'predecessor', 'predetermin', 'predict', 'predomin', 'preelect', 'preelectron', 'preemin', 'preempt', 'prefer', 'preferenti', 'pregnanc', 'pregnant', 'preinstal', 'prejud', 'prejudic', 'preliminari', 'premast', 'prematch', 'prematur', 'premier', 'premierennth', 'premiership', 'premis', 'premium', 'premnnwinn', 'prenti', 'preoccup', 'preorder', 'prepaid', 'prepar', 'prepay', 'preposter', 'prequel', 'prerecord', 'prerog', 'prescott', 'prescript', 'preseason', 'preselect', 'presenc', 'present', 'presentn', 'preserv', 'preset', 'preshow', 'presid', 'presidenti', 'presley', 'press', 'pressur', 'prestig', 'prestigi', 'preston', 'presum', 'presumpt', 'pretax', 'preteen', 'pretend', 'pretrial', 'prettejohn', 'pretti', 'prettyboy', 'prevail', 'preval', 'prevent', 'preview', 'previous', 'prewar', 'prey', 'price', 'pricen', 'pricennth', 'pricesnnhowev', 'pricewaterhousecoop', 'pride', 'priest', 'primari', 'primarili', 'prime', 'primer', 'primera', 'primetim', 'primus', 'princ', 'princess', 'princip', 'principl', 'print', 'printer', 'prior', 'prioriti', 'prioritis', 'prison', 'prius', 'privaci', 'privat', 'privatis', 'privi', 'privileg', 'prix', 'prize', 'prizefight', 'prizenna', 'prizennrussian', 'prizesnnth', 'pro', 'proactiv', 'probabl', 'probat', 'probe', 'problem', 'problemat', 'procedur', 'proceed', 'process', 'processn', 'processor', 'proclaim', 'procter', 'procur', 'prod', 'prodigi', 'produc', 'product', 'productionnnth', 'productsnnth', 'prof', 'profan', 'profess', 'profession', 'professor', 'profil', 'profit', 'profitn', 'profitnnshar', 'profitsn', 'profitsnnth', 'profound', 'progam', 'program', 'programm', 'programmennmr', 'programmennth', 'programsn', 'programsnnin', 'progress', 'prohibit', 'prohunt', 'project', 'projectlo', 'projector', 'prolif', 'prolifer', 'prolong', 'promin', 'promis', 'promot', 'prompt', 'prone', 'pronounc', 'proof', 'proofofconcept', 'prop', 'propaganda', 'propagandanna', 'propel', 'propens', 'proper', 'properlyn', 'properti', 'prophet', 'propon', 'proport', 'proportion', 'propos', 'proposaln', 'proposit', 'pros', 'prosecut', 'prosecutor', 'prospect', 'prospectus', 'prosper', 'prostitut', 'protagonist', 'protect', 'proteg', 'protein', 'protest', 'protestor', 'protestsn', 'protocol', 'prototyp', 'proud', 'prove', 'proven', 'provid', 'provinc', 'provinci', 'provis', 'provision', 'provoc', 'provok', 'prowess', 'proxi', 'proxim', 'prozac', 'prso', 'prudenc', 'prudent', 'prutton', 'ps2', 'ps2on', 'ps3', 'psion', 'psp', 'psps', 'psv', 'psycholog', 'psychologist', 'psychopath', 'pub', 'public', 'publicis', 'publicist', 'publicn', 'publicnnth', 'publish', 'puerto', 'pugh', 'pull', 'pulp', 'puls', 'pulsar', 'pulsat', 'pump', 'punch', 'punctuat', 'pundit', 'punish', 'punit', 'punk', 'punt', 'punter', 'pupil', 'purchas', 'purdi', 'pure', 'purg', 'purkiss', 'purport', 'purpos', 'purs', 'pursu', 'pursuit', 'purveyor', 'push', 'put', 'putin', 'puzzl', 'pvr', 'pvrs', 'pwc', 'qa', 'qanta', 'qatar', 'qc', 'ql', 'qpr', 'qrio', 'quadrupl', 'quaid', 'quak', 'qualif', 'qualifi', 'qualit', 'qualiti', 'qualitynnthrough', 'qualm', 'quango', 'quantiti', 'quarri', 'quarter', 'quarterfin', 'quartet', 'quartz', 'quash', 'quashi', 'queen', 'quell', 'quentin', 'queri', 'quest', 'question', 'questionednnlabour', 'questionnair', 'queu', 'queue', 'quick', 'quicker', 'quickest', 'quicklynnha', 'quiet', 'quieter', 'quinci', 'quinlan', 'quinn', 'quip', 'quirki', 'quit', 'quiz', 'quizz', 'quo', 'quot', 'quota', 'qv10', 'qwerti', 'qwest', 'rabah', 'race', 'racer', 'rachel', 'racial', 'racism', 'racist', 'rack', 'racket', 'radcliff', 'radic', 'radicati', 'radio', 'radius', 'radley', 'radwan', 'rae', 'raf', 'rafa', 'rafael', 'raft', 'rag', 'rage', 'raha', 'rahman', 'rai', 'raid', 'rail', 'railway', 'raimi', 'rain', 'rainbow', 'rainer', 'raini', 'rais', 'raj', 'rajasthan', 'rake', 'ralli', 'ram', 'rambert', 'ramif', 'ramp', 'rampant', 'ran', 'ranch', 'rand', 'random', 'randt', 'rang', 'ranger', 'ranieri', 'rank', 'rankin', 'rankl', 'ransom', 'rap', 'rape', 'raphael', 'rapid', 'rapper', 'rare', 'rarer', 'rariti', 'ras', 'rascal', 'rash', 'rat', 'ratchet', 'rate', 'rateset', 'rather', 'ratif', 'ratifi', 'ratingnnth', 'ratingsnnth', 'ration', 'rato', 'rattl', 'raucous', 'raul', 'rauluni', 'raunchi', 'ravag', 'rave', 'raven', 'ravenhil', 'ravi', 'raw', 'ray', 'rayman', 'raymond', 'rayn', 'razor', 'razorlight', 'razr', 'rb', 'rbs', 'rca', 'rd', 'rea', 'reach', 'react', 'reaction', 'read', 'readabl', 'reader', 'readership', 'readi', 'readili', 'readymad', 'reaffirm', 'reagan', 'reai', 'real', 'realis', 'realism', 'realist', 'realiti', 'realiz', 'realli', 'reallif', 'reallynnxc2xa350m', 'realtim', 'realworld', 'reap', 'reapn', 'rear', 'reason', 'reasonsnnth', 'reassert', 'reassur', 'rebal', 'rebalanc', 'rebat', 'rebecca', 'rebel', 'rebellion', 'rebound', 'rebrand', 'rebuff', 'rebuild', 'rebuk', 'rebut', 'rebutt', 'recal', 'receipt', 'receiv', 'recent', 'recep', 'recept', 'recess', 'recessionnnth', 'recharg', 'recip', 'recipi', 'reckless', 'reckon', 'reclus', 'recogn', 'recognis', 'recognit', 'recommend', 'reconsid', 'reconstruct', 'record', 'recordbreak', 'recordhigh', 'recordhold', 'recordnna', 'recordsnnth', 'recount', 'recoup', 'recours', 'recov', 'recoveri', 'recoverynnth', 'recreat', 'recruit', 'rectifi', 'recycl', 'red', 'reddi', 'redempt', 'redesign', 'redevelop', 'redford', 'redirect', 'rediscov', 'redistribut', 'redknapp', 'redmayn', 'redraft', 'redress', 'redtap', 'reduc', 'reduct', 'redund', 'redwood', 'ree', 'reel', 'reelect', 'reenter', 'reev', 'ref', 'refer', 'refere', 'referendum', 'refil', 'refin', 'refineri', 'reflect', 'reflex', 'refocus', 'reform', 'reformsn', 'refrain', 'refresh', 'refug', 'refuge', 'refund', 'refurbish', 'refus', 'refut', 'regain', 'regan', 'regard', 'regardless', 'regener', 'regent', 'regga', 'regim', 'regiment', 'region', 'regist', 'registr', 'registrar', 'registri', 'regress', 'regret', 'regul', 'regular', 'regulatori', 'rehabilit', 'rehears', 'reid', 'reign', 'reignit', 'reimburs', 'rein', 'reinforc', 'reinstat', 'reinsur', 'reintroduc', 'reintroduct', 'reinvent', 'reinvest', 'reissu', 'reiter', 'reject', 'rejoin', 'relat', 'relationship', 'relaunch', 'relax', 'relay', 'releas', 'releg', 'relentless', 'relev', 'reli', 'reliabl', 'relianc', 'reliant', 'relief', 'reliev', 'religi', 'religion', 'relish', 'reliv', 'reloc', 'reluct', 'rem', 'remad', 'remain', 'remaind', 'remak', 'remark', 'remarriag', 'remedi', 'rememb', 'remi', 'remind', 'reminisc', 'remiss', 'remit', 'remitt', 'remix', 'remot', 'remov', 'renaiss', 'renam', 'renationalis', 'renault', 'render', 'rendezvousn', 'rendit', 'rene', 'reneg', 'renegad', 'renegoti', 'renew', 'renminbi', 'rennard', 'renni', 'renov', 'renown', 'rent', 'rental', 'reoffend', 'reopen', 'reorganis', 'repaid', 'repair', 'repar', 'repay', 'repeal', 'repeat', 'repertoir', 'repetit', 'replac', 'replacednnth', 'replay', 'repli', 'replic', 'report', 'reportednnit', 'reportednnth', 'reporternnlabour', 'reportnnchina', 'reportnnth', 'reportsn', 'reportsnnth', 'repossess', 'repres', 'represent', 'representativesnnth', 'repress', 'repris', 'reproduct', 'republ', 'republican', 'reput', 'request', 'requir', 'rereleas', 'rerun', 'res', 'resal', 'reschedul', 'rescu', 'research', 'researchn', 'researchnnth', 'resel', 'resembl', 'resent', 'reserv', 'reservesn', 'reservoir', 'reshap', 'reshuffl', 'resid', 'residenti', 'residu', 'resign', 'resili', 'resist', 'resold', 'resolut', 'resolv', 'resort', 'resourc', 'respect', 'respit', 'respond', 'respons', 'rest', 'restart', 'restat', 'restaur', 'restitut', 'restless', 'restor', 'restrain', 'restraint', 'restrict', 'restructur', 'result', 'resum', 'resumpt', 'resurg', 'resurrect', 'retail', 'retain', 'retali', 'retaliatori', 'retent', 'rethink', 'retir', 'retract', 'retrain', 'retreat', 'retrial', 'retriev', 'retro', 'retrospect', 'return', 'returnnnmanchest', 'reunion', 'reunit', 'reuter', 'rev', 'revalu', 'revamp', 'reveal', 'revealednnth', 'revel', 'reveng', 'revenu', 'revenuennth', 'reverend', 'revers', 'revert', 'review', 'revis', 'revisit', 'revitalis', 'reviv', 'revok', 'revolt', 'revolut', 'revolutionari', 'revolutionis', 'revolv', 'reward', 'rewind', 'rework', 'rewrit', 'rey', 'reynold', 'rfc', 'rfid', 'rhetor', 'rhian', 'rhino', 'rhode', 'rhodri', 'rhona', 'rhyme', 'rhys', 'rhythm', 'rib', 'ricardo', 'rice', 'rich', 'richard', 'richardson', 'richer', 'richest', 'richi', 'rick', 'ricki', 'rid', 'riddl', 'ride', 'rider', 'ridicul', 'rife', 'rifl', 'rift', 'rig', 'rigg', 'right', 'rightback', 'righteous', 'rightfoot', 'righthand', 'rightmov', 'rightw', 'rigid', 'rigor', 'rigour', 'riis', 'rile', 'riley', 'rinaldi', 'rinat', 'ring', 'rington', 'rio', 'riot', 'rip', 'ripe', 'ripguard', 'rise', 'risen', 'risesnnth', 'risk', 'riski', 'ritchi', 'ritesofpassag', 'rival', 'rivaldo', 'rivalri', 'river', 'riversid', 'rix', 'riyadh', 'rj', 'rks', 'road', 'roadmap', 'roadshow', 'roadsid', 'roadtrip', 'roam', 'roast', 'rob', 'robben', 'robberi', 'robbi', 'robbin', 'robert', 'roberto', 'robertson', 'robertsonn', 'robertsonnng', 'robertsonnnmurphi', 'robin', 'robinson', 'robinsonnnengland', 'robocop', 'robot', 'robredo', 'robson', 'robust', 'rocafella', 'roch', 'rochus', 'rock', 'rocker', 'rocket', 'rocki', 'rockstar', 'rod', 'roddick', 'rode', 'rodger', 'rodney', 'rodrigo', 'roger', 'rogu', 'roland', 'role', 'rolennth', 'roleplay', 'rolf', 'roll', 'rollercoast', 'rollo', 'rollout', 'roma', 'roman', 'romanc', 'romania', 'romanian', 'romant', 'rome', 'romenntri', 'romeo', 'romp', 'ron', 'ronald', 'ronaldinho', 'ronaldo', 'ronan', 'ronco', 'rong', 'ronni', 'roof', 'room', 'rooney', 'roosevelt', 'roost', 'root', 'rori', 'rose', 'rosemount', 'rosenborg', 'rosi', 'rosneft', 'ross', 'roster', 'rot', 'rotat', 'roth', 'rothschild', 'rotterdam', 'roubl', 'rougeri', 'rough', 'round', 'roundup', 'rous', 'rout', 'routin', 'roux', 'rove', 'rover', 'row', 'rowan', 'rowl', 'rownna', 'rownnth', 'rowntre', 'roy', 'royal', 'royalti', 'royc', 'rsa', 'rspca', 'rss', 'rt', 'rub', 'rubber', 'rubbish', 'ruben', 'rubi', 'rubin', 'ruck', 'ruddock', 'rude', 'rue', 'rufus', 'rugbi', 'rugbyn', 'ruin', 'rule', 'rulednnth', 'rulennth', 'ruler', 'rulesn', 'rulesnnmr', 'rulesnnth', 'rulingnnth', 'rum', 'rumbl', 'rumour', 'run', 'runaway', 'rundown', 'rung', 'runin', 'runinnnstephen', 'runn', 'runner', 'runnersup', 'runnerup', 'runup', 'runway', 'runwaynnpet', 'rupe', 'rupert', 'rupiah', 'rural', 'rusedski', 'rush', 'russel', 'russia', 'russian', 'ruth', 'ruud', 'rwanda', 'rwandan', 'ryan', 'ryanair', 'ryman', 'saab', 'sabbath', 'sach', 'sacha', 'sack', 'sacrific', 'sad', 'saddam', 'sadden', 'safari', 'safe', 'safeguard', 'safer', 'safest', 'safeti', 'safin', 'sag', 'saga', 'sage', 'saha', 'sahara', 'saic', 'said', 'saidn', 'saidnna', 'saidnnan', 'saidnnanalyst', 'saidnnand', 'saidnnbritain', 'saidnnbut', 'saidnneveryth', 'saidnnh', 'saidnnhi', 'saidnnhowev', 'saidnni', 'saidnnin', 'saidnnit', 'saidnnlord', 'saidnnm', 'saidnnmr', 'saidnnon', 'saidnnpatricia', 'saidnnth', 'saidnnthat', 'saidnnthey', 'saidnnthi', 'saidnnw', 'saidnnwhat', 'saidnnwhen', 'sail', 'sailor', 'sainsburi', 'saint', 'sake', 'sakhalin', 'sal', 'salam', 'salari', 'sale', 'saleeng', 'salen', 'salennsal', 'salennth', 'salesnna', 'salesnnal', 'salesnnsoni', 'salesnnth', 'salli', 'salmond', 'saloon', 'salut', 'salvador', 'salvag', 'salvat', 'salvo', 'sam', 'samantha', 'saminejad', 'samoa', 'sampl', 'sampra', 'samsung', 'samuel', 'san', 'sanction', 'sand', 'sander', 'sanderson', 'sandi', 'sandino', 'sandra', 'sang', 'sanguin', 'sania', 'sanit', 'sank', 'santa', 'santand', 'santini', 'santo', 'santoro', 'sao', 'sap', 'sapporo', 'sar', 'sara', 'saracen', 'sarah', 'sarbanesoxley', 'sarcast', 'sarkozi', 'sat', 'satellit', 'satisfact', 'satisfactori', 'satisfi', 'satur', 'saturday', 'saturdayn', 'saturdaynnh', 'saturdaynnth', 'saudi', 'saul', 'saulnier', 'saunder', 'savag', 'savant', 'save', 'savour', 'savoy', 'savvi', 'saw', 'sawyer', 'say', 'sayingn', 'saynnth', 'saysnna', 'saysnnin', 'saysnnit', 'saysnnmor', 'saysnnmr', 'saysnnth', 'sbc', 'sbcs', 'scale', 'scalp', 'scam', 'scammer', 'scamper', 'scan', 'scandal', 'scandinavian', 'scanner', 'scant', 'scar', 'scarc', 'scare', 'scari', 'scarlet', 'scarlett', 'scath', 'scatter', 'scenario', 'scene', 'scent', 'sceptic', 'schalk', 'schedul', 'scheme', 'schemennthey', 'schiavon', 'schizophren', 'schnyder', 'scholarship', 'schole', 'scholl', 'school', 'schoolboy', 'schoolchildren', 'schoolgirl', 'schroeder', 'schuettler', 'schumach', 'schwartz', 'schwarzenegg', 'schwepp', 'schwimmer', 'scienc', 'scientif', 'scientist', 'scifi', 'scintil', 'scissor', 'sclerosi', 'scoop', 'scoot', 'scooter', 'scope', 'scorch', 'score', 'scorelin', 'scorer', 'scoresheet', 'scorses', 'scot', 'scotch', 'scotland', 'scotlandnnfr', 'scott', 'scottish', 'scour', 'scout', 'scrag', 'scrambl', 'scrambler', 'scrap', 'scrappednnth', 'scrappi', 'scratch', 'scream', 'screen', 'screennnth', 'screenplay', 'screensav', 'screenwrit', 'script', 'scroll', 'scrub', 'scrum', 'scrumhalf', 'scrummag', 'scrutini', 'scrutinis', 'scrutinynnth', 'scuf', 'sculptur', 'scupper', 'sd', 'se', 'sea', 'seagat', 'seagrav', 'seal', 'seamless', 'sean', 'sear', 'search', 'searcher', 'searchnnmicrosoft', 'seasid', 'season', 'seasonallyadjust', 'seasonend', 'seasonn', 'seasonnnwhen', 'seat', 'seatsnnlabour', 'seattl', 'seawat', 'sebastian', 'sebastien', 'sec', 'secc', 'secnnth', 'second', 'secondari', 'secondbiggest', 'secondhalf', 'secondlargest', 'secondplac', 'secondsnnth', 'secondstr', 'secreci', 'secret', 'secretari', 'section', 'sector', 'sectorn', 'secular', 'secur', 'securitiesn', 'sedan', 'sedgefield', 'see', 'seed', 'seek', 'seeker', 'seem', 'seen', 'sega', 'segment', 'segreg', 'seifert', 'seismic', 'seiz', 'seizur', 'seldom', 'sele', 'select', 'selector', 'self', 'selfbelief', 'selfcontain', 'selfdiagnosi', 'selfexpress', 'selfish', 'selfsustain', 'selftitl', 'selima', 'sell', 'seller', 'selloff', 'sellout', 'semi', 'semiconductor', 'semifict', 'semifin', 'semifinalist', 'semin', 'seminar', 'senat', 'send', 'sender', 'sendero', 'sendingoff', 'sendo', 'seng', 'senior', 'sens', 'sensat', 'sensibl', 'sensit', 'sensor', 'sent', 'sentenc', 'sentiment', 'sepa', 'separ', 'septemb', 'septembern', 'septembernnth', 'sequel', 'sequenc', 'serbia', 'seren', 'serena', 'serendip', 'serg', 'sergeant', 'sergei', 'sergio', 'seri', 'serial', 'serialis', 'seriesn', 'seriesnncomedi', 'serious', 'serna', 'serv', 'servant', 'servat', 'server', 'servic', 'servicen', 'servicennh', 'servicennth', 'servicesn', 'servicesnnin', 'servicesnnth', 'servicesnnthat', 'serwotka', 'session', 'set', 'setback', 'seth', 'setpiec', 'settl', 'settlement', 'settop', 'setup', 'sevasti', 'seven', 'sevenmonth', 'seventh', 'seventhseed', 'seventi', 'sevenyear', 'sever', 'sevill', 'sevillennmoya', 'sex', 'sexi', 'sexier', 'sexism', 'sextant', 'sexual', 'seychell', 'sfa', 'sfar', 'sg', 'sgc', 'shabbi', 'shade', 'shadjareh', 'shadow', 'shadowcrew', 'shahe', 'shailendra', 'shake', 'shaken', 'shakespear', 'shakeup', 'shakur', 'shall', 'shallow', 'shambl', 'shame', 'shameless', 'shami', 'shane', 'shanghai', 'shankar', 'shanklin', 'shannon', 'shape', 'sharapova', 'share', 'sharehold', 'sharesn', 'sharesnnshar', 'shark', 'sharon', 'sharp', 'sharpen', 'sharper', 'sharpli', 'shatter', 'shatwan', 'shaun', 'shave', 'shaw', 'shawn', 'sheahan', 'shearer', 'shed', 'sheep', 'sheer', 'sheet', 'sheffield', 'sheila', 'shelf', 'shell', 'shelter', 'shelv', 'shepherd', 'sheppey', 'sheridan', 'sheriff', 'sherlock', 'sherwood', 'shes', 'shevchenko', 'shi', 'shield', 'shift', 'shine', 'shini', 'shinobu', 'ship', 'shipment', 'shirk', 'shirley', 'shirt', 'shiver', 'shochiku', 'shock', 'shockwav', 'shoe', 'shola', 'shone', 'shook', 'shoot', 'shootemup', 'shooter', 'shop', 'shopfront', 'shopper', 'shore', 'short', 'shortag', 'shortcom', 'shorten', 'shorter', 'shortfal', 'shortlist', 'shortliv', 'shortrang', 'shortterm', 'shot', 'shoulder', 'shouldnt', 'shout', 'shove', 'show', 'showbiz', 'showbusi', 'showcas', 'showdown', 'shower', 'shown', 'shownnnth', 'shownnsing', 'shownnth', 'showpiec', 'showsnnth', 'shrank', 'shrek', 'shrewd', 'shrewsburi', 'shrine', 'shrink', 'shropshir', 'shrug', 'shrunk', 'shudder', 'shuffl', 'shun', 'shut', 'shuttl', 'shylock', 'siac', 'siberia', 'sibierski', 'sibl', 'sibneft', 'sick', 'side', 'sidefoot', 'sidelin', 'siden', 'sidestep', 'sideway', 'sidney', 'sidoli', 'sieg', 'siemen', 'siemensn', 'sierra', 'sigarchi', 'sigh', 'sight', 'sign', 'signal', 'signatur', 'signific', 'significantlyimprov', 'silenc', 'silent', 'silicon', 'silk', 'silli', 'silva', 'silver', 'silvern', 'silverwar', 'silvestr', 'silvia', 'silvio', 'sim', 'similar', 'simmon', 'simon', 'simonetti', 'simpl', 'simpler', 'simplest', 'simpli', 'simplifi', 'simpson', 'simpsondaniel', 'simul', 'simultan', 'sin', 'sinatra', 'sinbin', 'sinc', 'sincer', 'sinclair', 'sing', 'singapor', 'singaporebas', 'singaporelist', 'singer', 'singersongwrit', 'singh', 'singl', 'singlehand', 'singlesnnag', 'sinist', 'sink', 'sinner', 'sion', 'sir', 'sister', 'sit', 'sitcom', 'site', 'sitennth', 'sitesnnth', 'sititi', 'situat', 'six', 'sixmonth', 'sixth', 'sixthform', 'sixtri', 'sixweek', 'sixyard', 'sixyear', 'sixyearold', 'size', 'sizeabl', 'sizzla', 'sk', 'skateboard', 'skeleton', 'sketch', 'ski', 'skil', 'skill', 'skin', 'skinner', 'skip', 'skipper', 'skirmish', 'skirt', 'skull', 'sky', 'skyhigh', 'skype', 'skyscrap', 'skywalk', 'slack', 'slam', 'slamwin', 'slang', 'slap', 'slash', 'slate', 'slater', 'slaughter', 'slave', 'sleaford', 'sleek', 'sleep', 'sleeper', 'sleepwalk', 'slender', 'slew', 'sli', 'slice', 'slick', 'slid', 'slide', 'slidennth', 'slight', 'slightest', 'slim', 'slimlin', 'slimmer', 'slinkier', 'slip', 'slogan', 'sloppi', 'slot', 'slough', 'slovakia', 'slovakian', 'slovenia', 'slow', 'slowdown', 'slower', 'slowest', 'slowli', 'slug', 'sluggish', 'slum', 'slump', 'smack', 'small', 'smallbudget', 'smaller', 'smallest', 'smallpox', 'smallscal', 'smart', 'smartcard', 'smarter', 'smartphon', 'smash', 'smashnova', 'smatter', 'smear', 'smell', 'smertin', 'smile', 'smiley', 'smit', 'smith', 'smithn', 'smoke', 'smoker', 'smooth', 'smother', 'sms', 'smuggl', 'smuggler', 'snack', 'snaffl', 'snake', 'snap', 'snapshot', 'snatch', 'sneak', 'snicket', 'snif', 'snipe', 'snoop', 'snow', 'snowbal', 'snowfal', 'snp', 'snub', 'soandso', 'soap', 'soar', 'socal', 'soccer', 'sociabl', 'social', 'socialist', 'sociedad', 'societ', 'societi', 'societynnth', 'sock', 'sofa', 'sofia', 'soft', 'soften', 'softer', 'softwar', 'softwarennth', 'soil', 'sol', 'solano', 'solari', 'sold', 'soldier', 'soldout', 'sole', 'solicit', 'solicitor', 'solid', 'solidar', 'solitari', 'solo', 'solskjaer', 'solut', 'solv', 'solvent', 'somebodi', 'someday', 'somehow', 'someon', 'somerset', 'someth', 'sometim', 'somewhat', 'somewher', 'somewheren', 'son', 'song', 'songbook', 'songwrit', 'soni', 'soninlaw', 'sonni', 'sonnin', 'sontaya', 'sonybmg', 'sonyericsson', 'soon', 'sooner', 'sophi', 'sophist', 'sopho', 'soprano', 'sore', 'soro', 'sorrel', 'sorri', 'sorrow', 'sort', 'sotherton', 'sought', 'soul', 'soulsing', 'sound', 'soundtrack', 'souness', 'soup', 'sour', 'sourc', 'south', 'southampton', 'southan', 'southcorp', 'southeast', 'southern', 'southwel', 'southwest', 'sovereign', 'sovereignti', 'soviet', 'sowdentaylor', 'sp', 'sp2', 'space', 'spacennhenson', 'spacey', 'spade', 'spadea', 'spain', 'spall', 'spam', 'spamhaus', 'spammer', 'spamnnth', 'span', 'spaniard', 'spanish', 'spanishlanguag', 'spar', 'spare', 'spark', 'sparkl', 'spat', 'spate', 'spawn', 'speaight', 'speak', 'speaker', 'speakerboxxxth', 'spear', 'spearhead', 'special', 'specialis', 'specialist', 'speciallydesign', 'specif', 'specifi', 'specimen', 'spectacl', 'spectacular', 'spectat', 'spector', 'spectrum', 'specul', 'speech', 'speechn', 'speechnnth', 'speed', 'speedi', 'spell', 'spelman', 'spencer', 'spend', 'spendingnnmr', 'spendingnnth', 'spent', 'spi', 'spice', 'spicejet', 'spider', 'spiderman', 'spidey', 'spielberg', 'spike', 'spiki', 'spill', 'spin', 'spinal', 'spine', 'spinoff', 'spiral', 'spirit', 'spiritu', 'spit', 'spite', 'spitzer', 'splash', 'splatter', 'splinter', 'split', 'spoil', 'spoilt', 'spoke', 'spoken', 'spokesman', 'spokesmann', 'spokesperson', 'spokeswoman', 'spongebob', 'sponsor', 'sponsorship', 'spontan', 'spoof', 'spook', 'spoon', 'sport', 'sportsman', 'sportsweek', 'spot', 'spotkick', 'spotless', 'spotlight', 'spous', 'sprain', 'sprawl', 'spray', 'spread', 'spree', 'sprem', 'spring', 'springboard', 'springbok', 'springer', 'springsteen', 'sprint', 'sprinter', 'spun', 'spur', 'spurlock', 'spurn', 'spurt', 'sputter', 'spybot', 'spywar', 'spywarennth', 'squabbl', 'squad', 'squander', 'squar', 'squarep', 'squash', 'squeez', 'sri', 'srichaphan', 'st', 'stab', 'stabil', 'stabilis', 'stabl', 'stablen', 'stack', 'stade', 'stadium', 'stadiumn', 'stadiumnnand', 'stadiumnnth', 'staff', 'staffn', 'staffordshiren', 'stage', 'stagemanag', 'stagen', 'stagger', 'stagnant', 'stagnat', 'staid', 'stain', 'stair', 'stairway', 'stake', 'stakehold', 'staken', 'stalem', 'stalin', 'stalk', 'stalker', 'stall', 'stallon', 'stalwart', 'stamford', 'stamp', 'stan', 'stanc', 'stand', 'standalon', 'standard', 'standardsnnbut', 'standbi', 'standin', 'standoff', 'standout', 'standpoint', 'standstil', 'standup', 'stanford', 'stanley', 'stanst', 'stapl', 'star', 'starac', 'starbuck', 'stare', 'stark', 'starsnnbritish', 'start', 'startac', 'starter', 'startl', 'startup', 'stat', 'state', 'statecontrol', 'statement', 'statementn', 'statementnnit', 'staten', 'statennth', 'stateown', 'staterun', 'statesn', 'static', 'station', 'statist', 'statu', 'statuett', 'statur', 'status', 'statut', 'statutori', 'staunch', 'staunton', 'stave', 'stay', 'staynnpeertop', 'stead', 'steadfast', 'steadi', 'steadili', 'steal', 'stealth', 'steam', 'steami', 'steel', 'steep', 'steer', 'stefan', 'stefani', 'stelio', 'stella', 'stellar', 'stem', 'step', 'stephen', 'stephenson', 'stereo', 'stereotyp', 'sterl', 'stern', 'steroid', 'steve', 'steven', 'stevi', 'stewardship', 'stewart', 'stick', 'stiff', 'stiffen', 'stifl', 'stilian', 'still', 'stiller', 'stilt', 'stimul', 'sting', 'stink', 'stint', 'stipul', 'stir', 'stitch', 'stock', 'stockbrok', 'stockholm', 'stockmarket', 'stockpil', 'stoddart', 'stoica', 'stoke', 'stoker', 'stole', 'stolen', 'stomach', 'stomp', 'stone', 'stood', 'stool', 'stop', 'stoppag', 'stopper', 'storag', 'store', 'stori', 'storm', 'stormi', 'storylin', 'stosur', 'stout', 'strachan', 'stradey', 'strafe', 'straight', 'straightforward', 'straightnnmr', 'straighttalk', 'strain', 'strand', 'strang', 'stranger', 'strangest', 'stranglehold', 'strateg', 'strategi', 'strategist', 'strathclyd', 'stratocast', 'straw', 'stray', 'streak', 'stream', 'streamcast', 'streamlin', 'streep', 'street', 'streetport', 'streetsnnth', 'streisand', 'strength', 'strengthen', 'strengthenednndvd', 'stress', 'stretch', 'strict', 'stricter', 'stride', 'strider', 'strife', 'strike', 'striker', 'string', 'stringent', 'stringer', 'stringfellow', 'strip', 'stripe', 'strive', 'stroke', 'strokennth', 'stroll', 'strong', 'stronger', 'strongest', 'stronghold', 'struck', 'structur', 'struggl', 'struggler', 'stuart', 'stubb', 'stubborn', 'stuck', 'student', 'studi', 'studio', 'studion', 'stuf', 'stuff', 'stumbl', 'stun', 'stunt', 'stupid', 'sturgeon', 'sturrock', 'stutter', 'stuttgart', 'style', 'stylus', 'su', 'sub', 'subcontractor', 'subdu', 'subir', 'subject', 'sublim', 'sublimin', 'submarin', 'submiss', 'submit', 'subsaharan', 'subscrib', 'subscript', 'subsequ', 'subset', 'subsid', 'subsidi', 'subsidiari', 'subsidiarynnth', 'subsidis', 'substanc', 'substandard', 'substanti', 'substitut', 'subsum', 'subtl', 'subtleti', 'suburb', 'suburban', 'succeed', 'succeednnth', 'success', 'successor', 'succumb', 'suck', 'sudan', 'sudanes', 'sudden', 'sue', 'suez', 'suffer', 'suffici', 'suffix', 'suffolk', 'sugar', 'suggest', 'suggestionsnnth', 'suggestsnna', 'suggestsnninstead', 'suggestsnnjust', 'sugiyama', 'suicid', 'suiciden', 'suiss', 'suit', 'suitabl', 'suitnnth', 'suitor', 'sullivan', 'sum', 'sumitomo', 'summari', 'summer', 'summern', 'summernnth', 'summit', 'summon', 'sun', 'sundanc', 'sunday', 'sundayn', 'sundaynnth', 'sunderland', 'sung', 'sunk', 'sunn', 'sunset', 'sunshin', 'super', 'superb', 'superbl', 'supercasino', 'supercomput', 'superfast', 'superfici', 'superhero', 'superintend', 'superior', 'superjumbo', 'superman', 'supermarket', 'supermodel', 'supernatur', 'superrich', 'supers', 'superstar', 'supervisori', 'supplement', 'suppli', 'supplier', 'support', 'supportn', 'suppos', 'suppress', 'suprem', 'supremaci', 'supremacynngam', 'supremo', 'suprnova', 'suprnovaorg', 'sure', 'surf', 'surfac', 'surfer', 'surfersnnth', 'surg', 'surgeon', 'surgeri', 'surgeriesnnannounc', 'surpass', 'surplus', 'surpris', 'surreal', 'surrend', 'surreptiti', 'surrey', 'surround', 'surveil', 'survey', 'surviv', 'survivor', 'susan', 'susanna', 'suscept', 'suspect', 'suspend', 'suspens', 'suspici', 'suspicion', 'sussex', 'sustain', 'sutherland', 'sutton', 'suv', 'suzuki', 'sv', 'svengoran', 'svetlana', 'swagger', 'swallow', 'swamp', 'swan', 'swank', 'swansea', 'swap', 'swarm', 'swastika', 'swath', 'swaziland', 'swear', 'swede', 'sweden', 'swedenn', 'swedish', 'sweeney', 'sweep', 'sweet', 'sweeten', 'sweetnatur', 'swell', 'swept', 'swift', 'swim', 'swindon', 'swing', 'swipe', 'swiss', 'switch', 'switzerland', 'swivel', 'swoop', 'swoosh', 'sword', 'sworn', 'swung', 'sybari', 'sydney', 'syke', 'sylvain', 'sylvest', 'sylvia', 'symantec', 'symbian', 'symbol', 'symbolis', 'symmon', 'sympathet', 'sympathi', 'sympathis', 'symphoni', 'symptom', 'sync', 'syndic', 'synergi', 'synonym', 'synthesis', 'syria', 'system', 'systemat', 'systemn', 'systemnnmr', 'tab', 'tabl', 'tablennth', 'tablet', 'tabloid', 'tacit', 'tack', 'tackl', 'tactic', 'tag', 'tagsnnconsum', 'tailor', 'taint', 'taipei', 'tait', 'taiwan', 'takashi', 'take', 'takeaway', 'taken', 'takenaka', 'takeoff', 'takeov', 'takeovern', 'takeup', 'talal', 'talbot', 'tale', 'talent', 'talisman', 'talk', 'talknnshar', 'talksnnth', 'tall', 'talli', 'tama', 'tamagotchi', 'tambourin', 'tame', 'tamil', 'tampa', 'tamper', 'tan', 'tandem', 'tandi', 'tank', 'tankan', 'tanker', 'tanzania', 'tap', 'tape', 'tapwav', 'taran', 'tarantino', 'target', 'targetsn', 'tariff', 'tartan', 'task', 'tast', 'tata', 'tate', 'tatiana', 'tattoo', 'taught', 'taukafa', 'taunt', 'tautou', 'tav', 'tax', 'taxat', 'taxesnnin', 'taxfre', 'taxi', 'taxn', 'taxnnth', 'taxpay', 'taylor', 'tb', 'tci', 'tcis', 'tea', 'teach', 'teacher', 'team', 'teammat', 'teamn', 'teamnnth', 'teamsn', 'teamsnnth', 'teamwork', 'tear', 'tech', 'techfest', 'technic', 'technician', 'techniqu', 'technolog', 'technologydomin', 'technologyn', 'technologynna', 'technophob', 'technorati', 'techsavvi', 'ted', 'teddi', 'tedious', 'teen', 'teenag', 'teeter', 'teeth', 'tehran', 'tel', 'telco', 'telecast', 'telecom', 'telecommun', 'telegraph', 'telekom', 'telephon', 'telephoni', 'televis', 'telewest', 'tell', 'temper', 'temperament', 'temperatur', 'templ', 'templat', 'tempo', 'temporari', 'temporarili', 'tempt', 'temptat', 'ten', 'tend', 'tendenc', 'tender', 'tendon', 'tenfold', 'tennesse', 'tenni', 'tens', 'tension', 'tent', 'tenth', 'tenur', 'teraflop', 'term', 'termin', 'termsn', 'terrestri', 'terri', 'terribl', 'terrif', 'terrifi', 'territori', 'territorynnth', 'terror', 'terroris', 'terrorist', 'tesco', 'tess', 'tessa', 'test', 'testament', 'testifi', 'testimoni', 'testsnnth', 'tetri', 'texa', 'texasbas', 'text', 'textbas', 'textbook', 'textil', 'textual', 'textur', 'thabo', 'thai', 'thailand', 'thaksin', 'thame', 'thank', 'thanksgiv', 'thanou', 'that', 'thatcher', 'thatn', 'thatnna', 'thatnnbut', 'thatnni', 'thatnnm', 'thatnnth', 'thatnnther', 'thatnnw', 'thayer', 'theatr', 'theatric', 'theed', 'theft', 'theme', 'themn', 'themnnin', 'themnnth', 'theo', 'theodor', 'theoret', 'theori', 'therapi', 'there', 'therebi', 'therefor', 'theren', 'therennth', 'theresa', 'thermal', 'theron', 'theyd', 'theyll', 'theyr', 'theyv', 'thg', 'thie', 'thierri', 'thiev', 'thigh', 'thin', 'thing', 'think', 'thinktank', 'thinktanknnth', 'thinner', 'thion', 'third', 'thirdbiggest', 'thirdgener', 'thirdlargest', 'thirdn', 'thirdparti', 'thirdquart', 'thirdround', 'thirdset', 'thirst', 'thirti', 'thisn', 'thoma', 'thompson', 'thompsonnnif', 'thomson', 'thorn', 'thorni', 'thornton', 'thorough', 'thorp', 'though', 'thought', 'thousand', 'thrash', 'threat', 'threaten', 'threatnnth', 'threatsn', 'three', 'threeday', 'threehour', 'threejudg', 'threemonth', 'threen', 'threeparti', 'threequart', 'threetest', 'threetim', 'threeweek', 'threeyear', 'threshold', 'threw', 'thrill', 'thriller', 'thrive', 'throat', 'throne', 'throughn', 'throughout', 'throughoutnnd', 'throughput', 'throw', 'thrown', 'thrust', 'thumb', 'thumbsuck', 'thump', 'thunder', 'thunderbird', 'thursday', 'thursdayn', 'thursdaynnmr', 'thursdaynnth', 'thurso', 'thus', 'thwart', 'thx', 'tiago', 'tiananmen', 'tick', 'ticket', 'ticketsnngangsterthem', 'tidal', 'tide', 'tie', 'tiebreak', 'tiein', 'tier', 'tieup', 'tiger', 'tight', 'tighten', 'tighter', 'tightest', 'tighthead', 'till', 'tim', 'timberlak', 'time', 'timeconsum', 'timehonour', 'timeless', 'timen', 'timenna', 'timennbut', 'timennfor', 'timennhowev', 'timennit', 'timennon', 'timennps', 'timennth', 'timescal', 'timeshift', 'timesnnth', 'timet', 'timothi', 'tin', 'tina', 'tindal', 'tini', 'tinker', 'tinni', 'tip', 'tire', 'tireless', 'tiresom', 'tirunesh', 'tiscali', 'tissu', 'titan', 'titanium', 'titfortat', 'titi', 'titl', 'titlen', 'titterrel', 'tivo', 'tmobil', 'tnkbp', 'tobacco', 'tobago', 'tobi', 'tod', 'today', 'todd', 'toe', 'togeth', 'toho', 'toilet', 'tokyo', 'told', 'toldnnth', 'toler', 'tolkien', 'toll', 'tom', 'toma', 'tomlinson', 'tommi', 'tomorrow', 'ton', 'tone', 'tonga', 'tongu', 'toni', 'tonight', 'tonn', 'took', 'tool', 'toolbar', 'toolkit', 'toolnnth', 'toon', 'toonnth', 'tooth', 'tootwe', 'top', 'top10', 'topclass', 'topdown', 'topfiv', 'topic', 'topnnhow', 'toppl', 'topqual', 'topsel', 'topsi', 'topup', 'tore', 'toren', 'tori', 'toriesnnshadow', 'torn', 'toronto', 'torrent', 'torrenti', 'torrid', 'tortur', 'toshack', 'toshiba', 'toshihiko', 'toss', 'total', 'totalitarian', 'totalnnth', 'tote', 'tottenham', 'touch', 'touchdown', 'touchlin', 'touchnnanoth', 'touchnnwal', 'touchyfe', 'tough', 'toughen', 'tougher', 'toughest', 'toughn', 'toulous', 'toulousain', 'tour', 'tourism', 'tourist', 'tourn', 'tournament', 'tournamentn', 'tournnbut', 'tournnth', 'tout', 'toward', 'towel', 'tower', 'town', 'townsend', 'township', 'toxic', 'toy', 'toyota', 'toyotannth', 'tps', 'trace', 'tracey', 'track', 'trackbal', 'tracker', 'trackpad', 'tract', 'trade', 'trademark', 'traden', 'tradennth', 'trader', 'tradit', 'trafalgar', 'traffic', 'traffick', 'trafford', 'tragedi', 'tragic', 'trail', 'trailblaz', 'trailer', 'traill', 'train', 'trainer', 'trait', 'transact', 'transatlant', 'transcript', 'transfer', 'transform', 'transistor', 'transit', 'translat', 'transmiss', 'transmit', 'transmitt', 'transpar', 'transplant', 'transport', 'traor', 'trap', 'trauma', 'traumat', 'travel', 'traver', 'travesti', 'travi', 'trawl', 'treadmil', 'treasur', 'treasuri', 'treat', 'treati', 'treatment', 'treatmentnnth', 'tree', 'trek', 'tremend', 'tremor', 'trend', 'trevor', 'tri', 'trial', 'triall', 'trialnnth', 'tribe', 'tribun', 'tribut', 'trick', 'trickeri', 'tricki', 'trickl', 'trident', 'trigger', 'trillion', 'trilog', 'trim', 'trinat', 'trinidad', 'triniti', 'trio', 'trip', 'tripl', 'tripnnmarcel', 'tripnnth', 'triumph', 'triumphant', 'trivialis', 'troeber', 'troika', 'trojan', 'troncon', 'troop', 'trophi', 'trotter', 'troubl', 'troublemak', 'troublennth', 'troubleshoot', 'trough', 'trounc', 'troup', 'trouper', 'trouser', 'trowbridg', 'troy', 'truanci', 'truant', 'truce', 'truck', 'true', 'truli', 'trump', 'trumpet', 'trust', 'truth', 'tryscor', 'tshirt', 'tsumani', 'tsunami', 'tsunamiaffect', 'tsunamihit', 'tsunaminnth', 'tsunamirel', 'tu', 'tube', 'tuberculosi', 'tuc', 'tuck', 'tucker', 'tudor', 'tuesday', 'tuesdayn', 'tuesdaynnth', 'tuition', 'tulip', 'tumbl', 'tune', 'tuner', 'tunisia', 'tunisian', 'tunnel', 'tupac', 'turbo', 'turbul', 'turf', 'turin', 'turk', 'turkcel', 'turkey', 'turkish', 'turkmenistan', 'turmoil', 'turn', 'turnaround', 'turnbul', 'turner', 'turnout', 'turnov', 'turvi', 'tussl', 'tutsi', 'tv', 'tveter', 'tvnnhe', 'tvnnthe', 'tvondemand', 'tvqualiti', 'tvs', 'tvsnnthe', 'tweak', 'twelv', 'twenti', 'twentieth', 'twice', 'twicetaken', 'twickenham', 'twin', 'twinengin', 'twist', 'twitch', 'two', 'twoandahalf', 'twoday', 'twodisc', 'twogoal', 'twohand', 'twohors', 'twohour', 'twoleg', 'twon', 'twonnit', 'twonnth', 'twos', 'twoscreen', 'twothird', 'twotim', 'twoyear', 'tycoon', 'tyke', 'tyler', 'tymoshenko', 'tynecastl', 'tynesid', 'type', 'typic', 'tyranni', 'tzeko', 'u2', 'ub', 'ubiquit', 'ubisoft', 'ucarmen', 'uefa', 'ufj', 'uganda', 'ugli', 'uk', 'uka', 'ukbas', 'ukif', 'ukip', 'ukn', 'uknnmr', 'uknnth', 'ukrain', 'ukrainian', 'ulrich', 'ulster', 'ultim', 'ultra', 'umaga', 'umbrella', 'umd', 'umpir', 'un', 'unab', 'unabl', 'unaccept', 'unacceptablennunison', 'unaccount', 'unaffect', 'unaid', 'unanim', 'unannounc', 'unansw', 'unassail', 'unauthoris', 'unavail', 'unavoid', 'unawar', 'unbeat', 'unbeaten', 'unbecom', 'unbeliev', 'unbias', 'unblight', 'unbundl', 'uncap', 'uncertain', 'uncertainnnso', 'uncertainti', 'unchang', 'unchart', 'uncheck', 'uncl', 'unclear', 'uncomfort', 'uncompromis', 'uncondit', 'uncontrol', 'uncoop', 'uncost', 'uncov', 'undecid', 'undemocrat', 'undeni', 'under', 'under18', 'under21', 'underachiev', 'underag', 'undercov', 'underdevelop', 'underdog', 'underestim', 'underexposur', 'underf', 'underfund', 'undergo', 'undergon', 'underground', 'underhand', 'underlin', 'undermin', 'underneath', 'underperform', 'underpin', 'underrepres', 'underscor', 'undersecretari', 'underst', 'understand', 'understood', 'understudi', 'undertak', 'undertaken', 'underus', 'undervalu', 'underw', 'underwat', 'underway', 'underwrit', 'undetect', 'undisclos', 'undo', 'undoubt', 'unearth', 'unedit', 'unemploy', 'unenforc', 'unequivoc', 'unexpect', 'unfair', 'unfavour', 'unfeas', 'unfinish', 'unflapp', 'unfold', 'unforc', 'unforgiven', 'unfortun', 'unfound', 'unfriend', 'unguard', 'unhappi', 'unhealthi', 'unherald', 'unicef', 'unicod', 'unidentifi', 'unifi', 'uniform', 'unilater', 'unilev', 'unimagin', 'uninform', 'uninspir', 'unintent', 'union', 'uniqu', 'unison', 'unit', 'unitednnth', 'uniti', 'unitn', 'univers', 'unjustifi', 'unknown', 'unlaw', 'unleash', 'unless', 'unlik', 'unlimit', 'unlock', 'unlucki', 'unmark', 'unmatch', 'unmiss', 'unmistak', 'unnam', 'unnecessari', 'unnecessarili', 'unnot', 'unoffici', 'unpaid', 'unpatch', 'unplay', 'unpleas', 'unplug', 'unpopular', 'unpreced', 'unpredict', 'unprofit', 'unprotect', 'unprovok', 'unravel', 'unrealist', 'unreason', 'unrel', 'unreleas', 'unremit', 'unrepent', 'unrest', 'unrevis', 'unruli', 'unsatisfactori', 'unscrupul', 'unseason', 'unseat', 'unsecur', 'unseed', 'unsettl', 'unsign', 'unskil', 'unsolicit', 'unspecifi', 'unstopp', 'unsubstanti', 'unsuccess', 'unsuit', 'unsung', 'unsur', 'unsustain', 'untax', 'unthink', 'untouch', 'untru', 'unus', 'unusu', 'unveil', 'unveilednnth', 'unwant', 'unwelcom', 'unwil', 'unwilling', 'unwind', 'unwis', 'unwit', 'unwork', 'up', 'upandcom', 'upbeat', 'upcom', 'updat', 'upfront', 'upgrad', 'upheld', 'uphil', 'uphold', 'uplift', 'upload', 'upn', 'upnnan', 'upnnth', 'upon', 'upper', 'upright', 'upris', 'upset', 'upsid', 'upstair', 'upsurg', 'upsw', 'uptak', 'uptod', 'upton', 'upturn', 'upward', 'uranium', 'urban', 'urg', 'urgenc', 'urgent', 'urin', 'uruguay', 'us', 'usa', 'usabl', 'usada', 'usag', 'usb', 'usbas', 'use', 'useless', 'usenna', 'usenncongratul', 'usennth', 'user', 'userfriend', 'usernam', 'usersnna', 'usersnnnoon', 'usgerman', 'usher', 'usl', 'usn', 'usnnon', 'usnnth', 'uss', 'usual', 'utah', 'utd', 'util', 'utilis', 'utmost', 'utter', 'uturn', 'uv', 'uwb', 'v3', 'vacant', 'vacat', 'vaccin', 'vader', 'vagu', 'valbon', 'valencia', 'valent', 'valentin', 'valid', 'valley', 'valu', 'valuabl', 'valuat', 'valuead', 'valuesn', 'valv', 'vampir', 'van', 'vandal', 'vanessa', 'vanish', 'vaniti', 'vapourwar', 'varga', 'vari', 'variant', 'variat', 'varieti', 'various', 'vast', 'vat', 'vaughan', 'vaughn', 'vault', 'vaulter', 'vaunt', 'vauxhal', 'vaz', 'vcr', 'vcrs', 'vega', 'veget', 'vehicl', 'veil', 'velimir', 'vendor', 'vener', 'venezuela', 'venezuelan', 'venic', 'ventur', 'venu', 'venus', 'vera', 'veracruz', 'verbal', 'verdict', 'verg', 'verifi', 'verisign', 'verita', 'verizon', 'versa', 'versatil', 'version', 'versus', 'vertic', 'vertigo', 'verv', 'verwaayen', 'vessel', 'vestey', 'vet', 'veteran', 'vetham', 'veto', 'vh1', 'vhs', 'via', 'viabil', 'viabl', 'viacom', 'vialli', 'vibrant', 'vic', 'vicar', 'vice', 'vicecaptain', 'vicechairman', 'vicepresid', 'vicious', 'vickeri', 'vicki', 'victim', 'victimis', 'victimsnnth', 'victor', 'victori', 'victoria', 'victorian', 'video', 'videonnth', 'videoondemand', 'viduka', 'vie', 'vieira', 'vienna', 'vietnam', 'view', 'viewer', 'viewingnnth', 'viewpoint', 'vigilant', 'vignal', 'vigor', 'vijay', 'vike', 'viktor', 'villa', 'villag', 'villain', 'villar', 'villier', 'vinc', 'vincent', 'vincenzo', 'vinci', 'vindic', 'vindict', 'vine', 'vinyl', 'violat', 'violenc', 'violent', 'virgin', 'virginia', 'virtu', 'virtual', 'virus', 'virusfight', 'virusnnth', 'visa', 'visagi', 'visibl', 'vision', 'visit', 'visitor', 'vista', 'visual', 'visualis', 'vital', 'vivendi', 'vivid', 'vj', 'vladimir', 'vocabulari', 'vocal', 'vocat', 'vocifer', 'vodafon', 'vodka', 'vogt', 'voic', 'voiceov', 'void', 'voip', 'volatil', 'volkswagen', 'volley', 'voltag', 'volum', 'volunt', 'voluntari', 'voluntarili', 'volvo', 'von', 'vote', 'votennmr', 'votennpolit', 'voter', 'votersnngordon', 'votersnnh', 'votersnnth', 'voucher', 'vow', 'voyc', 'vozvrashcheni', 'vs', 'vuitton', 'vulcan', 'vulner', 'vw', 'vy', 'vyvyan', 'w800', 'wada', 'wade', 'wadi', 'wage', 'wager', 'wagon', 'wait', 'waiter', 'waiv', 'wake', 'wakeup', 'walden', 'wale', 'walesnnwal', 'walk', 'walker', 'walkman', 'walkout', 'wall', 'wallabi', 'wallac', 'wallet', 'walliam', 'wallpap', 'walmart', 'walsh', 'walt', 'walter', 'wanadoo', 'wander', 'wanderley', 'wandsworth', 'wane', 'wang', 'want', 'wantn', 'wap', 'wappush', 'war', 'warcraft', 'ward', 'warden', 'wardrob', 'ware', 'warehous', 'warfar', 'wari', 'warm', 'warmth', 'warmup', 'warn', 'warnedn', 'warnednnth', 'warner', 'warnock', 'warp', 'warrant', 'warren', 'warrior', 'wartim', 'wartorn', 'warwick', 'wash', 'washington', 'washingtonbas', 'wasnt', 'wasp', 'wass', 'wasserstein', 'wast', 'watch', 'watchdog', 'watcher', 'water', 'waterford', 'watersh', 'watford', 'watkin', 'watson', 'watt', 'waugh', 'wave', 'wavelength', 'waverley', 'way', 'wayn', 'waynnif', 'waysid', 'waysn', 'wayward', 'wcdma', 'weak', 'weaken', 'weaker', 'weakest', 'wealth', 'wealthi', 'wealthiest', 'weapon', 'wear', 'wearabl', 'weather', 'weaver', 'web', 'webb', 'webbas', 'webber', 'webcam', 'webcast', 'weblog', 'webnnmor', 'webpag', 'webroot', 'websidestori', 'websit', 'websitennfor', 'websitennth', 'websitesn', 'webster', 'wed', 'wednesday', 'wednesdayn', 'wednesdaynnth', 'wee', 'weed', 'week', 'weekend', 'weekendnnth', 'weeklong', 'weekn', 'weeknnhi', 'weeknnth', 'weeksn', 'weeksnnin', 'weeksnnth', 'weep', 'wef', 'weigh', 'weight', 'weingarten', 'weinstein', 'weir', 'weird', 'weis', 'weiss', 'welch', 'welcom', 'welfar', 'well', 'wellb', 'welldesign', 'welldocu', 'wellington', 'wellknown', 'wellmanag', 'welln', 'wellnnhow', 'wellplac', 'wellpublicis', 'wellstruck', 'welsh', 'welshman', 'welter', 'wembley', 'wendi', 'wenger', 'went', 'werent', 'werner', 'wes', 'west', 'western', 'westlif', 'westminst', 'weston', 'westwood', 'wet', 'weve', 'weyman', 'wgbhboston', 'wham', 'wharf', 'what', 'whatev', 'whatsoev', 'wheatley', 'wheel', 'wheelchair', 'whelan', 'whenev', 'wherea', 'whereabout', 'wherebi', 'wherev', 'whether', 'whichev', 'whilst', 'whim', 'whine', 'whing', 'whip', 'whisk', 'whiski', 'whisper', 'whistl', 'whistleblow', 'whistlestop', 'whitbread', 'whitcomb', 'white', 'whitehal', 'whitlock', 'whittl', 'whoever', 'whole', 'wholeheart', 'wholesal', 'wholl', 'wholli', 'whos', 'whose', 'wick', 'wide', 'wideangl', 'widearea', 'widelypredict', 'widen', 'wider', 'widerang', 'widespread', 'widow', 'wield', 'wife', 'wifi', 'wigan', 'wight', 'wigley', 'wiland', 'wild', 'wildcard', 'wilder', 'wildlif', 'wiley', 'wilkinson', 'will', 'willett', 'willi', 'william', 'williamsnnth', 'williamson', 'willing', 'willowfield', 'wilson', 'wilt', 'wiltshir', 'wimax', 'wimbledon', 'wimbledonnnworld', 'win', 'wind', 'windfal', 'window', 'windsor', 'wine', 'winehous', 'winemak', 'winetast', 'wing', 'winger', 'winless', 'winn', 'winnabl', 'winndixi', 'winner', 'winnernni', 'winnernnth', 'winnncarlo', 'winnnth', 'winslet', 'winsletn', 'winston', 'winter', 'winterbottom', 'winwin', 'wipe', 'wippit', 'wire', 'wireless', 'wisdom', 'wise', 'wish', 'wit', 'witch', 'withdraw', 'withdrawn', 'withdrew', 'withheld', 'withhold', 'within', 'without', 'withprofit', 'withstand', 'withstood', 'witti', 'wive', 'wizard', 'wmc', 'wmcs', 'woe', 'woeful', 'woefulli', 'woken', 'wolf', 'wolfgang', 'wolv', 'woman', 'women', 'womennnreact', 'wonder', 'wong', 'wonn', 'wont', 'wontnnour', 'woo', 'wood', 'wooden', 'woodhil', 'woodsman', 'woodward', 'woolf', 'woolwich', 'woolworth', 'worcest', 'word', 'wore', 'work', 'workabl', 'worker', 'workersnnth', 'workforc', 'workingclass', 'workload', 'workmanlik', 'workn', 'worknnth', 'workplac', 'workrat', 'workstat', 'world', 'worldclass', 'worldcom', 'worldlead', 'worldn', 'worldnnth', 'worldnnthat', 'worldwid', 'worm', 'worn', 'worri', 'wors', 'worsen', 'worsenn', 'worsethanexpect', 'worsley', 'worst', 'worstaffect', 'worsthit', 'worth', 'worthi', 'worthington', 'worthless', 'worthwhil', 'would', 'wouldb', 'wouldnt', 'wound', 'woven', 'wow', 'wrangl', 'wrap', 'wreck', 'wrestl', 'wrexham', 'wri', 'wright', 'wrightphillip', 'wrist', 'wristwatch', 'write', 'writer', 'writerdirector', 'written', 'wrong', 'wrongdo', 'wrote', 'wru', 'wsj', 'wta', 'wto', 'wtos', 'wwii', 'wyatt', 'wynn', 'x1', 'xabi', 'xavier', 'xbox', 'xboxnnalthough', 'xc2xa31', 'xc2xa310', 'xc2xa3100', 'xc2xa31000', 'xc2xa310000', 'xc2xa3100000', 'xc2xa3100m', 'xc2xa3103m', 'xc2xa3104m', 'xc2xa3105', 'xc2xa3105bn', 'xc2xa3105m', 'xc2xa3106bn', 'xc2xa3109m', 'xc2xa310bn', 'xc2xa310m', 'xc2xa311000', 'xc2xa3110m', 'xc2xa31152m', 'xc2xa3115m', 'xc2xa3117m', 'xc2xa3119m', 'xc2xa311bn', 'xc2xa311m', 'xc2xa312000', 'xc2xa3125bn', 'xc2xa3125m', 'xc2xa312bn', 'xc2xa312m', 'xc2xa313', 'xc2xa3130', 'xc2xa3130m', 'xc2xa3132', 'xc2xa3134m', 'xc2xa3135bn', 'xc2xa3138m', 'xc2xa313bn', 'xc2xa313m', 'xc2xa314', 'xc2xa3140m', 'xc2xa3145bn', 'xc2xa314bn', 'xc2xa314m', 'xc2xa315000', 'xc2xa3150000', 'xc2xa3153m', 'xc2xa3154m', 'xc2xa3155bn', 'xc2xa315bn', 'xc2xa315m', 'xc2xa3160m', 'xc2xa316bn', 'xc2xa31700', 'xc2xa3170m', 'xc2xa3178m', 'xc2xa317bn', 'xc2xa317m', 'xc2xa3189733', 'xc2xa318bn', 'xc2xa318m', 'xc2xa319', 'xc2xa3190329', 'xc2xa3190m', 'xc2xa3191m', 'xc2xa3192m', 'xc2xa3194m', 'xc2xa3196m', 'xc2xa3197bn', 'xc2xa3198m', 'xc2xa319m', 'xc2xa31bn', 'xc2xa31m', 'xc2xa32', 'xc2xa320', 'xc2xa3200', 'xc2xa32000', 'xc2xa320000', 'xc2xa3200m', 'xc2xa3206m', 'xc2xa320m', 'xc2xa3213m', 'xc2xa3215bn', 'xc2xa321bn', 'xc2xa321m', 'xc2xa322000', 'xc2xa3220m', 'xc2xa322bn', 'xc2xa322m', 'xc2xa3230bn', 'xc2xa3231m', 'xc2xa3245m', 'xc2xa324m', 'xc2xa325', 'xc2xa3250', 'xc2xa32500', 'xc2xa325000', 'xc2xa3250000', 'xc2xa3250m', 'xc2xa3255bn', 'xc2xa325bn', 'xc2xa325m', 'xc2xa3264m', 'xc2xa3265m', 'xc2xa326bn', 'xc2xa326m', 'xc2xa327bn', 'xc2xa327m', 'xc2xa3285m', 'xc2xa328bn', 'xc2xa328m', 'xc2xa329', 'xc2xa329bn', 'xc2xa32bn', 'xc2xa32m', 'xc2xa33', 'xc2xa3300', 'xc2xa33000', 'xc2xa330000', 'xc2xa3300000', 'xc2xa3300m', 'xc2xa330m', 'xc2xa330mplus', 'xc2xa3313m', 'xc2xa331bn', 'xc2xa332bn', 'xc2xa3339', 'xc2xa334', 'xc2xa334bn', 'xc2xa335', 'xc2xa3350', 'xc2xa335000', 'xc2xa3350m', 'xc2xa335bn', 'xc2xa335m', 'xc2xa335mnnparri', 'xc2xa336bn', 'xc2xa337bn', 'xc2xa3398m', 'xc2xa3399', 'xc2xa33bn', 'xc2xa33m', 'xc2xa34', 'xc2xa340', 'xc2xa3400', 'xc2xa3400m', 'xc2xa340m', 'xc2xa3415m', 'xc2xa341m', 'xc2xa3424m', 'xc2xa3425', 'xc2xa3425m', 'xc2xa3429m', 'xc2xa342m', 'xc2xa343bn', 'xc2xa343m', 'xc2xa3450', 'xc2xa3456m', 'xc2xa345bn', 'xc2xa345m', 'xc2xa346bn', 'xc2xa346m', 'xc2xa34745', 'xc2xa348bn', 'xc2xa3499', 'xc2xa34bn', 'xc2xa34m', 'xc2xa35', 'xc2xa350', 'xc2xa3500', 'xc2xa35000', 'xc2xa350000', 'xc2xa3500000', 'xc2xa3500m', 'xc2xa350bn', 'xc2xa350m', 'xc2xa352m', 'xc2xa3532m', 'xc2xa3535', 'xc2xa3535000', 'xc2xa353bn', 'xc2xa3550m', 'xc2xa355bn', 'xc2xa357bn', 'xc2xa3581m', 'xc2xa359m', 'xc2xa35bn', 'xc2xa35m', 'xc2xa36', 'xc2xa3600', 'xc2xa360000', 'xc2xa360bn', 'xc2xa362m', 'xc2xa3630', 'xc2xa365m', 'xc2xa367m', 'xc2xa3680', 'xc2xa36bn', 'xc2xa36m', 'xc2xa370m', 'xc2xa371bn', 'xc2xa3720m', 'xc2xa372m', 'xc2xa37455', 'xc2xa3750m', 'xc2xa375m', 'xc2xa377m', 'xc2xa379m', 'xc2xa37m', 'xc2xa38', 'xc2xa38000', 'xc2xa380000', 'xc2xa3800m', 'xc2xa380m', 'xc2xa385', 'xc2xa3857m', 'xc2xa385bn', 'xc2xa38bn', 'xc2xa38m', 'xc2xa3900m', 'xc2xa394', 'xc2xa3947m', 'xc2xa394m', 'xc2xa3960m', 'xc2xa396bn', 'xc2xa399', 'xc2xa399m', 'xc2xa39m', 'xenon', 'xfactor', 'xfriend', 'xhosa', 'xiluodu', 'xinhua', 'xmen', 'xp', 'xray', 'xstrata', 'xv', 'xxx', 'ya', 'yachvili', 'yahoo', 'yamaha', 'yang', 'yangtz', 'yann', 'yannick', 'yapp', 'yard', 'yarnton', 'yaron', 'yate', 'yawn', 'yeah', 'year', 'yearago', 'yearlong', 'yearn', 'yearnnbut', 'yearnncel', 'yearnneven', 'yearnnin', 'yearnnmr', 'yearnnoth', 'yearnnstil', 'yearnnth', 'yearnnwhen', 'yearold', 'yearonyear', 'yearsn', 'yearsnnh', 'yearsnni', 'yearsnnth', 'yearsnnwith', 'yelena', 'yell', 'yellow', 'yen', 'yeo', 'yepp', 'yes', 'yesterday', 'yet', 'yetn', 'yh999', 'yield', 'yimous', 'yob', 'yoga', 'york', 'yorkbas', 'yorker', 'yorknnth', 'yorkshir', 'yorkshiren', 'youd', 'yougov', 'youll', 'young', 'younger', 'youngest', 'youngster', 'younnth', 'your', 'youth', 'youv', 'youzhni', 'yuan', 'yugansk', 'yuganskneftega', 'yuganskneftegaz', 'yugoslavian', 'yuko', 'yulia', 'yuri', 'yushchenko', 'yusuf', 'yvett', 'zach', 'zajec', 'zambia', 'zambian', 'zatoichi', 'zealand', 'zealandn', 'zeeuw', 'zelda', 'zellweg', 'zen', 'zenden', 'zenith', 'zeppelin', 'zero', 'zeta', 'zhang', 'zhaox', 'zheng', 'zidan', 'zillion', 'zimbabw', 'zinc', 'zinedin', 'zip', 'ziyi', 'zodiac', 'zoe', 'zola', 'zombi', 'zone', 'zoom', 'zoomsnnmor', 'zurich', 'zvonareva', 'zvyagintsev']\n"
          ],
          "name": "stdout"
        }
      ]
    },
    {
      "cell_type": "code",
      "metadata": {
        "colab": {
          "base_uri": "https://localhost:8080/"
        },
        "id": "xhbzn38Mlv4F",
        "outputId": "447e965c-5add-4294-90cc-4beaa5e684d5"
      },
      "source": [
        "len(vectorizer.get_feature_names())"
      ],
      "execution_count": 39,
      "outputs": [
        {
          "output_type": "execute_result",
          "data": {
            "text/plain": [
              "14197"
            ]
          },
          "metadata": {
            "tags": []
          },
          "execution_count": 39
        }
      ]
    },
    {
      "cell_type": "code",
      "metadata": {
        "id": "2l-MtT-Plvzb"
      },
      "source": [
        ""
      ],
      "execution_count": null,
      "outputs": []
    },
    {
      "cell_type": "code",
      "metadata": {
        "id": "ELTv8PWdlvuJ"
      },
      "source": [
        ""
      ],
      "execution_count": null,
      "outputs": []
    },
    {
      "cell_type": "code",
      "metadata": {
        "id": "x5cNgVt6lvqN"
      },
      "source": [
        ""
      ],
      "execution_count": null,
      "outputs": []
    },
    {
      "cell_type": "code",
      "metadata": {
        "id": "88jamqTrlvmH"
      },
      "source": [
        ""
      ],
      "execution_count": null,
      "outputs": []
    },
    {
      "cell_type": "code",
      "metadata": {
        "id": "Lzfz0MlYlvi3"
      },
      "source": [
        ""
      ],
      "execution_count": null,
      "outputs": []
    },
    {
      "cell_type": "code",
      "metadata": {
        "id": "So8ETKNQlMs_"
      },
      "source": [
        "# Latent Dirichlet Allocation"
      ],
      "execution_count": null,
      "outputs": []
    },
    {
      "cell_type": "code",
      "metadata": {
        "id": "qet4PggLpb_7"
      },
      "source": [
        "from sklearn.decomposition import TruncatedSVD\r\n",
        "from sklearn.decomposition import LatentDirichletAllocation\r\n",
        "from sklearn.manifold import TSNE"
      ],
      "execution_count": 35,
      "outputs": []
    },
    {
      "cell_type": "code",
      "metadata": {
        "colab": {
          "base_uri": "https://localhost:8080/"
        },
        "id": "seSABnSxli1z",
        "outputId": "ac934b63-2b2a-4987-9184-b4667e563bd3"
      },
      "source": [
        "lda = LatentDirichletAllocation()\r\n",
        "lda.fit(news1)"
      ],
      "execution_count": 40,
      "outputs": [
        {
          "output_type": "execute_result",
          "data": {
            "text/plain": [
              "LatentDirichletAllocation(batch_size=128, doc_topic_prior=None,\n",
              "                          evaluate_every=-1, learning_decay=0.7,\n",
              "                          learning_method='batch', learning_offset=10.0,\n",
              "                          max_doc_update_iter=100, max_iter=10,\n",
              "                          mean_change_tol=0.001, n_components=10, n_jobs=None,\n",
              "                          perp_tol=0.1, random_state=None,\n",
              "                          topic_word_prior=None, total_samples=1000000.0,\n",
              "                          verbose=0)"
            ]
          },
          "metadata": {
            "tags": []
          },
          "execution_count": 40
        }
      ]
    },
    {
      "cell_type": "code",
      "metadata": {
        "colab": {
          "base_uri": "https://localhost:8080/"
        },
        "id": "4e0xfjmQliyW",
        "outputId": "40e33c88-78f7-4045-9a0a-ff840ef1c0f9"
      },
      "source": [
        "!pip install pyLDAvis"
      ],
      "execution_count": 41,
      "outputs": [
        {
          "output_type": "stream",
          "text": [
            "Collecting pyLDAvis\n",
            "\u001b[?25l  Downloading https://files.pythonhosted.org/packages/a5/3a/af82e070a8a96e13217c8f362f9a73e82d61ac8fff3a2561946a97f96266/pyLDAvis-2.1.2.tar.gz (1.6MB)\n",
            "\u001b[K     |████████████████████████████████| 1.6MB 5.4MB/s \n",
            "\u001b[?25hRequirement already satisfied: wheel>=0.23.0 in /usr/local/lib/python3.6/dist-packages (from pyLDAvis) (0.36.2)\n",
            "Requirement already satisfied: numpy>=1.9.2 in /usr/local/lib/python3.6/dist-packages (from pyLDAvis) (1.19.5)\n",
            "Requirement already satisfied: scipy>=0.18.0 in /usr/local/lib/python3.6/dist-packages (from pyLDAvis) (1.4.1)\n",
            "Requirement already satisfied: pandas>=0.17.0 in /usr/local/lib/python3.6/dist-packages (from pyLDAvis) (1.1.5)\n",
            "Requirement already satisfied: joblib>=0.8.4 in /usr/local/lib/python3.6/dist-packages (from pyLDAvis) (1.0.0)\n",
            "Requirement already satisfied: jinja2>=2.7.2 in /usr/local/lib/python3.6/dist-packages (from pyLDAvis) (2.11.2)\n",
            "Requirement already satisfied: numexpr in /usr/local/lib/python3.6/dist-packages (from pyLDAvis) (2.7.2)\n",
            "Requirement already satisfied: pytest in /usr/local/lib/python3.6/dist-packages (from pyLDAvis) (3.6.4)\n",
            "Requirement already satisfied: future in /usr/local/lib/python3.6/dist-packages (from pyLDAvis) (0.16.0)\n",
            "Collecting funcy\n",
            "  Downloading https://files.pythonhosted.org/packages/66/89/479de0afbbfb98d1c4b887936808764627300208bb771fcd823403645a36/funcy-1.15-py2.py3-none-any.whl\n",
            "Requirement already satisfied: pytz>=2017.2 in /usr/local/lib/python3.6/dist-packages (from pandas>=0.17.0->pyLDAvis) (2018.9)\n",
            "Requirement already satisfied: python-dateutil>=2.7.3 in /usr/local/lib/python3.6/dist-packages (from pandas>=0.17.0->pyLDAvis) (2.8.1)\n",
            "Requirement already satisfied: MarkupSafe>=0.23 in /usr/local/lib/python3.6/dist-packages (from jinja2>=2.7.2->pyLDAvis) (1.1.1)\n",
            "Requirement already satisfied: more-itertools>=4.0.0 in /usr/local/lib/python3.6/dist-packages (from pytest->pyLDAvis) (8.6.0)\n",
            "Requirement already satisfied: setuptools in /usr/local/lib/python3.6/dist-packages (from pytest->pyLDAvis) (51.3.3)\n",
            "Requirement already satisfied: atomicwrites>=1.0 in /usr/local/lib/python3.6/dist-packages (from pytest->pyLDAvis) (1.4.0)\n",
            "Requirement already satisfied: py>=1.5.0 in /usr/local/lib/python3.6/dist-packages (from pytest->pyLDAvis) (1.10.0)\n",
            "Requirement already satisfied: attrs>=17.4.0 in /usr/local/lib/python3.6/dist-packages (from pytest->pyLDAvis) (20.3.0)\n",
            "Requirement already satisfied: pluggy<0.8,>=0.5 in /usr/local/lib/python3.6/dist-packages (from pytest->pyLDAvis) (0.7.1)\n",
            "Requirement already satisfied: six>=1.10.0 in /usr/local/lib/python3.6/dist-packages (from pytest->pyLDAvis) (1.15.0)\n",
            "Building wheels for collected packages: pyLDAvis\n",
            "  Building wheel for pyLDAvis (setup.py) ... \u001b[?25l\u001b[?25hdone\n",
            "  Created wheel for pyLDAvis: filename=pyLDAvis-2.1.2-py2.py3-none-any.whl size=97712 sha256=6fa3597bdb44af4b2d6a2dd6800cdc9e604499c260803a0042974021ebea9041\n",
            "  Stored in directory: /root/.cache/pip/wheels/98/71/24/513a99e58bb6b8465bae4d2d5e9dba8f0bef8179e3051ac414\n",
            "Successfully built pyLDAvis\n",
            "Installing collected packages: funcy, pyLDAvis\n",
            "Successfully installed funcy-1.15 pyLDAvis-2.1.2\n"
          ],
          "name": "stdout"
        }
      ]
    },
    {
      "cell_type": "code",
      "metadata": {
        "id": "siRP7jyTlivI"
      },
      "source": [
        "import pyLDAvis.sklearn\r\n",
        "\r\n",
        "pyLDAvis.enable_notebook()"
      ],
      "execution_count": 42,
      "outputs": []
    },
    {
      "cell_type": "code",
      "metadata": {
        "id": "jWNYbAEelirp"
      },
      "source": [
        "lda_panel = pyLDAvis.sklearn.prepare(best_lda_model, small_document_term_matrix,small_count_vectorizer,mds='tsne')\r\n",
        "lda_panel"
      ],
      "execution_count": null,
      "outputs": []
    },
    {
      "cell_type": "code",
      "metadata": {
        "id": "D_J8XFWGliBm"
      },
      "source": [
        ""
      ],
      "execution_count": null,
      "outputs": []
    },
    {
      "cell_type": "code",
      "metadata": {
        "id": "lMce55hBlMng"
      },
      "source": [
        ""
      ],
      "execution_count": null,
      "outputs": []
    },
    {
      "cell_type": "code",
      "metadata": {
        "id": "WYrblqVWqhOZ"
      },
      "source": [
        ""
      ],
      "execution_count": null,
      "outputs": []
    },
    {
      "cell_type": "code",
      "metadata": {
        "id": "32WotOt0qhKm"
      },
      "source": [
        ""
      ],
      "execution_count": null,
      "outputs": []
    },
    {
      "cell_type": "code",
      "metadata": {
        "id": "_V39iiCxqhGm"
      },
      "source": [
        ""
      ],
      "execution_count": null,
      "outputs": []
    },
    {
      "cell_type": "code",
      "metadata": {
        "id": "ayOZO4BTqhDH"
      },
      "source": [
        ""
      ],
      "execution_count": null,
      "outputs": []
    },
    {
      "cell_type": "code",
      "metadata": {
        "id": "ZVlSUzUpgxdb"
      },
      "source": [
        "# Collect vocabulary count"
      ],
      "execution_count": null,
      "outputs": []
    },
    {
      "cell_type": "code",
      "metadata": {
        "id": "miNTxXVChevp"
      },
      "source": [
        "# create a count vectorizer object\r\n",
        "count_vectorizer = CountVectorizer()\r\n",
        "# fit the count vectorizer using the text data\r\n",
        "count_vectorizer.fit(data['text'])\r\n",
        "# collect the vocabulary items used in the vectorizer\r\n",
        "dictionary = count_vectorizer.vocabulary_.items()"
      ],
      "execution_count": null,
      "outputs": []
    },
    {
      "cell_type": "code",
      "metadata": {
        "id": "5j8DZoOIhesU"
      },
      "source": [
        "#Store the vocab and counts in a pandas dataframe"
      ],
      "execution_count": 4,
      "outputs": []
    },
    {
      "cell_type": "code",
      "metadata": {
        "id": "RHQeHroEheod"
      },
      "source": [
        "# lists to store the vocab and counts\r\n",
        "vocab = []\r\n",
        "count = []\r\n",
        "# iterate through each vocab and count append the value to designated lists\r\n",
        "for key, value in dictionary:\r\n",
        "    vocab.append(key)\r\n",
        "    count.append(value)\r\n",
        "# store the count in panadas dataframe with vocab as index\r\n",
        "vocab_bef_stem = pd.Series(count, index=vocab)\r\n",
        "# sort the dataframe\r\n",
        "vocab_bef_stem = vocab_bef_stem.sort_values(ascending=False)"
      ],
      "execution_count": null,
      "outputs": []
    },
    {
      "cell_type": "code",
      "metadata": {
        "id": "fcj2hraOhek1"
      },
      "source": [
        "top_vacab = vocab_bef_stem.head(20)\r\n",
        "top_vacab.plot(kind = 'barh', figsize=(5,10), xlim= (25230, 25260))"
      ],
      "execution_count": null,
      "outputs": []
    },
    {
      "cell_type": "code",
      "metadata": {
        "id": "jOgh_MgNhrTO"
      },
      "source": [
        ""
      ],
      "execution_count": null,
      "outputs": []
    },
    {
      "cell_type": "code",
      "metadata": {
        "id": "HM5b0KDXhrMi"
      },
      "source": [
        ""
      ],
      "execution_count": null,
      "outputs": []
    },
    {
      "cell_type": "code",
      "metadata": {
        "id": "0g7EFPBPhrHv"
      },
      "source": [
        ""
      ],
      "execution_count": null,
      "outputs": []
    },
    {
      "cell_type": "code",
      "metadata": {
        "id": "Byf_bPTnhrCw"
      },
      "source": [
        ""
      ],
      "execution_count": null,
      "outputs": []
    },
    {
      "cell_type": "code",
      "metadata": {
        "id": "iLWW8xvThq-m"
      },
      "source": [
        ""
      ],
      "execution_count": null,
      "outputs": []
    },
    {
      "cell_type": "code",
      "metadata": {
        "id": "pBEmLmrBhq6Y"
      },
      "source": [
        ""
      ],
      "execution_count": null,
      "outputs": []
    },
    {
      "cell_type": "code",
      "metadata": {
        "id": "u1vQ31emgxXC"
      },
      "source": [
        "from sklearn.feature_extraction.text import TfidfVectorizer"
      ],
      "execution_count": null,
      "outputs": []
    },
    {
      "cell_type": "code",
      "metadata": {
        "id": "0FB3oYfRXmPx"
      },
      "source": [
        "vectorizer = TfidfVectorizer(max_df = 0.9,min_df = 2)\r\n",
        "X = vectorizer.fit_transform(message['tokenized_message'])"
      ],
      "execution_count": null,
      "outputs": []
    },
    {
      "cell_type": "code",
      "metadata": {
        "id": "FXMlfqzxir1Q"
      },
      "source": [
        "# list of unique words found by the vectorizer"
      ],
      "execution_count": null,
      "outputs": []
    },
    {
      "cell_type": "code",
      "metadata": {
        "id": "B9A_65nOXmL0"
      },
      "source": [
        "print(vectorizer.get_feature_names())"
      ],
      "execution_count": null,
      "outputs": []
    },
    {
      "cell_type": "code",
      "metadata": {
        "id": "Yum_PjJTIoFo"
      },
      "source": [
        "len(vectorizer.get_feature_names())"
      ],
      "execution_count": null,
      "outputs": []
    },
    {
      "cell_type": "code",
      "metadata": {
        "id": "sJiZXJ7iECW2"
      },
      "source": [
        "# number of most influencing words to display per topic\r\n",
        "n_top_words = 15\r\n",
        "\r\n",
        "for i, topic_vec in enumerate(cls.components_):\r\n",
        "    print(i, end=' ')\r\n",
        "    # topic_vec.argsort() produces a new array\r\n",
        "    # in which word_index with the least score is the\r\n",
        "    # first array element and word_index with highest\r\n",
        "    # score is the last array element. Then using a\r\n",
        "    # fancy indexing [-1: -n_top_words-1:-1], we are\r\n",
        "    # slicing the array from its end in such a way that\r\n",
        "    # top `n_top_words` word_index with highest scores\r\n",
        "    # are returned in desceding order\r\n",
        "    for fid in topic_vec.argsort()[-1:-n_top_words-1:-1]:\r\n",
        "        print(feature_names[fid], end=' ')\r\n",
        "    print()"
      ],
      "execution_count": null,
      "outputs": []
    },
    {
      "cell_type": "code",
      "metadata": {
        "id": "BWVTjyWZECT3"
      },
      "source": [
        ""
      ],
      "execution_count": null,
      "outputs": []
    },
    {
      "cell_type": "code",
      "metadata": {
        "id": "ZIqefJaAdE86"
      },
      "source": [
        ""
      ],
      "execution_count": null,
      "outputs": []
    },
    {
      "cell_type": "code",
      "metadata": {
        "id": "gVFLZOHldE3l"
      },
      "source": [
        "# s"
      ],
      "execution_count": null,
      "outputs": []
    },
    {
      "cell_type": "code",
      "metadata": {
        "id": "nyXO2hLQeQGI"
      },
      "source": [
        "ps=nltk.PorterStemmer()"
      ],
      "execution_count": null,
      "outputs": []
    },
    {
      "cell_type": "code",
      "metadata": {
        "id": "6pYGT8FaeQSo"
      },
      "source": [
        "# function for removing punctuation\r\n",
        "import string\r\n",
        "\r\n",
        "def count_punct(text):\r\n",
        "    count = sum([1 for char in text if char in string.punctuation])\r\n",
        "    return round(count/(len(text) - text.count(\" \")), 3)*100"
      ],
      "execution_count": null,
      "outputs": []
    },
    {
      "cell_type": "code",
      "metadata": {
        "id": "6kZMyFy6eGlr"
      },
      "source": [
        "# creating function for cleaning text\r\n",
        "\r\n",
        "import re\r\n",
        "import string\r\n",
        "\r\n",
        "def clean_text(text):\r\n",
        "    text = \"\".join([word.lower() for word in text if word not in string.punctuation])\r\n",
        "    tokens = re.split('\\W+', text)\r\n",
        "    text = [ps.stem(word) for word in tokens if word not in stopwords]\r\n",
        "    return text"
      ],
      "execution_count": null,
      "outputs": []
    },
    {
      "cell_type": "code",
      "metadata": {
        "id": "mjVMMG7beWo4"
      },
      "source": [
        "# implementing TF-IDF Vectorizer\r\n",
        "from sklearn.feature_extraction.text import TfidfVectorizer\r\n",
        "tfidf_vect=TfidfVectorizer(analyzer=clean_text)"
      ],
      "execution_count": null,
      "outputs": []
    },
    {
      "cell_type": "code",
      "metadata": {
        "id": "iAcEvah1eWlE"
      },
      "source": [
        ""
      ],
      "execution_count": null,
      "outputs": []
    },
    {
      "cell_type": "code",
      "metadata": {
        "id": "XeIcqNuPeWg0"
      },
      "source": [
        ""
      ],
      "execution_count": null,
      "outputs": []
    },
    {
      "cell_type": "code",
      "metadata": {
        "id": "Bvgk-dgGeGhr"
      },
      "source": [
        ""
      ],
      "execution_count": null,
      "outputs": []
    },
    {
      "cell_type": "code",
      "metadata": {
        "id": "VRRzyj-geGeb"
      },
      "source": [
        ""
      ],
      "execution_count": null,
      "outputs": []
    },
    {
      "cell_type": "code",
      "metadata": {
        "id": "p_cP_TzaeGbB"
      },
      "source": [
        "# c"
      ],
      "execution_count": null,
      "outputs": []
    },
    {
      "cell_type": "code",
      "metadata": {
        "id": "hOGz984bdEzP"
      },
      "source": [
        "\r\n",
        "def lemmatization(texts):\r\n",
        "  sentence=''\r\n",
        "  allowed_postags=['NOUN','ADJ','VERB','ADV']\r\n",
        "  texts_out=[]\r\n",
        "  doc=nlp(texts)\r\n",
        "  texts_out.append([token.lemma_ for token in doc if token.pos_ in allowed_postags])\r\n",
        "  return ' '.join(texts_out[0])"
      ],
      "execution_count": null,
      "outputs": []
    },
    {
      "cell_type": "code",
      "metadata": {
        "id": "-_7Gxrj5dEv2"
      },
      "source": [
        "nlp=spacy.load('en',disable=['parser', 'ner'])\r\n",
        "df['news']=df['news'].apply(lemmatization)"
      ],
      "execution_count": null,
      "outputs": []
    },
    {
      "cell_type": "code",
      "metadata": {
        "id": "MS_SaY7KdErT"
      },
      "source": [
        ""
      ],
      "execution_count": null,
      "outputs": []
    },
    {
      "cell_type": "code",
      "metadata": {
        "id": "nEF6BWR_ECRc"
      },
      "source": [
        ""
      ],
      "execution_count": null,
      "outputs": []
    },
    {
      "cell_type": "code",
      "metadata": {
        "id": "YPBniLpjECNy"
      },
      "source": [
        "def get_top_n_words(n_top_words, count_vectorizer, text_data):\r\n",
        "    '''\r\n",
        "    returns a tuple of the top n words in a sample and their \r\n",
        "    accompanying counts, given a CountVectorizer object and text sample\r\n",
        "    '''\r\n",
        "    vectorized_headlines = count_vectorizer.fit_transform(text_data.values)\r\n",
        "    vectorized_total = np.sum(vectorized_headlines, axis=0)\r\n",
        "    word_indices = np.flip(np.argsort(vectorized_total)[0,:], 1)\r\n",
        "    word_values = np.flip(np.sort(vectorized_total)[0,:],1)\r\n",
        "    \r\n",
        "    word_vectors = np.zeros((n_top_words, vectorized_headlines.shape[1]))\r\n",
        "    for i in range(n_top_words):\r\n",
        "        word_vectors[i,word_indices[0,i]] = 1\r\n",
        "\r\n",
        "    words = [word[0].encode('ascii').decode('utf-8') for \r\n",
        "             word in count_vectorizer.inverse_transform(word_vectors)]\r\n",
        "\r\n",
        "    return (words, word_values[0,:n_top_words].tolist()[0])"
      ],
      "execution_count": null,
      "outputs": []
    },
    {
      "cell_type": "code",
      "metadata": {
        "id": "982ARJ8CECKT"
      },
      "source": [
        "count_vectorizer = CountVectorizer()\r\n",
        "words, word_values = get_top_n_words(n_top_words=15,\r\n",
        "                                     count_vectorizer=count_vectorizer, \r\n",
        "                                     text_data=df['news'])\r\n",
        "\r\n",
        "fig, ax = plt.subplots(figsize=(16,8))\r\n",
        "ax.bar(range(len(words)), word_values)\r\n",
        "ax.set_xticks(range(len(words)))\r\n",
        "ax.set_xticklabels(words, rotation='vertical')\r\n",
        "ax.set_title('Top words in headlines dataset (excluding stop words)')\r\n",
        "ax.set_xlabel('Word')\r\n",
        "ax.set_ylabel('Number of occurences')\r\n",
        "plt.show()"
      ],
      "execution_count": null,
      "outputs": []
    },
    {
      "cell_type": "code",
      "metadata": {
        "id": "Eu3BdpK2ECHC"
      },
      "source": [
        "plt.figure(figsize=(15,10))\r\n",
        "allWords = ' '.join([topic for topic in df[df['type']=='sport']['news']])\r\n",
        "wordCloud = WordCloud(width=500, height=300, background_color=\"white\", random_state=21, max_font_size=110).generate(allWords)\r\n",
        "plt.imshow(wordCloud, interpolation=\"bilinear\")\r\n",
        "plt.axis('off')\r\n",
        "plt.show()"
      ],
      "execution_count": null,
      "outputs": []
    },
    {
      "cell_type": "code",
      "metadata": {
        "id": "9riSHcLShLoX"
      },
      "source": [
        "n_topics = 5\r\n",
        "\r\n",
        "from sklearn.feature_extraction.text import CountVectorizer, TfidfVectorizer\r\n",
        "vec = TfidfVectorizer(max_features=5000, max_df=0.8, min_df=0.1)\r\n",
        "features = vec.fit_transform(df.text)"
      ],
      "execution_count": null,
      "outputs": []
    },
    {
      "cell_type": "code",
      "metadata": {
        "id": "ulZ1HEzChQPr"
      },
      "source": [
        "df1 = pd.DataFrame(features.todense() , columns=vec.get_feature_names())"
      ],
      "execution_count": null,
      "outputs": []
    },
    {
      "cell_type": "code",
      "metadata": {
        "id": "7xSZM_CEEGaQ"
      },
      "source": [
        "df1.head()"
      ],
      "execution_count": null,
      "outputs": []
    },
    {
      "cell_type": "code",
      "metadata": {
        "id": "gMacqiYbiblz"
      },
      "source": [
        ""
      ],
      "execution_count": null,
      "outputs": []
    },
    {
      "cell_type": "code",
      "metadata": {
        "id": "lCZWnPWIibiD"
      },
      "source": [
        ""
      ],
      "execution_count": null,
      "outputs": []
    },
    {
      "cell_type": "code",
      "metadata": {
        "id": "VmMBF-MhibeN"
      },
      "source": [
        "# NMF"
      ],
      "execution_count": 5,
      "outputs": []
    },
    {
      "cell_type": "code",
      "metadata": {
        "id": "ZvydPD71idP2"
      },
      "source": [
        "from sklearn.decomposition import NMF\r\n",
        "cls = NMF(n_components=n_topics, random_state=random_state)\r\n",
        "cls.fit(features)"
      ],
      "execution_count": null,
      "outputs": []
    }
  ]
}